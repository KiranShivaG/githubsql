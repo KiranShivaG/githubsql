{
    "metadata": {
        "kernelspec": {
            "name": "SQL",
            "display_name": "SQL",
            "language": "sql"
        },
        "language_info": {
            "name": "sql",
            "version": ""
        }
    },
    "nbformat_minor": 2,
    "nbformat": 4,
    "cells": [
        {
            "cell_type": "code",
            "source": [
                "select * from EMPLOYEE;"
            ],
            "metadata": {
                "azdata_cell_guid": "2b130e76-4c31-4c1b-bcf3-83f122452adc",
                "language": "sql"
            },
            "outputs": [
                {
                    "output_type": "display_data",
                    "data": {
                        "text/html": "(15 rows affected)"
                    },
                    "metadata": {}
                },
                {
                    "output_type": "display_data",
                    "data": {
                        "text/html": "Total execution time: 00:00:00.009"
                    },
                    "metadata": {}
                },
                {
                    "output_type": "execute_result",
                    "execution_count": 4,
                    "data": {
                        "application/vnd.dataresource+json": {
                            "schema": {
                                "fields": [
                                    {
                                        "name": "Emp_NO"
                                    },
                                    {
                                        "name": "Emp_Name"
                                    },
                                    {
                                        "name": "Emp_Address"
                                    },
                                    {
                                        "name": "Dept_No"
                                    },
                                    {
                                        "name": "Dept_Name"
                                    },
                                    {
                                        "name": "Salary"
                                    },
                                    {
                                        "name": "HIREDATE"
                                    }
                                ]
                            },
                            "data": [
                                {
                                    "Emp_NO": "1",
                                    "Emp_Name": "Ramesh",
                                    "Emp_Address": "GNoida",
                                    "Dept_No": "3445",
                                    "Dept_Name": "Sales",
                                    "Salary": "25000",
                                    "HIREDATE": "2020-05-10"
                                },
                                {
                                    "Emp_NO": "2",
                                    "Emp_Name": "Suresh",
                                    "Emp_Address": "GNoida",
                                    "Dept_No": "72",
                                    "Dept_Name": "Sales",
                                    "Salary": "75000",
                                    "HIREDATE": "2015-04-12"
                                },
                                {
                                    "Emp_NO": "3",
                                    "Emp_Name": "Rajesh",
                                    "Emp_Address": "GNoida",
                                    "Dept_No": "2324",
                                    "Dept_Name": "Sales",
                                    "Salary": "28000",
                                    "HIREDATE": "2017-02-27"
                                },
                                {
                                    "Emp_NO": "4",
                                    "Emp_Name": "Shyamu",
                                    "Emp_Address": "BSB",
                                    "Dept_No": "8883",
                                    "Dept_Name": "Sales",
                                    "Salary": "35000",
                                    "HIREDATE": "2016-03-22"
                                },
                                {
                                    "Emp_NO": "5",
                                    "Emp_Name": "Ramu",
                                    "Emp_Address": "BSB",
                                    "Dept_No": "74568",
                                    "Dept_Name": "Sales",
                                    "Salary": "96000",
                                    "HIREDATE": "2012-10-10"
                                },
                                {
                                    "Emp_NO": "6",
                                    "Emp_Name": "Mahesh",
                                    "Emp_Address": "GNoida",
                                    "Dept_No": "1238",
                                    "Dept_Name": "Sales",
                                    "Salary": "25000",
                                    "HIREDATE": "2020-01-25"
                                },
                                {
                                    "Emp_NO": "7",
                                    "Emp_Name": "Chaman",
                                    "Emp_Address": "BSBS",
                                    "Dept_No": "7634",
                                    "Dept_Name": "D10",
                                    "Salary": "21500",
                                    "HIREDATE": "2022-05-05"
                                },
                                {
                                    "Emp_NO": "8",
                                    "Emp_Name": "Arun",
                                    "Emp_Address": "Chennai",
                                    "Dept_No": "546",
                                    "Dept_Name": "D10",
                                    "Salary": "22000",
                                    "HIREDATE": "2023-04-22"
                                },
                                {
                                    "Emp_NO": "9",
                                    "Emp_Name": "Deva",
                                    "Emp_Address": "coimbatore",
                                    "Dept_No": "1050",
                                    "Dept_Name": "Sales",
                                    "Salary": "22000",
                                    "HIREDATE": "2023-04-22"
                                },
                                {
                                    "Emp_NO": "10",
                                    "Emp_Name": "Charan",
                                    "Emp_Address": "Hosur",
                                    "Dept_No": "1010",
                                    "Dept_Name": "Sales",
                                    "Salary": "22000",
                                    "HIREDATE": "2023-04-22"
                                },
                                {
                                    "Emp_NO": "11",
                                    "Emp_Name": "Sownder",
                                    "Emp_Address": "Dharmapuri",
                                    "Dept_No": "5050",
                                    "Dept_Name": "D10",
                                    "Salary": "22000",
                                    "HIREDATE": "2023-04-22"
                                },
                                {
                                    "Emp_NO": "12",
                                    "Emp_Name": "Surender",
                                    "Emp_Address": "Madurai",
                                    "Dept_No": "2030",
                                    "Dept_Name": "D10",
                                    "Salary": "22000",
                                    "HIREDATE": "2023-04-22"
                                },
                                {
                                    "Emp_NO": "13",
                                    "Emp_Name": "Hariharan",
                                    "Emp_Address": "chennai",
                                    "Dept_No": "7773",
                                    "Dept_Name": "Sales",
                                    "Salary": "22000",
                                    "HIREDATE": "2023-04-22"
                                },
                                {
                                    "Emp_NO": "14",
                                    "Emp_Name": "Mahavishnu",
                                    "Emp_Address": "Coimbatore",
                                    "Dept_No": "7373",
                                    "Dept_Name": "D10",
                                    "Salary": "22000",
                                    "HIREDATE": "2023-04-22"
                                },
                                {
                                    "Emp_NO": "15",
                                    "Emp_Name": "Shankar",
                                    "Emp_Address": "chennai",
                                    "Dept_No": "3040",
                                    "Dept_Name": "Sales",
                                    "Salary": "22000",
                                    "HIREDATE": "2023-04-22"
                                }
                            ]
                        },
                        "text/html": "<table><tr><th>Emp_NO</th><th>Emp_Name</th><th>Emp_Address</th><th>Dept_No</th><th>Dept_Name</th><th>Salary</th><th>HIREDATE</th></tr><tr><td>1</td><td>Ramesh</td><td>GNoida</td><td>3445</td><td>Sales</td><td>25000</td><td>2020-05-10</td></tr><tr><td>2</td><td>Suresh</td><td>GNoida</td><td>72</td><td>Sales</td><td>75000</td><td>2015-04-12</td></tr><tr><td>3</td><td>Rajesh</td><td>GNoida</td><td>2324</td><td>Sales</td><td>28000</td><td>2017-02-27</td></tr><tr><td>4</td><td>Shyamu</td><td>BSB</td><td>8883</td><td>Sales</td><td>35000</td><td>2016-03-22</td></tr><tr><td>5</td><td>Ramu</td><td>BSB</td><td>74568</td><td>Sales</td><td>96000</td><td>2012-10-10</td></tr><tr><td>6</td><td>Mahesh</td><td>GNoida</td><td>1238</td><td>Sales</td><td>25000</td><td>2020-01-25</td></tr><tr><td>7</td><td>Chaman</td><td>BSBS</td><td>7634</td><td>D10</td><td>21500</td><td>2022-05-05</td></tr><tr><td>8</td><td>Arun</td><td>Chennai</td><td>546</td><td>D10</td><td>22000</td><td>2023-04-22</td></tr><tr><td>9</td><td>Deva</td><td>coimbatore</td><td>1050</td><td>Sales</td><td>22000</td><td>2023-04-22</td></tr><tr><td>10</td><td>Charan</td><td>Hosur</td><td>1010</td><td>Sales</td><td>22000</td><td>2023-04-22</td></tr><tr><td>11</td><td>Sownder</td><td>Dharmapuri</td><td>5050</td><td>D10</td><td>22000</td><td>2023-04-22</td></tr><tr><td>12</td><td>Surender</td><td>Madurai</td><td>2030</td><td>D10</td><td>22000</td><td>2023-04-22</td></tr><tr><td>13</td><td>Hariharan</td><td>chennai</td><td>7773</td><td>Sales</td><td>22000</td><td>2023-04-22</td></tr><tr><td>14</td><td>Mahavishnu</td><td>Coimbatore</td><td>7373</td><td>D10</td><td>22000</td><td>2023-04-22</td></tr><tr><td>15</td><td>Shankar</td><td>chennai</td><td>3040</td><td>Sales</td><td>22000</td><td>2023-04-22</td></tr></table>"
                    },
                    "metadata": {}
                }
            ],
            "execution_count": 4
        },
        {
            "cell_type": "code",
            "source": [
                "SELECT * from dept"
            ],
            "metadata": {
                "language": "sql",
                "azdata_cell_guid": "4e84eee1-ff47-48c1-9acc-857807b418e0"
            },
            "outputs": [
                {
                    "output_type": "display_data",
                    "data": {
                        "text/html": "(4 rows affected)"
                    },
                    "metadata": {}
                },
                {
                    "output_type": "display_data",
                    "data": {
                        "text/html": "Total execution time: 00:00:00.012"
                    },
                    "metadata": {}
                },
                {
                    "output_type": "execute_result",
                    "execution_count": 3,
                    "data": {
                        "application/vnd.dataresource+json": {
                            "schema": {
                                "fields": [
                                    {
                                        "name": "Dept_No"
                                    },
                                    {
                                        "name": "Dept_Name"
                                    },
                                    {
                                        "name": "Emp_Address"
                                    }
                                ]
                            },
                            "data": [
                                {
                                    "Dept_No": "1010",
                                    "Dept_Name": "MANAGER",
                                    "Emp_Address": "chennai"
                                },
                                {
                                    "Dept_No": "2324",
                                    "Dept_Name": "MANAGER",
                                    "Emp_Address": "coimbatore"
                                },
                                {
                                    "Dept_No": "3345",
                                    "Dept_Name": "SALES",
                                    "Emp_Address": "chennai"
                                },
                                {
                                    "Dept_No": "1238",
                                    "Dept_Name": "SALES",
                                    "Emp_Address": "coimbatore"
                                }
                            ]
                        },
                        "text/html": "<table><tr><th>Dept_No</th><th>Dept_Name</th><th>Emp_Address</th></tr><tr><td>1010</td><td>MANAGER</td><td>chennai</td></tr><tr><td>2324</td><td>MANAGER</td><td>coimbatore</td></tr><tr><td>3345</td><td>SALES</td><td>chennai</td></tr><tr><td>1238</td><td>SALES</td><td>coimbatore</td></tr></table>"
                    },
                    "metadata": {}
                }
            ],
            "execution_count": 3
        },
        {
            "cell_type": "code",
            "source": [
                "-- select * \r\n",
                "-- from EMPLOYEE\r\n",
                "-- WHERE Emp_Address IN ('chennai', 'coimbatore');\r\n",
                "select *\r\n",
                "from dept\r\n",
                "where Dept_Name in ('dept_no', 'dept_name', 'emp_address' );"
            ],
            "metadata": {
                "language": "sql",
                "azdata_cell_guid": "94462c53-2488-43e0-8790-1c32b0d49fb3"
            },
            "outputs": [
                {
                    "output_type": "display_data",
                    "data": {
                        "text/html": "(5 rows affected)"
                    },
                    "metadata": {}
                },
                {
                    "output_type": "display_data",
                    "data": {
                        "text/html": "(0 rows affected)"
                    },
                    "metadata": {}
                },
                {
                    "output_type": "display_data",
                    "data": {
                        "text/html": "Total execution time: 00:00:00.020"
                    },
                    "metadata": {}
                },
                {
                    "output_type": "execute_result",
                    "execution_count": 6,
                    "data": {
                        "application/vnd.dataresource+json": {
                            "schema": {
                                "fields": [
                                    {
                                        "name": "Emp_NO"
                                    },
                                    {
                                        "name": "Emp_Name"
                                    },
                                    {
                                        "name": "Emp_Address"
                                    },
                                    {
                                        "name": "Dept_No"
                                    },
                                    {
                                        "name": "Dept_Name"
                                    },
                                    {
                                        "name": "Salary"
                                    },
                                    {
                                        "name": "HIREDATE"
                                    }
                                ]
                            },
                            "data": [
                                {
                                    "Emp_NO": "8",
                                    "Emp_Name": "Arun",
                                    "Emp_Address": "Chennai",
                                    "Dept_No": "546",
                                    "Dept_Name": "D10",
                                    "Salary": "22000",
                                    "HIREDATE": "2023-04-22"
                                },
                                {
                                    "Emp_NO": "9",
                                    "Emp_Name": "Deva",
                                    "Emp_Address": "coimbatore",
                                    "Dept_No": "1050",
                                    "Dept_Name": "Sales",
                                    "Salary": "22000",
                                    "HIREDATE": "2023-04-22"
                                },
                                {
                                    "Emp_NO": "13",
                                    "Emp_Name": "Hariharan",
                                    "Emp_Address": "chennai",
                                    "Dept_No": "7773",
                                    "Dept_Name": "Sales",
                                    "Salary": "22000",
                                    "HIREDATE": "2023-04-22"
                                },
                                {
                                    "Emp_NO": "14",
                                    "Emp_Name": "Mahavishnu",
                                    "Emp_Address": "Coimbatore",
                                    "Dept_No": "7373",
                                    "Dept_Name": "D10",
                                    "Salary": "22000",
                                    "HIREDATE": "2023-04-22"
                                },
                                {
                                    "Emp_NO": "15",
                                    "Emp_Name": "Shankar",
                                    "Emp_Address": "chennai",
                                    "Dept_No": "3040",
                                    "Dept_Name": "Sales",
                                    "Salary": "22000",
                                    "HIREDATE": "2023-04-22"
                                }
                            ]
                        },
                        "text/html": "<table><tr><th>Emp_NO</th><th>Emp_Name</th><th>Emp_Address</th><th>Dept_No</th><th>Dept_Name</th><th>Salary</th><th>HIREDATE</th></tr><tr><td>8</td><td>Arun</td><td>Chennai</td><td>546</td><td>D10</td><td>22000</td><td>2023-04-22</td></tr><tr><td>9</td><td>Deva</td><td>coimbatore</td><td>1050</td><td>Sales</td><td>22000</td><td>2023-04-22</td></tr><tr><td>13</td><td>Hariharan</td><td>chennai</td><td>7773</td><td>Sales</td><td>22000</td><td>2023-04-22</td></tr><tr><td>14</td><td>Mahavishnu</td><td>Coimbatore</td><td>7373</td><td>D10</td><td>22000</td><td>2023-04-22</td></tr><tr><td>15</td><td>Shankar</td><td>chennai</td><td>3040</td><td>Sales</td><td>22000</td><td>2023-04-22</td></tr></table>"
                    },
                    "metadata": {}
                },
                {
                    "output_type": "execute_result",
                    "execution_count": 6,
                    "data": {
                        "application/vnd.dataresource+json": {
                            "schema": {
                                "fields": [
                                    {
                                        "name": "Dept_No"
                                    },
                                    {
                                        "name": "Dept_Name"
                                    },
                                    {
                                        "name": "Emp_Address"
                                    }
                                ]
                            },
                            "data": []
                        },
                        "text/html": "<table><tr><th>Dept_No</th><th>Dept_Name</th><th>Emp_Address</th></tr></table>"
                    },
                    "metadata": {}
                }
            ],
            "execution_count": 6
        },
        {
            "cell_type": "code",
            "source": [
                "select Emp_Name, Salary, Emp_Address\r\n",
                "from EMPLOYEE\r\n",
                "where Emp_Address in ('chennai','coimbatore')\r\n",
                ""
            ],
            "metadata": {
                "language": "sql",
                "azdata_cell_guid": "a8b5dd71-871c-44a2-ae9a-a73b8fabef25"
            },
            "outputs": [
                {
                    "output_type": "display_data",
                    "data": {
                        "text/html": "(5 rows affected)"
                    },
                    "metadata": {}
                },
                {
                    "output_type": "display_data",
                    "data": {
                        "text/html": "Total execution time: 00:00:00.020"
                    },
                    "metadata": {}
                },
                {
                    "output_type": "execute_result",
                    "execution_count": 7,
                    "data": {
                        "application/vnd.dataresource+json": {
                            "schema": {
                                "fields": [
                                    {
                                        "name": "Emp_Name"
                                    },
                                    {
                                        "name": "Salary"
                                    },
                                    {
                                        "name": "Emp_Address"
                                    }
                                ]
                            },
                            "data": [
                                {
                                    "Emp_Name": "Arun",
                                    "Salary": "22000",
                                    "Emp_Address": "Chennai"
                                },
                                {
                                    "Emp_Name": "Deva",
                                    "Salary": "22000",
                                    "Emp_Address": "coimbatore"
                                },
                                {
                                    "Emp_Name": "Hariharan",
                                    "Salary": "22000",
                                    "Emp_Address": "chennai"
                                },
                                {
                                    "Emp_Name": "Mahavishnu",
                                    "Salary": "22000",
                                    "Emp_Address": "Coimbatore"
                                },
                                {
                                    "Emp_Name": "Shankar",
                                    "Salary": "22000",
                                    "Emp_Address": "chennai"
                                }
                            ]
                        },
                        "text/html": "<table><tr><th>Emp_Name</th><th>Salary</th><th>Emp_Address</th></tr><tr><td>Arun</td><td>22000</td><td>Chennai</td></tr><tr><td>Deva</td><td>22000</td><td>coimbatore</td></tr><tr><td>Hariharan</td><td>22000</td><td>chennai</td></tr><tr><td>Mahavishnu</td><td>22000</td><td>Coimbatore</td></tr><tr><td>Shankar</td><td>22000</td><td>chennai</td></tr></table>"
                    },
                    "metadata": {}
                }
            ],
            "execution_count": 7
        },
        {
            "cell_type": "code",
            "source": [
                "select e.Emp_Name, e.Salary, e.emp_address from EMPLOYEE as e \r\n",
                "join dept as d on d.Emp_Address = e.Emp_Address;"
            ],
            "metadata": {
                "language": "sql",
                "azdata_cell_guid": "21efec47-3508-45e7-933e-a2c0c7703a1b",
                "tags": []
            },
            "outputs": [
                {
                    "output_type": "display_data",
                    "data": {
                        "text/html": "(10 rows affected)"
                    },
                    "metadata": {}
                },
                {
                    "output_type": "display_data",
                    "data": {
                        "text/html": "Total execution time: 00:00:00.022"
                    },
                    "metadata": {}
                },
                {
                    "output_type": "execute_result",
                    "execution_count": 9,
                    "data": {
                        "application/vnd.dataresource+json": {
                            "schema": {
                                "fields": [
                                    {
                                        "name": "Emp_Name"
                                    },
                                    {
                                        "name": "Salary"
                                    },
                                    {
                                        "name": "emp_address"
                                    }
                                ]
                            },
                            "data": [
                                {
                                    "Emp_Name": "Arun",
                                    "Salary": "22000",
                                    "emp_address": "Chennai"
                                },
                                {
                                    "Emp_Name": "Arun",
                                    "Salary": "22000",
                                    "emp_address": "Chennai"
                                },
                                {
                                    "Emp_Name": "Deva",
                                    "Salary": "22000",
                                    "emp_address": "coimbatore"
                                },
                                {
                                    "Emp_Name": "Deva",
                                    "Salary": "22000",
                                    "emp_address": "coimbatore"
                                },
                                {
                                    "Emp_Name": "Hariharan",
                                    "Salary": "22000",
                                    "emp_address": "chennai"
                                },
                                {
                                    "Emp_Name": "Hariharan",
                                    "Salary": "22000",
                                    "emp_address": "chennai"
                                },
                                {
                                    "Emp_Name": "Mahavishnu",
                                    "Salary": "22000",
                                    "emp_address": "Coimbatore"
                                },
                                {
                                    "Emp_Name": "Mahavishnu",
                                    "Salary": "22000",
                                    "emp_address": "Coimbatore"
                                },
                                {
                                    "Emp_Name": "Shankar",
                                    "Salary": "22000",
                                    "emp_address": "chennai"
                                },
                                {
                                    "Emp_Name": "Shankar",
                                    "Salary": "22000",
                                    "emp_address": "chennai"
                                }
                            ]
                        },
                        "text/html": "<table><tr><th>Emp_Name</th><th>Salary</th><th>emp_address</th></tr><tr><td>Arun</td><td>22000</td><td>Chennai</td></tr><tr><td>Arun</td><td>22000</td><td>Chennai</td></tr><tr><td>Deva</td><td>22000</td><td>coimbatore</td></tr><tr><td>Deva</td><td>22000</td><td>coimbatore</td></tr><tr><td>Hariharan</td><td>22000</td><td>chennai</td></tr><tr><td>Hariharan</td><td>22000</td><td>chennai</td></tr><tr><td>Mahavishnu</td><td>22000</td><td>Coimbatore</td></tr><tr><td>Mahavishnu</td><td>22000</td><td>Coimbatore</td></tr><tr><td>Shankar</td><td>22000</td><td>chennai</td></tr><tr><td>Shankar</td><td>22000</td><td>chennai</td></tr></table>"
                    },
                    "metadata": {}
                }
            ],
            "execution_count": 9
        },
        {
            "cell_type": "code",
            "source": [
                "SELECT emp_name, salary, emp_address\r\n",
                "from EMPLOYEE\r\n",
                "where Emp_Address in (select Emp_Address from dept);"
            ],
            "metadata": {
                "language": "sql",
                "azdata_cell_guid": "3e1bcd85-fb10-40a9-9c15-dcbe57230244"
            },
            "outputs": [
                {
                    "output_type": "display_data",
                    "data": {
                        "text/html": "(5 rows affected)"
                    },
                    "metadata": {}
                },
                {
                    "output_type": "display_data",
                    "data": {
                        "text/html": "Total execution time: 00:00:00.008"
                    },
                    "metadata": {}
                },
                {
                    "output_type": "execute_result",
                    "execution_count": 10,
                    "data": {
                        "application/vnd.dataresource+json": {
                            "schema": {
                                "fields": [
                                    {
                                        "name": "emp_name"
                                    },
                                    {
                                        "name": "salary"
                                    },
                                    {
                                        "name": "emp_address"
                                    }
                                ]
                            },
                            "data": [
                                {
                                    "emp_name": "Arun",
                                    "salary": "22000",
                                    "emp_address": "Chennai"
                                },
                                {
                                    "emp_name": "Deva",
                                    "salary": "22000",
                                    "emp_address": "coimbatore"
                                },
                                {
                                    "emp_name": "Hariharan",
                                    "salary": "22000",
                                    "emp_address": "chennai"
                                },
                                {
                                    "emp_name": "Mahavishnu",
                                    "salary": "22000",
                                    "emp_address": "Coimbatore"
                                },
                                {
                                    "emp_name": "Shankar",
                                    "salary": "22000",
                                    "emp_address": "chennai"
                                }
                            ]
                        },
                        "text/html": "<table><tr><th>emp_name</th><th>salary</th><th>emp_address</th></tr><tr><td>Arun</td><td>22000</td><td>Chennai</td></tr><tr><td>Deva</td><td>22000</td><td>coimbatore</td></tr><tr><td>Hariharan</td><td>22000</td><td>chennai</td></tr><tr><td>Mahavishnu</td><td>22000</td><td>Coimbatore</td></tr><tr><td>Shankar</td><td>22000</td><td>chennai</td></tr></table>"
                    },
                    "metadata": {}
                }
            ],
            "execution_count": 10
        },
        {
            "cell_type": "markdown",
            "source": [
                "sub qua"
            ],
            "metadata": {
                "language": "sql",
                "azdata_cell_guid": "035f0aa2-d92e-48be-96e5-99672e84db58"
            },
            "attachments": {}
        },
        {
            "cell_type": "code",
            "source": [
                "select emp_no, emp_name, dept_no, dept_name\r\n",
                "from EMPLOYEE\r\n",
                "where dept_name in (select Dept_Name from dept);"
            ],
            "metadata": {
                "language": "sql",
                "azdata_cell_guid": "8c5a7362-4cf8-44f1-9526-7a57a9a0d8eb"
            },
            "outputs": [
                {
                    "output_type": "display_data",
                    "data": {
                        "text/html": "(10 rows affected)"
                    },
                    "metadata": {}
                },
                {
                    "output_type": "display_data",
                    "data": {
                        "text/html": "Total execution time: 00:00:00.037"
                    },
                    "metadata": {}
                },
                {
                    "output_type": "execute_result",
                    "execution_count": 16,
                    "data": {
                        "application/vnd.dataresource+json": {
                            "schema": {
                                "fields": [
                                    {
                                        "name": "emp_no"
                                    },
                                    {
                                        "name": "emp_name"
                                    },
                                    {
                                        "name": "dept_no"
                                    },
                                    {
                                        "name": "dept_name"
                                    }
                                ]
                            },
                            "data": [
                                {
                                    "emp_no": "1",
                                    "emp_name": "Ramesh",
                                    "dept_no": "3445",
                                    "dept_name": "Sales"
                                },
                                {
                                    "emp_no": "2",
                                    "emp_name": "Suresh",
                                    "dept_no": "72",
                                    "dept_name": "Sales"
                                },
                                {
                                    "emp_no": "3",
                                    "emp_name": "Rajesh",
                                    "dept_no": "2324",
                                    "dept_name": "Sales"
                                },
                                {
                                    "emp_no": "4",
                                    "emp_name": "Shyamu",
                                    "dept_no": "8883",
                                    "dept_name": "Sales"
                                },
                                {
                                    "emp_no": "5",
                                    "emp_name": "Ramu",
                                    "dept_no": "74568",
                                    "dept_name": "Sales"
                                },
                                {
                                    "emp_no": "6",
                                    "emp_name": "Mahesh",
                                    "dept_no": "1238",
                                    "dept_name": "Sales"
                                },
                                {
                                    "emp_no": "9",
                                    "emp_name": "Deva",
                                    "dept_no": "1050",
                                    "dept_name": "Sales"
                                },
                                {
                                    "emp_no": "10",
                                    "emp_name": "Charan",
                                    "dept_no": "1010",
                                    "dept_name": "Sales"
                                },
                                {
                                    "emp_no": "13",
                                    "emp_name": "Hariharan",
                                    "dept_no": "7773",
                                    "dept_name": "Sales"
                                },
                                {
                                    "emp_no": "15",
                                    "emp_name": "Shankar",
                                    "dept_no": "3040",
                                    "dept_name": "Sales"
                                }
                            ]
                        },
                        "text/html": "<table><tr><th>emp_no</th><th>emp_name</th><th>dept_no</th><th>dept_name</th></tr><tr><td>1</td><td>Ramesh</td><td>3445</td><td>Sales</td></tr><tr><td>2</td><td>Suresh</td><td>72</td><td>Sales</td></tr><tr><td>3</td><td>Rajesh</td><td>2324</td><td>Sales</td></tr><tr><td>4</td><td>Shyamu</td><td>8883</td><td>Sales</td></tr><tr><td>5</td><td>Ramu</td><td>74568</td><td>Sales</td></tr><tr><td>6</td><td>Mahesh</td><td>1238</td><td>Sales</td></tr><tr><td>9</td><td>Deva</td><td>1050</td><td>Sales</td></tr><tr><td>10</td><td>Charan</td><td>1010</td><td>Sales</td></tr><tr><td>13</td><td>Hariharan</td><td>7773</td><td>Sales</td></tr><tr><td>15</td><td>Shankar</td><td>3040</td><td>Sales</td></tr></table>"
                    },
                    "metadata": {}
                }
            ],
            "execution_count": 16
        },
        {
            "cell_type": "markdown",
            "source": [
                "## Stored Procedure\n",
                "\n",
                "A stored procedure is a prepared SQL code that you can save, so the code can be reused over and over again.\n",
                "\n",
                "So if you have an SQL query that you write over and over again, save it as a stored procedure, and then just call it to execute it.\n",
                "\n",
                "You can also pass parameters to a stored procedure, so that the stored procedure can act based on the parameter value(s) that is passed."
            ],
            "metadata": {
                "language": "sql",
                "azdata_cell_guid": "127af68a-c10a-4560-9af2-9c194604c2b8"
            },
            "attachments": {}
        },
        {
            "cell_type": "code",
            "source": [
                "CREATE PROCEDURE SelectAllEMP_NAME\r\n",
                "AS\r\n",
                "SELECT * FROM EMPLOYEE\r\n",
                ";"
            ],
            "metadata": {
                "language": "sql",
                "azdata_cell_guid": "e729f439-5809-4e71-b2fa-cb1b4ebc04ad"
            },
            "outputs": [
                {
                    "output_type": "error",
                    "ename": "",
                    "evalue": "Msg 2714, Level 16, State 3, Procedure SelectAllEMP_NAME, Line 1\r\nThere is already an object named 'SelectAllEMP_NAME' in the database.",
                    "traceback": []
                },
                {
                    "output_type": "display_data",
                    "data": {
                        "text/html": "Total execution time: 00:00:00.001"
                    },
                    "metadata": {}
                }
            ],
            "execution_count": 20
        },
        {
            "cell_type": "code",
            "source": [
                "EXEC SelectAllEMP_NAME;"
            ],
            "metadata": {
                "language": "sql",
                "azdata_cell_guid": "fc866bc5-bd20-4eb2-8deb-eed4a16b13f1"
            },
            "outputs": [
                {
                    "output_type": "display_data",
                    "data": {
                        "text/html": "(15 rows affected)"
                    },
                    "metadata": {}
                },
                {
                    "output_type": "display_data",
                    "data": {
                        "text/html": "Total execution time: 00:00:00.038"
                    },
                    "metadata": {}
                },
                {
                    "output_type": "execute_result",
                    "execution_count": 19,
                    "data": {
                        "application/vnd.dataresource+json": {
                            "schema": {
                                "fields": [
                                    {
                                        "name": "Emp_NO"
                                    },
                                    {
                                        "name": "Emp_Name"
                                    },
                                    {
                                        "name": "Emp_Address"
                                    },
                                    {
                                        "name": "Dept_No"
                                    },
                                    {
                                        "name": "Dept_Name"
                                    },
                                    {
                                        "name": "Salary"
                                    },
                                    {
                                        "name": "HIREDATE"
                                    }
                                ]
                            },
                            "data": [
                                {
                                    "Emp_NO": "1",
                                    "Emp_Name": "Ramesh",
                                    "Emp_Address": "GNoida",
                                    "Dept_No": "3445",
                                    "Dept_Name": "Sales",
                                    "Salary": "25000",
                                    "HIREDATE": "2020-05-10"
                                },
                                {
                                    "Emp_NO": "2",
                                    "Emp_Name": "Suresh",
                                    "Emp_Address": "GNoida",
                                    "Dept_No": "72",
                                    "Dept_Name": "Sales",
                                    "Salary": "75000",
                                    "HIREDATE": "2015-04-12"
                                },
                                {
                                    "Emp_NO": "3",
                                    "Emp_Name": "Rajesh",
                                    "Emp_Address": "GNoida",
                                    "Dept_No": "2324",
                                    "Dept_Name": "Sales",
                                    "Salary": "28000",
                                    "HIREDATE": "2017-02-27"
                                },
                                {
                                    "Emp_NO": "4",
                                    "Emp_Name": "Shyamu",
                                    "Emp_Address": "BSB",
                                    "Dept_No": "8883",
                                    "Dept_Name": "Sales",
                                    "Salary": "35000",
                                    "HIREDATE": "2016-03-22"
                                },
                                {
                                    "Emp_NO": "5",
                                    "Emp_Name": "Ramu",
                                    "Emp_Address": "BSB",
                                    "Dept_No": "74568",
                                    "Dept_Name": "Sales",
                                    "Salary": "96000",
                                    "HIREDATE": "2012-10-10"
                                },
                                {
                                    "Emp_NO": "6",
                                    "Emp_Name": "Mahesh",
                                    "Emp_Address": "GNoida",
                                    "Dept_No": "1238",
                                    "Dept_Name": "Sales",
                                    "Salary": "25000",
                                    "HIREDATE": "2020-01-25"
                                },
                                {
                                    "Emp_NO": "7",
                                    "Emp_Name": "Chaman",
                                    "Emp_Address": "BSBS",
                                    "Dept_No": "7634",
                                    "Dept_Name": "D10",
                                    "Salary": "21500",
                                    "HIREDATE": "2022-05-05"
                                },
                                {
                                    "Emp_NO": "8",
                                    "Emp_Name": "Arun",
                                    "Emp_Address": "Chennai",
                                    "Dept_No": "546",
                                    "Dept_Name": "D10",
                                    "Salary": "22000",
                                    "HIREDATE": "2023-04-22"
                                },
                                {
                                    "Emp_NO": "9",
                                    "Emp_Name": "Deva",
                                    "Emp_Address": "coimbatore",
                                    "Dept_No": "1050",
                                    "Dept_Name": "Sales",
                                    "Salary": "22000",
                                    "HIREDATE": "2023-04-22"
                                },
                                {
                                    "Emp_NO": "10",
                                    "Emp_Name": "Charan",
                                    "Emp_Address": "Hosur",
                                    "Dept_No": "1010",
                                    "Dept_Name": "Sales",
                                    "Salary": "22000",
                                    "HIREDATE": "2023-04-22"
                                },
                                {
                                    "Emp_NO": "11",
                                    "Emp_Name": "Sownder",
                                    "Emp_Address": "Dharmapuri",
                                    "Dept_No": "5050",
                                    "Dept_Name": "D10",
                                    "Salary": "22000",
                                    "HIREDATE": "2023-04-22"
                                },
                                {
                                    "Emp_NO": "12",
                                    "Emp_Name": "Surender",
                                    "Emp_Address": "Madurai",
                                    "Dept_No": "2030",
                                    "Dept_Name": "D10",
                                    "Salary": "22000",
                                    "HIREDATE": "2023-04-22"
                                },
                                {
                                    "Emp_NO": "13",
                                    "Emp_Name": "Hariharan",
                                    "Emp_Address": "chennai",
                                    "Dept_No": "7773",
                                    "Dept_Name": "Sales",
                                    "Salary": "22000",
                                    "HIREDATE": "2023-04-22"
                                },
                                {
                                    "Emp_NO": "14",
                                    "Emp_Name": "Mahavishnu",
                                    "Emp_Address": "Coimbatore",
                                    "Dept_No": "7373",
                                    "Dept_Name": "D10",
                                    "Salary": "22000",
                                    "HIREDATE": "2023-04-22"
                                },
                                {
                                    "Emp_NO": "15",
                                    "Emp_Name": "Shankar",
                                    "Emp_Address": "chennai",
                                    "Dept_No": "3040",
                                    "Dept_Name": "Sales",
                                    "Salary": "22000",
                                    "HIREDATE": "2023-04-22"
                                }
                            ]
                        },
                        "text/html": "<table><tr><th>Emp_NO</th><th>Emp_Name</th><th>Emp_Address</th><th>Dept_No</th><th>Dept_Name</th><th>Salary</th><th>HIREDATE</th></tr><tr><td>1</td><td>Ramesh</td><td>GNoida</td><td>3445</td><td>Sales</td><td>25000</td><td>2020-05-10</td></tr><tr><td>2</td><td>Suresh</td><td>GNoida</td><td>72</td><td>Sales</td><td>75000</td><td>2015-04-12</td></tr><tr><td>3</td><td>Rajesh</td><td>GNoida</td><td>2324</td><td>Sales</td><td>28000</td><td>2017-02-27</td></tr><tr><td>4</td><td>Shyamu</td><td>BSB</td><td>8883</td><td>Sales</td><td>35000</td><td>2016-03-22</td></tr><tr><td>5</td><td>Ramu</td><td>BSB</td><td>74568</td><td>Sales</td><td>96000</td><td>2012-10-10</td></tr><tr><td>6</td><td>Mahesh</td><td>GNoida</td><td>1238</td><td>Sales</td><td>25000</td><td>2020-01-25</td></tr><tr><td>7</td><td>Chaman</td><td>BSBS</td><td>7634</td><td>D10</td><td>21500</td><td>2022-05-05</td></tr><tr><td>8</td><td>Arun</td><td>Chennai</td><td>546</td><td>D10</td><td>22000</td><td>2023-04-22</td></tr><tr><td>9</td><td>Deva</td><td>coimbatore</td><td>1050</td><td>Sales</td><td>22000</td><td>2023-04-22</td></tr><tr><td>10</td><td>Charan</td><td>Hosur</td><td>1010</td><td>Sales</td><td>22000</td><td>2023-04-22</td></tr><tr><td>11</td><td>Sownder</td><td>Dharmapuri</td><td>5050</td><td>D10</td><td>22000</td><td>2023-04-22</td></tr><tr><td>12</td><td>Surender</td><td>Madurai</td><td>2030</td><td>D10</td><td>22000</td><td>2023-04-22</td></tr><tr><td>13</td><td>Hariharan</td><td>chennai</td><td>7773</td><td>Sales</td><td>22000</td><td>2023-04-22</td></tr><tr><td>14</td><td>Mahavishnu</td><td>Coimbatore</td><td>7373</td><td>D10</td><td>22000</td><td>2023-04-22</td></tr><tr><td>15</td><td>Shankar</td><td>chennai</td><td>3040</td><td>Sales</td><td>22000</td><td>2023-04-22</td></tr></table>"
                    },
                    "metadata": {}
                }
            ],
            "execution_count": 19
        },
        {
            "cell_type": "code",
            "source": [
                "-- CREATE PROCEDURE Select_AllEMP_NAME @EMP_ADDRESS nvarchar(30)\r\n",
                "AS\r\n",
                "SELECT * FROM EMPLOYEE WHERE EMP_ADDRESS = @EMP_ADDRESS;"
            ],
            "metadata": {
                "language": "sql",
                "azdata_cell_guid": "655aa816-587d-41d9-ace7-d169d6b25a9b"
            },
            "outputs": [
                {
                    "output_type": "display_data",
                    "data": {
                        "text/html": "Commands completed successfully."
                    },
                    "metadata": {}
                },
                {
                    "output_type": "display_data",
                    "data": {
                        "text/html": "Total execution time: 00:00:00.003"
                    },
                    "metadata": {}
                }
            ],
            "execution_count": 28
        },
        {
            "cell_type": "code",
            "source": [
                "exec Select_AllEMP_NAME @EMP_ADDRESS ='chennai'"
            ],
            "metadata": {
                "language": "sql",
                "azdata_cell_guid": "97dfd191-72d8-4fc0-859e-347763146684"
            },
            "outputs": [
                {
                    "output_type": "display_data",
                    "data": {
                        "text/html": "(3 rows affected)"
                    },
                    "metadata": {}
                },
                {
                    "output_type": "display_data",
                    "data": {
                        "text/html": "Total execution time: 00:00:00.017"
                    },
                    "metadata": {}
                },
                {
                    "output_type": "execute_result",
                    "execution_count": 29,
                    "data": {
                        "application/vnd.dataresource+json": {
                            "schema": {
                                "fields": [
                                    {
                                        "name": "Emp_NO"
                                    },
                                    {
                                        "name": "Emp_Name"
                                    },
                                    {
                                        "name": "Emp_Address"
                                    },
                                    {
                                        "name": "Dept_No"
                                    },
                                    {
                                        "name": "Dept_Name"
                                    },
                                    {
                                        "name": "Salary"
                                    },
                                    {
                                        "name": "HIREDATE"
                                    }
                                ]
                            },
                            "data": [
                                {
                                    "Emp_NO": "8",
                                    "Emp_Name": "Arun",
                                    "Emp_Address": "Chennai",
                                    "Dept_No": "546",
                                    "Dept_Name": "D10",
                                    "Salary": "22000",
                                    "HIREDATE": "2023-04-22"
                                },
                                {
                                    "Emp_NO": "13",
                                    "Emp_Name": "Hariharan",
                                    "Emp_Address": "chennai",
                                    "Dept_No": "7773",
                                    "Dept_Name": "Sales",
                                    "Salary": "22000",
                                    "HIREDATE": "2023-04-22"
                                },
                                {
                                    "Emp_NO": "15",
                                    "Emp_Name": "Shankar",
                                    "Emp_Address": "chennai",
                                    "Dept_No": "3040",
                                    "Dept_Name": "Sales",
                                    "Salary": "22000",
                                    "HIREDATE": "2023-04-22"
                                }
                            ]
                        },
                        "text/html": "<table><tr><th>Emp_NO</th><th>Emp_Name</th><th>Emp_Address</th><th>Dept_No</th><th>Dept_Name</th><th>Salary</th><th>HIREDATE</th></tr><tr><td>8</td><td>Arun</td><td>Chennai</td><td>546</td><td>D10</td><td>22000</td><td>2023-04-22</td></tr><tr><td>13</td><td>Hariharan</td><td>chennai</td><td>7773</td><td>Sales</td><td>22000</td><td>2023-04-22</td></tr><tr><td>15</td><td>Shankar</td><td>chennai</td><td>3040</td><td>Sales</td><td>22000</td><td>2023-04-22</td></tr></table>"
                    },
                    "metadata": {}
                }
            ],
            "execution_count": 29
        },
        {
            "cell_type": "code",
            "source": [
                "exec Select_AllEMP_NAME @EMP_ADDRESS ='coimbatore'"
            ],
            "metadata": {
                "language": "sql",
                "azdata_cell_guid": "2dffab63-f366-4d66-9510-75c7c544813c"
            },
            "outputs": [
                {
                    "output_type": "display_data",
                    "data": {
                        "text/html": "(2 rows affected)"
                    },
                    "metadata": {}
                },
                {
                    "output_type": "display_data",
                    "data": {
                        "text/html": "Total execution time: 00:00:00.014"
                    },
                    "metadata": {}
                },
                {
                    "output_type": "execute_result",
                    "execution_count": 30,
                    "data": {
                        "application/vnd.dataresource+json": {
                            "schema": {
                                "fields": [
                                    {
                                        "name": "Emp_NO"
                                    },
                                    {
                                        "name": "Emp_Name"
                                    },
                                    {
                                        "name": "Emp_Address"
                                    },
                                    {
                                        "name": "Dept_No"
                                    },
                                    {
                                        "name": "Dept_Name"
                                    },
                                    {
                                        "name": "Salary"
                                    },
                                    {
                                        "name": "HIREDATE"
                                    }
                                ]
                            },
                            "data": [
                                {
                                    "Emp_NO": "9",
                                    "Emp_Name": "Deva",
                                    "Emp_Address": "coimbatore",
                                    "Dept_No": "1050",
                                    "Dept_Name": "Sales",
                                    "Salary": "22000",
                                    "HIREDATE": "2023-04-22"
                                },
                                {
                                    "Emp_NO": "14",
                                    "Emp_Name": "Mahavishnu",
                                    "Emp_Address": "Coimbatore",
                                    "Dept_No": "7373",
                                    "Dept_Name": "D10",
                                    "Salary": "22000",
                                    "HIREDATE": "2023-04-22"
                                }
                            ]
                        },
                        "text/html": "<table><tr><th>Emp_NO</th><th>Emp_Name</th><th>Emp_Address</th><th>Dept_No</th><th>Dept_Name</th><th>Salary</th><th>HIREDATE</th></tr><tr><td>9</td><td>Deva</td><td>coimbatore</td><td>1050</td><td>Sales</td><td>22000</td><td>2023-04-22</td></tr><tr><td>14</td><td>Mahavishnu</td><td>Coimbatore</td><td>7373</td><td>D10</td><td>22000</td><td>2023-04-22</td></tr></table>"
                    },
                    "metadata": {}
                }
            ],
            "execution_count": 30
        },
        {
            "cell_type": "code",
            "source": [
                "exec Select_AllEMP_NAME @EMP_ADDRESS ='GNoida'"
            ],
            "metadata": {
                "language": "sql",
                "azdata_cell_guid": "34545ee9-dc01-4e3f-ab48-b1ac04481820"
            },
            "outputs": [
                {
                    "output_type": "display_data",
                    "data": {
                        "text/html": "(4 rows affected)"
                    },
                    "metadata": {}
                },
                {
                    "output_type": "display_data",
                    "data": {
                        "text/html": "Total execution time: 00:00:00.016"
                    },
                    "metadata": {}
                },
                {
                    "output_type": "execute_result",
                    "execution_count": 31,
                    "data": {
                        "application/vnd.dataresource+json": {
                            "schema": {
                                "fields": [
                                    {
                                        "name": "Emp_NO"
                                    },
                                    {
                                        "name": "Emp_Name"
                                    },
                                    {
                                        "name": "Emp_Address"
                                    },
                                    {
                                        "name": "Dept_No"
                                    },
                                    {
                                        "name": "Dept_Name"
                                    },
                                    {
                                        "name": "Salary"
                                    },
                                    {
                                        "name": "HIREDATE"
                                    }
                                ]
                            },
                            "data": [
                                {
                                    "Emp_NO": "1",
                                    "Emp_Name": "Ramesh",
                                    "Emp_Address": "GNoida",
                                    "Dept_No": "3445",
                                    "Dept_Name": "Sales",
                                    "Salary": "25000",
                                    "HIREDATE": "2020-05-10"
                                },
                                {
                                    "Emp_NO": "2",
                                    "Emp_Name": "Suresh",
                                    "Emp_Address": "GNoida",
                                    "Dept_No": "72",
                                    "Dept_Name": "Sales",
                                    "Salary": "75000",
                                    "HIREDATE": "2015-04-12"
                                },
                                {
                                    "Emp_NO": "3",
                                    "Emp_Name": "Rajesh",
                                    "Emp_Address": "GNoida",
                                    "Dept_No": "2324",
                                    "Dept_Name": "Sales",
                                    "Salary": "28000",
                                    "HIREDATE": "2017-02-27"
                                },
                                {
                                    "Emp_NO": "6",
                                    "Emp_Name": "Mahesh",
                                    "Emp_Address": "GNoida",
                                    "Dept_No": "1238",
                                    "Dept_Name": "Sales",
                                    "Salary": "25000",
                                    "HIREDATE": "2020-01-25"
                                }
                            ]
                        },
                        "text/html": "<table><tr><th>Emp_NO</th><th>Emp_Name</th><th>Emp_Address</th><th>Dept_No</th><th>Dept_Name</th><th>Salary</th><th>HIREDATE</th></tr><tr><td>1</td><td>Ramesh</td><td>GNoida</td><td>3445</td><td>Sales</td><td>25000</td><td>2020-05-10</td></tr><tr><td>2</td><td>Suresh</td><td>GNoida</td><td>72</td><td>Sales</td><td>75000</td><td>2015-04-12</td></tr><tr><td>3</td><td>Rajesh</td><td>GNoida</td><td>2324</td><td>Sales</td><td>28000</td><td>2017-02-27</td></tr><tr><td>6</td><td>Mahesh</td><td>GNoida</td><td>1238</td><td>Sales</td><td>25000</td><td>2020-01-25</td></tr></table>"
                    },
                    "metadata": {}
                }
            ],
            "execution_count": 31
        },
        {
            "cell_type": "code",
            "source": [
                "CREATE PROCEDURE increaseSalary\r\n",
                "   @EMP_NO INT,\r\n",
                "   @salary DECIMAL(18, 2) OUTPUT\r\n",
                "AS\r\n",
                "BEGIN\r\n",
                "   -- get the current salary of the customer\r\n",
                "   SELECT @salary = SALARY FROM EMPLOYEE WHERE Emp_NO = @EMP_NO;\r\n",
                "   -- increase the salary by 10%\r\n",
                "   SET @salary = @salary * 1.1;\r\n",
                "\r\n",
                "   -- update the cutomer's salary in the database\r\n",
                "   UPDATE EMPLOYEE SET SALARY = @salary WHERE Emp_NO = @EMP_NO;\r\n",
                "END;"
            ],
            "metadata": {
                "language": "sql",
                "azdata_cell_guid": "ff18b82e-0fd7-48dd-a3c5-9d1a90010afd"
            },
            "outputs": [
                {
                    "output_type": "display_data",
                    "data": {
                        "text/html": "Commands completed successfully."
                    },
                    "metadata": {}
                },
                {
                    "output_type": "display_data",
                    "data": {
                        "text/html": "Total execution time: 00:00:00.004"
                    },
                    "metadata": {}
                }
            ],
            "execution_count": 33
        },
        {
            "cell_type": "code",
            "source": [
                "DECLARE @EMP_NO INT;\r\n",
                "DECLARE @salary DECIMAL(18, 2);\r\n",
                "\r\n",
                "SET @EMP_NO = 10;\r\n",
                "-- SET @salary = 2200.00;\r\n",
                "\r\n",
                "EXEC increaseSalary @EMP_NO, @salary OUTPUT;\r\n",
                "\r\n",
                "SELECT @salary AS 'Customer Salary'"
            ],
            "metadata": {
                "language": "sql",
                "azdata_cell_guid": "3e7b5cb2-9f37-41c1-bedd-65a5a2b2d0f3"
            },
            "outputs": [
                {
                    "output_type": "display_data",
                    "data": {
                        "text/html": "(1 row affected)"
                    },
                    "metadata": {}
                },
                {
                    "output_type": "display_data",
                    "data": {
                        "text/html": "(1 row affected)"
                    },
                    "metadata": {}
                },
                {
                    "output_type": "display_data",
                    "data": {
                        "text/html": "Total execution time: 00:00:00.019"
                    },
                    "metadata": {}
                },
                {
                    "output_type": "execute_result",
                    "execution_count": 37,
                    "data": {
                        "application/vnd.dataresource+json": {
                            "schema": {
                                "fields": [
                                    {
                                        "name": "Customer Salary"
                                    }
                                ]
                            },
                            "data": [
                                {
                                    "Customer Salary": "24200.00"
                                }
                            ]
                        },
                        "text/html": "<table><tr><th>Customer Salary</th></tr><tr><td>24200.00</td></tr></table>"
                    },
                    "metadata": {}
                }
            ],
            "execution_count": 37
        },
        {
            "cell_type": "code",
            "source": [
                "SELECT * FROM [EMPLOYEE]\r\n",
                ""
            ],
            "metadata": {
                "language": "sql",
                "azdata_cell_guid": "7fa652a8-5b20-49e9-ab0a-106231f5c76e"
            },
            "outputs": [
                {
                    "output_type": "display_data",
                    "data": {
                        "text/html": "(15 rows affected)"
                    },
                    "metadata": {}
                },
                {
                    "output_type": "display_data",
                    "data": {
                        "text/html": "Total execution time: 00:00:00.050"
                    },
                    "metadata": {}
                },
                {
                    "output_type": "execute_result",
                    "execution_count": 38,
                    "data": {
                        "application/vnd.dataresource+json": {
                            "schema": {
                                "fields": [
                                    {
                                        "name": "Emp_NO"
                                    },
                                    {
                                        "name": "Emp_Name"
                                    },
                                    {
                                        "name": "Emp_Address"
                                    },
                                    {
                                        "name": "Dept_No"
                                    },
                                    {
                                        "name": "Dept_Name"
                                    },
                                    {
                                        "name": "Salary"
                                    },
                                    {
                                        "name": "HIREDATE"
                                    }
                                ]
                            },
                            "data": [
                                {
                                    "Emp_NO": "1",
                                    "Emp_Name": "Ramesh",
                                    "Emp_Address": "GNoida",
                                    "Dept_No": "3445",
                                    "Dept_Name": "Sales",
                                    "Salary": "25000",
                                    "HIREDATE": "2020-05-10"
                                },
                                {
                                    "Emp_NO": "2",
                                    "Emp_Name": "Suresh",
                                    "Emp_Address": "GNoida",
                                    "Dept_No": "72",
                                    "Dept_Name": "Sales",
                                    "Salary": "75000",
                                    "HIREDATE": "2015-04-12"
                                },
                                {
                                    "Emp_NO": "3",
                                    "Emp_Name": "Rajesh",
                                    "Emp_Address": "GNoida",
                                    "Dept_No": "2324",
                                    "Dept_Name": "Sales",
                                    "Salary": "28000",
                                    "HIREDATE": "2017-02-27"
                                },
                                {
                                    "Emp_NO": "4",
                                    "Emp_Name": "Shyamu",
                                    "Emp_Address": "BSB",
                                    "Dept_No": "8883",
                                    "Dept_Name": "Sales",
                                    "Salary": "35000",
                                    "HIREDATE": "2016-03-22"
                                },
                                {
                                    "Emp_NO": "5",
                                    "Emp_Name": "Ramu",
                                    "Emp_Address": "BSB",
                                    "Dept_No": "74568",
                                    "Dept_Name": "Sales",
                                    "Salary": "96000",
                                    "HIREDATE": "2012-10-10"
                                },
                                {
                                    "Emp_NO": "6",
                                    "Emp_Name": "Mahesh",
                                    "Emp_Address": "GNoida",
                                    "Dept_No": "1238",
                                    "Dept_Name": "Sales",
                                    "Salary": "25000",
                                    "HIREDATE": "2020-01-25"
                                },
                                {
                                    "Emp_NO": "7",
                                    "Emp_Name": "Chaman",
                                    "Emp_Address": "BSBS",
                                    "Dept_No": "7634",
                                    "Dept_Name": "D10",
                                    "Salary": "28616",
                                    "HIREDATE": "2022-05-05"
                                },
                                {
                                    "Emp_NO": "8",
                                    "Emp_Name": "Arun",
                                    "Emp_Address": "Chennai",
                                    "Dept_No": "546",
                                    "Dept_Name": "D10",
                                    "Salary": "22000",
                                    "HIREDATE": "2023-04-22"
                                },
                                {
                                    "Emp_NO": "9",
                                    "Emp_Name": "Deva",
                                    "Emp_Address": "coimbatore",
                                    "Dept_No": "1050",
                                    "Dept_Name": "Sales",
                                    "Salary": "22000",
                                    "HIREDATE": "2023-04-22"
                                },
                                {
                                    "Emp_NO": "10",
                                    "Emp_Name": "Charan",
                                    "Emp_Address": "Hosur",
                                    "Dept_No": "1010",
                                    "Dept_Name": "Sales",
                                    "Salary": "24200",
                                    "HIREDATE": "2023-04-22"
                                },
                                {
                                    "Emp_NO": "11",
                                    "Emp_Name": "Sownder",
                                    "Emp_Address": "Dharmapuri",
                                    "Dept_No": "5050",
                                    "Dept_Name": "D10",
                                    "Salary": "22000",
                                    "HIREDATE": "2023-04-22"
                                },
                                {
                                    "Emp_NO": "12",
                                    "Emp_Name": "Surender",
                                    "Emp_Address": "Madurai",
                                    "Dept_No": "2030",
                                    "Dept_Name": "D10",
                                    "Salary": "22000",
                                    "HIREDATE": "2023-04-22"
                                },
                                {
                                    "Emp_NO": "13",
                                    "Emp_Name": "Hariharan",
                                    "Emp_Address": "chennai",
                                    "Dept_No": "7773",
                                    "Dept_Name": "Sales",
                                    "Salary": "22000",
                                    "HIREDATE": "2023-04-22"
                                },
                                {
                                    "Emp_NO": "14",
                                    "Emp_Name": "Mahavishnu",
                                    "Emp_Address": "Coimbatore",
                                    "Dept_No": "7373",
                                    "Dept_Name": "D10",
                                    "Salary": "22000",
                                    "HIREDATE": "2023-04-22"
                                },
                                {
                                    "Emp_NO": "15",
                                    "Emp_Name": "Shankar",
                                    "Emp_Address": "chennai",
                                    "Dept_No": "3040",
                                    "Dept_Name": "Sales",
                                    "Salary": "22000",
                                    "HIREDATE": "2023-04-22"
                                }
                            ]
                        },
                        "text/html": "<table><tr><th>Emp_NO</th><th>Emp_Name</th><th>Emp_Address</th><th>Dept_No</th><th>Dept_Name</th><th>Salary</th><th>HIREDATE</th></tr><tr><td>1</td><td>Ramesh</td><td>GNoida</td><td>3445</td><td>Sales</td><td>25000</td><td>2020-05-10</td></tr><tr><td>2</td><td>Suresh</td><td>GNoida</td><td>72</td><td>Sales</td><td>75000</td><td>2015-04-12</td></tr><tr><td>3</td><td>Rajesh</td><td>GNoida</td><td>2324</td><td>Sales</td><td>28000</td><td>2017-02-27</td></tr><tr><td>4</td><td>Shyamu</td><td>BSB</td><td>8883</td><td>Sales</td><td>35000</td><td>2016-03-22</td></tr><tr><td>5</td><td>Ramu</td><td>BSB</td><td>74568</td><td>Sales</td><td>96000</td><td>2012-10-10</td></tr><tr><td>6</td><td>Mahesh</td><td>GNoida</td><td>1238</td><td>Sales</td><td>25000</td><td>2020-01-25</td></tr><tr><td>7</td><td>Chaman</td><td>BSBS</td><td>7634</td><td>D10</td><td>28616</td><td>2022-05-05</td></tr><tr><td>8</td><td>Arun</td><td>Chennai</td><td>546</td><td>D10</td><td>22000</td><td>2023-04-22</td></tr><tr><td>9</td><td>Deva</td><td>coimbatore</td><td>1050</td><td>Sales</td><td>22000</td><td>2023-04-22</td></tr><tr><td>10</td><td>Charan</td><td>Hosur</td><td>1010</td><td>Sales</td><td>24200</td><td>2023-04-22</td></tr><tr><td>11</td><td>Sownder</td><td>Dharmapuri</td><td>5050</td><td>D10</td><td>22000</td><td>2023-04-22</td></tr><tr><td>12</td><td>Surender</td><td>Madurai</td><td>2030</td><td>D10</td><td>22000</td><td>2023-04-22</td></tr><tr><td>13</td><td>Hariharan</td><td>chennai</td><td>7773</td><td>Sales</td><td>22000</td><td>2023-04-22</td></tr><tr><td>14</td><td>Mahavishnu</td><td>Coimbatore</td><td>7373</td><td>D10</td><td>22000</td><td>2023-04-22</td></tr><tr><td>15</td><td>Shankar</td><td>chennai</td><td>3040</td><td>Sales</td><td>22000</td><td>2023-04-22</td></tr></table>"
                    },
                    "metadata": {}
                }
            ],
            "execution_count": 38
        },
        {
            "cell_type": "code",
            "source": [
                " CREATE PROCEDURE increase_Salary_\r\n",
                "   --@AllEMP_NO INT,\r\n",
                "   @salary DECIMAL(18, 2) OUTPUT\r\n",
                "AS\r\n",
                "BEGIN\r\n",
                "   -- get the current salary of the customer\r\n",
                "   SELECT @salary = SALARY FROM EMPLOYEE  \r\n",
                "   -- increase the salary by 10%\r\n",
                "   SET @salary = @salary * 1.1;\r\n",
                "\r\n",
                "   -- update the cutomer's salary in the database\r\n",
                "   UPDATE EMPLOYEE SET SALARY = @salary;\r\n",
                "END;\r\n",
                ""
            ],
            "metadata": {
                "azdata_cell_guid": "305c6574-b728-4fcf-b156-5c6a836819a1",
                "language": "sql"
            },
            "outputs": [
                {
                    "output_type": "display_data",
                    "data": {
                        "text/html": "Commands completed successfully."
                    },
                    "metadata": {}
                },
                {
                    "output_type": "display_data",
                    "data": {
                        "text/html": "Total execution time: 00:00:00.005"
                    },
                    "metadata": {}
                }
            ],
            "execution_count": 9
        },
        {
            "cell_type": "code",
            "source": [
                "EXEC increase_Salary  @salary = '0.00';"
            ],
            "metadata": {
                "language": "sql",
                "azdata_cell_guid": "ba0a55b2-fa59-4880-a11e-5c9444708ada"
            },
            "outputs": [
                {
                    "output_type": "error",
                    "ename": "",
                    "evalue": "Msg 201, Level 16, State 4, Procedure increase_Salary, Line 0\r\nProcedure or function 'increase_Salary' expects parameter '@AllEMP_NO', which was not supplied.",
                    "traceback": []
                },
                {
                    "output_type": "display_data",
                    "data": {
                        "text/html": "Total execution time: 00:00:00.001"
                    },
                    "metadata": {}
                }
            ],
            "execution_count": 10
        },
        {
            "cell_type": "code",
            "source": [
                "SELECT * FROM [EMPLOYEE]"
            ],
            "metadata": {
                "language": "sql",
                "azdata_cell_guid": "2505685d-2c48-4e3d-9069-38fcd1ac6346"
            },
            "outputs": [
                {
                    "output_type": "display_data",
                    "data": {
                        "text/html": "(15 rows affected)"
                    },
                    "metadata": {}
                },
                {
                    "output_type": "display_data",
                    "data": {
                        "text/html": "Total execution time: 00:00:00.016"
                    },
                    "metadata": {}
                },
                {
                    "output_type": "execute_result",
                    "execution_count": 41,
                    "data": {
                        "application/vnd.dataresource+json": {
                            "schema": {
                                "fields": [
                                    {
                                        "name": "Emp_NO"
                                    },
                                    {
                                        "name": "Emp_Name"
                                    },
                                    {
                                        "name": "Emp_Address"
                                    },
                                    {
                                        "name": "Dept_No"
                                    },
                                    {
                                        "name": "Dept_Name"
                                    },
                                    {
                                        "name": "Salary"
                                    },
                                    {
                                        "name": "HIREDATE"
                                    }
                                ]
                            },
                            "data": [
                                {
                                    "Emp_NO": "1",
                                    "Emp_Name": "Ramesh",
                                    "Emp_Address": "GNoida",
                                    "Dept_No": "3445",
                                    "Dept_Name": "Sales",
                                    "Salary": "25000",
                                    "HIREDATE": "2020-05-10"
                                },
                                {
                                    "Emp_NO": "2",
                                    "Emp_Name": "Suresh",
                                    "Emp_Address": "GNoida",
                                    "Dept_No": "72",
                                    "Dept_Name": "Sales",
                                    "Salary": "75000",
                                    "HIREDATE": "2015-04-12"
                                },
                                {
                                    "Emp_NO": "3",
                                    "Emp_Name": "Rajesh",
                                    "Emp_Address": "GNoida",
                                    "Dept_No": "2324",
                                    "Dept_Name": "Sales",
                                    "Salary": "28000",
                                    "HIREDATE": "2017-02-27"
                                },
                                {
                                    "Emp_NO": "4",
                                    "Emp_Name": "Shyamu",
                                    "Emp_Address": "BSB",
                                    "Dept_No": "8883",
                                    "Dept_Name": "Sales",
                                    "Salary": "35000",
                                    "HIREDATE": "2016-03-22"
                                },
                                {
                                    "Emp_NO": "5",
                                    "Emp_Name": "Ramu",
                                    "Emp_Address": "BSB",
                                    "Dept_No": "74568",
                                    "Dept_Name": "Sales",
                                    "Salary": "96000",
                                    "HIREDATE": "2012-10-10"
                                },
                                {
                                    "Emp_NO": "6",
                                    "Emp_Name": "Mahesh",
                                    "Emp_Address": "GNoida",
                                    "Dept_No": "1238",
                                    "Dept_Name": "Sales",
                                    "Salary": "25000",
                                    "HIREDATE": "2020-01-25"
                                },
                                {
                                    "Emp_NO": "7",
                                    "Emp_Name": "Chaman",
                                    "Emp_Address": "BSBS",
                                    "Dept_No": "7634",
                                    "Dept_Name": "D10",
                                    "Salary": "28616",
                                    "HIREDATE": "2022-05-05"
                                },
                                {
                                    "Emp_NO": "8",
                                    "Emp_Name": "Arun",
                                    "Emp_Address": "Chennai",
                                    "Dept_No": "546",
                                    "Dept_Name": "D10",
                                    "Salary": "22000",
                                    "HIREDATE": "2023-04-22"
                                },
                                {
                                    "Emp_NO": "9",
                                    "Emp_Name": "Deva",
                                    "Emp_Address": "coimbatore",
                                    "Dept_No": "1050",
                                    "Dept_Name": "Sales",
                                    "Salary": "22000",
                                    "HIREDATE": "2023-04-22"
                                },
                                {
                                    "Emp_NO": "10",
                                    "Emp_Name": "Charan",
                                    "Emp_Address": "Hosur",
                                    "Dept_No": "1010",
                                    "Dept_Name": "Sales",
                                    "Salary": "24200",
                                    "HIREDATE": "2023-04-22"
                                },
                                {
                                    "Emp_NO": "11",
                                    "Emp_Name": "Sownder",
                                    "Emp_Address": "Dharmapuri",
                                    "Dept_No": "5050",
                                    "Dept_Name": "D10",
                                    "Salary": "22000",
                                    "HIREDATE": "2023-04-22"
                                },
                                {
                                    "Emp_NO": "12",
                                    "Emp_Name": "Surender",
                                    "Emp_Address": "Madurai",
                                    "Dept_No": "2030",
                                    "Dept_Name": "D10",
                                    "Salary": "22000",
                                    "HIREDATE": "2023-04-22"
                                },
                                {
                                    "Emp_NO": "13",
                                    "Emp_Name": "Hariharan",
                                    "Emp_Address": "chennai",
                                    "Dept_No": "7773",
                                    "Dept_Name": "Sales",
                                    "Salary": "22000",
                                    "HIREDATE": "2023-04-22"
                                },
                                {
                                    "Emp_NO": "14",
                                    "Emp_Name": "Mahavishnu",
                                    "Emp_Address": "Coimbatore",
                                    "Dept_No": "7373",
                                    "Dept_Name": "D10",
                                    "Salary": "24200",
                                    "HIREDATE": "2023-04-22"
                                },
                                {
                                    "Emp_NO": "15",
                                    "Emp_Name": "Shankar",
                                    "Emp_Address": "chennai",
                                    "Dept_No": "3040",
                                    "Dept_Name": "Sales",
                                    "Salary": "22000",
                                    "HIREDATE": "2023-04-22"
                                }
                            ]
                        },
                        "text/html": "<table><tr><th>Emp_NO</th><th>Emp_Name</th><th>Emp_Address</th><th>Dept_No</th><th>Dept_Name</th><th>Salary</th><th>HIREDATE</th></tr><tr><td>1</td><td>Ramesh</td><td>GNoida</td><td>3445</td><td>Sales</td><td>25000</td><td>2020-05-10</td></tr><tr><td>2</td><td>Suresh</td><td>GNoida</td><td>72</td><td>Sales</td><td>75000</td><td>2015-04-12</td></tr><tr><td>3</td><td>Rajesh</td><td>GNoida</td><td>2324</td><td>Sales</td><td>28000</td><td>2017-02-27</td></tr><tr><td>4</td><td>Shyamu</td><td>BSB</td><td>8883</td><td>Sales</td><td>35000</td><td>2016-03-22</td></tr><tr><td>5</td><td>Ramu</td><td>BSB</td><td>74568</td><td>Sales</td><td>96000</td><td>2012-10-10</td></tr><tr><td>6</td><td>Mahesh</td><td>GNoida</td><td>1238</td><td>Sales</td><td>25000</td><td>2020-01-25</td></tr><tr><td>7</td><td>Chaman</td><td>BSBS</td><td>7634</td><td>D10</td><td>28616</td><td>2022-05-05</td></tr><tr><td>8</td><td>Arun</td><td>Chennai</td><td>546</td><td>D10</td><td>22000</td><td>2023-04-22</td></tr><tr><td>9</td><td>Deva</td><td>coimbatore</td><td>1050</td><td>Sales</td><td>22000</td><td>2023-04-22</td></tr><tr><td>10</td><td>Charan</td><td>Hosur</td><td>1010</td><td>Sales</td><td>24200</td><td>2023-04-22</td></tr><tr><td>11</td><td>Sownder</td><td>Dharmapuri</td><td>5050</td><td>D10</td><td>22000</td><td>2023-04-22</td></tr><tr><td>12</td><td>Surender</td><td>Madurai</td><td>2030</td><td>D10</td><td>22000</td><td>2023-04-22</td></tr><tr><td>13</td><td>Hariharan</td><td>chennai</td><td>7773</td><td>Sales</td><td>22000</td><td>2023-04-22</td></tr><tr><td>14</td><td>Mahavishnu</td><td>Coimbatore</td><td>7373</td><td>D10</td><td>24200</td><td>2023-04-22</td></tr><tr><td>15</td><td>Shankar</td><td>chennai</td><td>3040</td><td>Sales</td><td>22000</td><td>2023-04-22</td></tr></table>"
                    },
                    "metadata": {}
                }
            ],
            "execution_count": 41
        },
        {
            "cell_type": "code",
            "source": [
                "EXEC increaseSalary @EMP_NO=15, @salary = '0.00';"
            ],
            "metadata": {
                "azdata_cell_guid": "3e96890a-f2d1-454a-803f-e46e7e6cf56f",
                "language": "sql"
            },
            "outputs": [
                {
                    "output_type": "display_data",
                    "data": {
                        "text/html": "(1 row affected)"
                    },
                    "metadata": {}
                },
                {
                    "output_type": "display_data",
                    "data": {
                        "text/html": "Total execution time: 00:00:00.006"
                    },
                    "metadata": {}
                }
            ],
            "execution_count": 42
        },
        {
            "cell_type": "markdown",
            "source": [
                ""
            ],
            "metadata": {
                "language": "sql",
                "azdata_cell_guid": "94b157a5-f38e-4755-884b-157ea0613b45"
            }
        },
        {
            "cell_type": "markdown",
            "source": [
                "## SELECT INTO Statement\n",
                "\n",
                "The `SELECT INTO` statement copies data from one table into a new table.\n",
                "\n",
                "<span style=\"margin-top: 0px; padding-top: 0px; color: rgb(0, 0, 0); font-family: Verdana, sans-serif; font-size: 15px; background-color: rgb(255, 255, 255);\">The new table will be created with the column-names and types as defined in the old table. You can create new column names using the&nbsp;</span> `AS` <span style=\"color: rgb(0, 0, 0); font-family: Verdana, sans-serif; font-size: 15px; background-color: rgb(255, 255, 255);\">&nbsp;clause.</span>"
            ],
            "metadata": {
                "language": "sql",
                "azdata_cell_guid": "3def3dc8-838c-4108-ad7a-f079aef783f5"
            },
            "attachments": {}
        },
        {
            "cell_type": "code",
            "source": [
                "SELECT * INTO emp_addresschennai\r\n",
                "FROM EMPLOYEE\r\n",
                "WHERE Emp_Address = 'chennai';"
            ],
            "metadata": {
                "language": "sql",
                "azdata_cell_guid": "6a2e12e7-ee2a-4172-b463-6a08b44c7979"
            },
            "outputs": [
                {
                    "output_type": "display_data",
                    "data": {
                        "text/html": "(3 rows affected)"
                    },
                    "metadata": {}
                },
                {
                    "output_type": "display_data",
                    "data": {
                        "text/html": "Total execution time: 00:00:00.173"
                    },
                    "metadata": {}
                }
            ],
            "execution_count": 11
        },
        {
            "cell_type": "code",
            "source": [
                "select *\r\n",
                "from emp_addresschennai;"
            ],
            "metadata": {
                "language": "sql",
                "azdata_cell_guid": "24a4d598-5084-4337-aa02-43f8736574c2"
            },
            "outputs": [
                {
                    "output_type": "display_data",
                    "data": {
                        "text/html": "(3 rows affected)"
                    },
                    "metadata": {}
                },
                {
                    "output_type": "display_data",
                    "data": {
                        "text/html": "Total execution time: 00:00:00.048"
                    },
                    "metadata": {}
                },
                {
                    "output_type": "execute_result",
                    "execution_count": 28,
                    "data": {
                        "application/vnd.dataresource+json": {
                            "schema": {
                                "fields": [
                                    {
                                        "name": "Emp_NO"
                                    },
                                    {
                                        "name": "Emp_Name"
                                    },
                                    {
                                        "name": "Emp_Address"
                                    },
                                    {
                                        "name": "Dept_No"
                                    },
                                    {
                                        "name": "Dept_Name"
                                    },
                                    {
                                        "name": "Salary"
                                    },
                                    {
                                        "name": "HIREDATE"
                                    }
                                ]
                            },
                            "data": [
                                {
                                    "Emp_NO": "8",
                                    "Emp_Name": "Arun",
                                    "Emp_Address": "Chennai",
                                    "Dept_No": "546",
                                    "Dept_Name": "D10",
                                    "Salary": "22000",
                                    "HIREDATE": "2023-04-22"
                                },
                                {
                                    "Emp_NO": "13",
                                    "Emp_Name": "Hariharan",
                                    "Emp_Address": "chennai",
                                    "Dept_No": "7773",
                                    "Dept_Name": "Sales",
                                    "Salary": "22000",
                                    "HIREDATE": "2023-04-22"
                                },
                                {
                                    "Emp_NO": "15",
                                    "Emp_Name": "Shankar",
                                    "Emp_Address": "chennai",
                                    "Dept_No": "3040",
                                    "Dept_Name": "Sales",
                                    "Salary": "24200",
                                    "HIREDATE": "2023-04-22"
                                }
                            ]
                        },
                        "text/html": "<table><tr><th>Emp_NO</th><th>Emp_Name</th><th>Emp_Address</th><th>Dept_No</th><th>Dept_Name</th><th>Salary</th><th>HIREDATE</th></tr><tr><td>8</td><td>Arun</td><td>Chennai</td><td>546</td><td>D10</td><td>22000</td><td>2023-04-22</td></tr><tr><td>13</td><td>Hariharan</td><td>chennai</td><td>7773</td><td>Sales</td><td>22000</td><td>2023-04-22</td></tr><tr><td>15</td><td>Shankar</td><td>chennai</td><td>3040</td><td>Sales</td><td>24200</td><td>2023-04-22</td></tr></table>"
                    },
                    "metadata": {}
                }
            ],
            "execution_count": 28
        },
        {
            "cell_type": "code",
            "source": [
                "select dept_No, dept_name\r\n",
                "into dept_1\r\n",
                "from dept;\r\n",
                "\r\n",
                ""
            ],
            "metadata": {
                "language": "sql",
                "azdata_cell_guid": "d6f2de3b-9c40-487f-9f8f-b99dede9a115"
            },
            "outputs": [
                {
                    "output_type": "display_data",
                    "data": {
                        "text/html": "(4 rows affected)"
                    },
                    "metadata": {}
                },
                {
                    "output_type": "display_data",
                    "data": {
                        "text/html": "Total execution time: 00:00:00.061"
                    },
                    "metadata": {}
                }
            ],
            "execution_count": 16
        },
        {
            "cell_type": "code",
            "source": [
                "select *\r\n",
                "from dept_1;"
            ],
            "metadata": {
                "language": "sql",
                "azdata_cell_guid": "e8e19eca-3a82-4b98-8c63-d712bbc1ef50"
            },
            "outputs": [
                {
                    "output_type": "display_data",
                    "data": {
                        "text/html": "(4 rows affected)"
                    },
                    "metadata": {}
                },
                {
                    "output_type": "display_data",
                    "data": {
                        "text/html": "Total execution time: 00:00:00.061"
                    },
                    "metadata": {}
                },
                {
                    "output_type": "execute_result",
                    "execution_count": 17,
                    "data": {
                        "application/vnd.dataresource+json": {
                            "schema": {
                                "fields": [
                                    {
                                        "name": "dept_No"
                                    },
                                    {
                                        "name": "dept_name"
                                    }
                                ]
                            },
                            "data": [
                                {
                                    "dept_No": "1010",
                                    "dept_name": "MANAGER"
                                },
                                {
                                    "dept_No": "2324",
                                    "dept_name": "MANAGER"
                                },
                                {
                                    "dept_No": "3345",
                                    "dept_name": "SALES"
                                },
                                {
                                    "dept_No": "1238",
                                    "dept_name": "SALES"
                                }
                            ]
                        },
                        "text/html": "<table><tr><th>dept_No</th><th>dept_name</th></tr><tr><td>1010</td><td>MANAGER</td></tr><tr><td>2324</td><td>MANAGER</td></tr><tr><td>3345</td><td>SALES</td></tr><tr><td>1238</td><td>SALES</td></tr></table>"
                    },
                    "metadata": {}
                }
            ],
            "execution_count": 17
        },
        {
            "cell_type": "markdown",
            "source": [
                "<span style=\"box-sizing: inherit; font-weight: bolder; color: rgb(0, 0, 0); font-family: Verdana, sans-serif; font-size: 15px; background-color: rgb(255, 255, 255);\">Tip:</span> `SELECT INTO` <span style=\"color: rgb(0, 0, 0); font-family: Verdana, sans-serif; font-size: 15px; background-color: rgb(255, 255, 255);\">&nbsp;can also be used to create a new, empty table using the schema of another. Just add a&nbsp;</span> `WHERE` <span style=\"color: rgb(0, 0, 0); font-family: Verdana, sans-serif; font-size: 15px; background-color: rgb(255, 255, 255);\">&nbsp;clause that causes the query to return no data</span>"
            ],
            "metadata": {
                "language": "sql",
                "azdata_cell_guid": "4325e4a5-c8c3-49c0-9e0b-263345414bb4"
            },
            "attachments": {}
        },
        {
            "cell_type": "code",
            "source": [
                "select dept_No, dept_name\r\n",
                "into department_2\r\n",
                "from dept\r\n",
                "WHERE 1=2;"
            ],
            "metadata": {
                "language": "sql",
                "azdata_cell_guid": "fe092b38-4c88-4407-8f57-e94e26a48a7d"
            },
            "outputs": [
                {
                    "output_type": "display_data",
                    "data": {
                        "text/html": "(0 rows affected)"
                    },
                    "metadata": {}
                },
                {
                    "output_type": "display_data",
                    "data": {
                        "text/html": "Total execution time: 00:00:00.006"
                    },
                    "metadata": {}
                }
            ],
            "execution_count": 26
        },
        {
            "cell_type": "code",
            "source": [
                "select * from department_2;"
            ],
            "metadata": {
                "language": "sql",
                "azdata_cell_guid": "fee0f9db-0ea2-4ac7-81be-d85b8bd61ea0"
            },
            "outputs": [
                {
                    "output_type": "display_data",
                    "data": {
                        "text/html": "(0 rows affected)"
                    },
                    "metadata": {}
                },
                {
                    "output_type": "display_data",
                    "data": {
                        "text/html": "Total execution time: 00:00:00.004"
                    },
                    "metadata": {}
                },
                {
                    "output_type": "execute_result",
                    "execution_count": 27,
                    "data": {
                        "application/vnd.dataresource+json": {
                            "schema": {
                                "fields": [
                                    {
                                        "name": "dept_No"
                                    },
                                    {
                                        "name": "dept_name"
                                    }
                                ]
                            },
                            "data": []
                        },
                        "text/html": "<table><tr><th>dept_No</th><th>dept_name</th></tr></table>"
                    },
                    "metadata": {}
                }
            ],
            "execution_count": 27
        },
        {
            "cell_type": "markdown",
            "source": [
                "## INSERT INTO SELECT Statement\n",
                "\n",
                "The `INSERT INTO SELECT` statement copies data from one table and inserts it into another table.\n",
                "\n",
                "The `INSERT INTO SELECT` statement requires that the data types in source and target tables match.\n",
                "\n",
                "Note: The existing records in the target table are unaffected."
            ],
            "metadata": {
                "language": "sql",
                "azdata_cell_guid": "1f603bae-538d-4204-a2c7-d6ffb707b0c8"
            },
            "attachments": {}
        },
        {
            "cell_type": "code",
            "source": [
                "INSERT INTO department_2 (dept_No, dept_name)\r\n",
                "SELECT dept_No, dept_name  FROM EMPLOYEE;"
            ],
            "metadata": {
                "language": "sql",
                "azdata_cell_guid": "a5a8cc1d-ad3e-4fb8-9b45-afa53f6e159e",
                "tags": [
                    "hide_input"
                ]
            },
            "outputs": [
                {
                    "output_type": "display_data",
                    "data": {
                        "text/html": "(15 rows affected)"
                    },
                    "metadata": {}
                },
                {
                    "output_type": "display_data",
                    "data": {
                        "text/html": "Total execution time: 00:00:00.002"
                    },
                    "metadata": {}
                }
            ],
            "execution_count": 2
        },
        {
            "cell_type": "code",
            "source": [
                "select * from department_2;"
            ],
            "metadata": {
                "language": "sql",
                "azdata_cell_guid": "37695812-b8bb-4eea-a89b-b146d8f06e30"
            },
            "outputs": [
                {
                    "output_type": "display_data",
                    "data": {
                        "text/html": "(49 rows affected)"
                    },
                    "metadata": {}
                },
                {
                    "output_type": "display_data",
                    "data": {
                        "text/html": "Total execution time: 00:00:00.102"
                    },
                    "metadata": {}
                },
                {
                    "output_type": "execute_result",
                    "execution_count": 3,
                    "data": {
                        "application/vnd.dataresource+json": {
                            "schema": {
                                "fields": [
                                    {
                                        "name": "dept_No"
                                    },
                                    {
                                        "name": "dept_name"
                                    }
                                ]
                            },
                            "data": [
                                {
                                    "dept_No": "3445",
                                    "dept_name": "Sales"
                                },
                                {
                                    "dept_No": "72",
                                    "dept_name": "Sales"
                                },
                                {
                                    "dept_No": "2324",
                                    "dept_name": "Sales"
                                },
                                {
                                    "dept_No": "8883",
                                    "dept_name": "Sales"
                                },
                                {
                                    "dept_No": "74568",
                                    "dept_name": "Sales"
                                },
                                {
                                    "dept_No": "1238",
                                    "dept_name": "Sales"
                                },
                                {
                                    "dept_No": "7634",
                                    "dept_name": "D10"
                                },
                                {
                                    "dept_No": "546",
                                    "dept_name": "D10"
                                },
                                {
                                    "dept_No": "1050",
                                    "dept_name": "Sales"
                                },
                                {
                                    "dept_No": "1010",
                                    "dept_name": "Sales"
                                },
                                {
                                    "dept_No": "5050",
                                    "dept_name": "D10"
                                },
                                {
                                    "dept_No": "2030",
                                    "dept_name": "D10"
                                },
                                {
                                    "dept_No": "7773",
                                    "dept_name": "Sales"
                                },
                                {
                                    "dept_No": "7373",
                                    "dept_name": "D10"
                                },
                                {
                                    "dept_No": "3040",
                                    "dept_name": "Sales"
                                },
                                {
                                    "dept_No": "1010",
                                    "dept_name": "MANAGER"
                                },
                                {
                                    "dept_No": "2324",
                                    "dept_name": "MANAGER"
                                },
                                {
                                    "dept_No": "3345",
                                    "dept_name": "SALES"
                                },
                                {
                                    "dept_No": "1238",
                                    "dept_name": "SALES"
                                },
                                {
                                    "dept_No": "1050",
                                    "dept_name": "Sales"
                                },
                                {
                                    "dept_No": "1050",
                                    "dept_name": "Sales"
                                },
                                {
                                    "dept_No": "1050",
                                    "dept_name": "Sales"
                                },
                                {
                                    "dept_No": "1050",
                                    "dept_name": "Sales"
                                },
                                {
                                    "dept_No": "1050",
                                    "dept_name": "Sales"
                                },
                                {
                                    "dept_No": "5050",
                                    "dept_name": "Manager"
                                },
                                {
                                    "dept_No": "2030",
                                    "dept_name": "D10"
                                },
                                {
                                    "dept_No": "2030",
                                    "dept_name": "D10"
                                },
                                {
                                    "dept_No": "5050",
                                    "dept_name": "Manager"
                                },
                                {
                                    "dept_No": "5050",
                                    "dept_name": "Manager"
                                },
                                {
                                    "dept_No": "2030",
                                    "dept_name": "D10"
                                },
                                {
                                    "dept_No": "2030",
                                    "dept_name": "D10"
                                },
                                {
                                    "dept_No": "5050",
                                    "dept_name": "Manager"
                                },
                                {
                                    "dept_No": "2030",
                                    "dept_name": "D10"
                                },
                                {
                                    "dept_No": "5050",
                                    "dept_name": "Manager"
                                },
                                {
                                    "dept_No": "1050",
                                    "dept_name": "Sales"
                                },
                                {
                                    "dept_No": "1050",
                                    "dept_name": "Sales"
                                },
                                {
                                    "dept_No": "1050",
                                    "dept_name": "Sales"
                                },
                                {
                                    "dept_No": "1050",
                                    "dept_name": "Sales"
                                },
                                {
                                    "dept_No": "1050",
                                    "dept_name": "Sales"
                                },
                                {
                                    "dept_No": "5050",
                                    "dept_name": "Manager"
                                },
                                {
                                    "dept_No": "2030",
                                    "dept_name": "D10"
                                },
                                {
                                    "dept_No": "2030",
                                    "dept_name": "D10"
                                },
                                {
                                    "dept_No": "5050",
                                    "dept_name": "Manager"
                                },
                                {
                                    "dept_No": "5050",
                                    "dept_name": "Manager"
                                },
                                {
                                    "dept_No": "2030",
                                    "dept_name": "D10"
                                },
                                {
                                    "dept_No": "2030",
                                    "dept_name": "D10"
                                },
                                {
                                    "dept_No": "5050",
                                    "dept_name": "Manager"
                                },
                                {
                                    "dept_No": "2030",
                                    "dept_name": "D10"
                                },
                                {
                                    "dept_No": "5050",
                                    "dept_name": "Manager"
                                }
                            ]
                        },
                        "text/html": "<table><tr><th>dept_No</th><th>dept_name</th></tr><tr><td>3445</td><td>Sales</td></tr><tr><td>72</td><td>Sales</td></tr><tr><td>2324</td><td>Sales</td></tr><tr><td>8883</td><td>Sales</td></tr><tr><td>74568</td><td>Sales</td></tr><tr><td>1238</td><td>Sales</td></tr><tr><td>7634</td><td>D10</td></tr><tr><td>546</td><td>D10</td></tr><tr><td>1050</td><td>Sales</td></tr><tr><td>1010</td><td>Sales</td></tr><tr><td>5050</td><td>D10</td></tr><tr><td>2030</td><td>D10</td></tr><tr><td>7773</td><td>Sales</td></tr><tr><td>7373</td><td>D10</td></tr><tr><td>3040</td><td>Sales</td></tr><tr><td>1010</td><td>MANAGER</td></tr><tr><td>2324</td><td>MANAGER</td></tr><tr><td>3345</td><td>SALES</td></tr><tr><td>1238</td><td>SALES</td></tr><tr><td>1050</td><td>Sales</td></tr><tr><td>1050</td><td>Sales</td></tr><tr><td>1050</td><td>Sales</td></tr><tr><td>1050</td><td>Sales</td></tr><tr><td>1050</td><td>Sales</td></tr><tr><td>5050</td><td>Manager</td></tr><tr><td>2030</td><td>D10</td></tr><tr><td>2030</td><td>D10</td></tr><tr><td>5050</td><td>Manager</td></tr><tr><td>5050</td><td>Manager</td></tr><tr><td>2030</td><td>D10</td></tr><tr><td>2030</td><td>D10</td></tr><tr><td>5050</td><td>Manager</td></tr><tr><td>2030</td><td>D10</td></tr><tr><td>5050</td><td>Manager</td></tr><tr><td>1050</td><td>Sales</td></tr><tr><td>1050</td><td>Sales</td></tr><tr><td>1050</td><td>Sales</td></tr><tr><td>1050</td><td>Sales</td></tr><tr><td>1050</td><td>Sales</td></tr><tr><td>5050</td><td>Manager</td></tr><tr><td>2030</td><td>D10</td></tr><tr><td>2030</td><td>D10</td></tr><tr><td>5050</td><td>Manager</td></tr><tr><td>5050</td><td>Manager</td></tr><tr><td>2030</td><td>D10</td></tr><tr><td>2030</td><td>D10</td></tr><tr><td>5050</td><td>Manager</td></tr><tr><td>2030</td><td>D10</td></tr><tr><td>5050</td><td>Manager</td></tr></table>"
                    },
                    "metadata": {}
                }
            ],
            "execution_count": 3
        },
        {
            "cell_type": "code",
            "source": [
                "INSERT INTO department_2 (dept_No, dept_name)\r\n",
                "SELECT dept_No, dept_name  FROM dept;"
            ],
            "metadata": {
                "language": "sql",
                "azdata_cell_guid": "6fc190ef-06bc-45e0-8b78-c5254b856c66"
            },
            "outputs": [
                {
                    "output_type": "display_data",
                    "data": {
                        "text/html": "(4 rows affected)"
                    },
                    "metadata": {}
                },
                {
                    "output_type": "display_data",
                    "data": {
                        "text/html": "Total execution time: 00:00:00.030"
                    },
                    "metadata": {}
                }
            ],
            "execution_count": 31
        },
        {
            "cell_type": "code",
            "source": [
                "select * from department_2;"
            ],
            "metadata": {
                "language": "sql",
                "azdata_cell_guid": "e518eacc-d061-4655-9778-c67167efd4b2"
            },
            "outputs": [
                {
                    "output_type": "display_data",
                    "data": {
                        "text/html": "(19 rows affected)"
                    },
                    "metadata": {}
                },
                {
                    "output_type": "display_data",
                    "data": {
                        "text/html": "Total execution time: 00:00:00.019"
                    },
                    "metadata": {}
                },
                {
                    "output_type": "execute_result",
                    "execution_count": 32,
                    "data": {
                        "application/vnd.dataresource+json": {
                            "schema": {
                                "fields": [
                                    {
                                        "name": "dept_No"
                                    },
                                    {
                                        "name": "dept_name"
                                    }
                                ]
                            },
                            "data": [
                                {
                                    "dept_No": "3445",
                                    "dept_name": "Sales"
                                },
                                {
                                    "dept_No": "72",
                                    "dept_name": "Sales"
                                },
                                {
                                    "dept_No": "2324",
                                    "dept_name": "Sales"
                                },
                                {
                                    "dept_No": "8883",
                                    "dept_name": "Sales"
                                },
                                {
                                    "dept_No": "74568",
                                    "dept_name": "Sales"
                                },
                                {
                                    "dept_No": "1238",
                                    "dept_name": "Sales"
                                },
                                {
                                    "dept_No": "7634",
                                    "dept_name": "D10"
                                },
                                {
                                    "dept_No": "546",
                                    "dept_name": "D10"
                                },
                                {
                                    "dept_No": "1050",
                                    "dept_name": "Sales"
                                },
                                {
                                    "dept_No": "1010",
                                    "dept_name": "Sales"
                                },
                                {
                                    "dept_No": "5050",
                                    "dept_name": "D10"
                                },
                                {
                                    "dept_No": "2030",
                                    "dept_name": "D10"
                                },
                                {
                                    "dept_No": "7773",
                                    "dept_name": "Sales"
                                },
                                {
                                    "dept_No": "7373",
                                    "dept_name": "D10"
                                },
                                {
                                    "dept_No": "3040",
                                    "dept_name": "Sales"
                                },
                                {
                                    "dept_No": "1010",
                                    "dept_name": "MANAGER"
                                },
                                {
                                    "dept_No": "2324",
                                    "dept_name": "MANAGER"
                                },
                                {
                                    "dept_No": "3345",
                                    "dept_name": "SALES"
                                },
                                {
                                    "dept_No": "1238",
                                    "dept_name": "SALES"
                                }
                            ]
                        },
                        "text/html": "<table><tr><th>dept_No</th><th>dept_name</th></tr><tr><td>3445</td><td>Sales</td></tr><tr><td>72</td><td>Sales</td></tr><tr><td>2324</td><td>Sales</td></tr><tr><td>8883</td><td>Sales</td></tr><tr><td>74568</td><td>Sales</td></tr><tr><td>1238</td><td>Sales</td></tr><tr><td>7634</td><td>D10</td></tr><tr><td>546</td><td>D10</td></tr><tr><td>1050</td><td>Sales</td></tr><tr><td>1010</td><td>Sales</td></tr><tr><td>5050</td><td>D10</td></tr><tr><td>2030</td><td>D10</td></tr><tr><td>7773</td><td>Sales</td></tr><tr><td>7373</td><td>D10</td></tr><tr><td>3040</td><td>Sales</td></tr><tr><td>1010</td><td>MANAGER</td></tr><tr><td>2324</td><td>MANAGER</td></tr><tr><td>3345</td><td>SALES</td></tr><tr><td>1238</td><td>SALES</td></tr></table>"
                    },
                    "metadata": {}
                }
            ],
            "execution_count": 32
        },
        {
            "cell_type": "code",
            "source": [
                "TRUNCATE TABLE dept_1;"
            ],
            "metadata": {
                "language": "sql",
                "azdata_cell_guid": "77657ede-92cc-40ac-a7ed-dd4a8d20a07b"
            },
            "outputs": [
                {
                    "output_type": "display_data",
                    "data": {
                        "text/html": "Commands completed successfully."
                    },
                    "metadata": {}
                },
                {
                    "output_type": "display_data",
                    "data": {
                        "text/html": "Total execution time: 00:00:00.014"
                    },
                    "metadata": {}
                }
            ],
            "execution_count": 33
        },
        {
            "cell_type": "code",
            "source": [
                "select* from dept_1;"
            ],
            "metadata": {
                "language": "sql",
                "azdata_cell_guid": "4a05b5c6-8d77-4cfb-a3ba-88d4d81c2f6d"
            },
            "outputs": [
                {
                    "output_type": "display_data",
                    "data": {
                        "text/html": "(0 rows affected)"
                    },
                    "metadata": {}
                },
                {
                    "output_type": "display_data",
                    "data": {
                        "text/html": "Total execution time: 00:00:00.003"
                    },
                    "metadata": {}
                },
                {
                    "output_type": "execute_result",
                    "execution_count": 34,
                    "data": {
                        "application/vnd.dataresource+json": {
                            "schema": {
                                "fields": [
                                    {
                                        "name": "dept_No"
                                    },
                                    {
                                        "name": "dept_name"
                                    }
                                ]
                            },
                            "data": []
                        },
                        "text/html": "<table><tr><th>dept_No</th><th>dept_name</th></tr></table>"
                    },
                    "metadata": {}
                }
            ],
            "execution_count": 34
        },
        {
            "cell_type": "code",
            "source": [
                "UPDATE EMPLOYEE\r\n",
                "SET Dept_No = '1050'\r\n",
                "WHERE Dept_Name = 'sales';"
            ],
            "metadata": {
                "language": "sql",
                "azdata_cell_guid": "d2dd9f02-1755-46eb-84e4-b41f516554a1"
            },
            "outputs": [
                {
                    "output_type": "display_data",
                    "data": {
                        "text/html": "(15 rows affected)"
                    },
                    "metadata": {}
                },
                {
                    "output_type": "display_data",
                    "data": {
                        "text/html": "Total execution time: 00:00:00.008"
                    },
                    "metadata": {}
                }
            ],
            "execution_count": 38
        },
        {
            "cell_type": "code",
            "source": [
                "select* from dept_1;"
            ],
            "metadata": {
                "language": "sql",
                "azdata_cell_guid": "238c23d8-63d2-4745-93a4-cdd10c96bd1a"
            },
            "outputs": [
                {
                    "output_type": "display_data",
                    "data": {
                        "text/html": "(15 rows affected)"
                    },
                    "metadata": {}
                },
                {
                    "output_type": "display_data",
                    "data": {
                        "text/html": "Total execution time: 00:00:00.011"
                    },
                    "metadata": {}
                },
                {
                    "output_type": "execute_result",
                    "execution_count": 36,
                    "data": {
                        "application/vnd.dataresource+json": {
                            "schema": {
                                "fields": [
                                    {
                                        "name": "dept_No"
                                    },
                                    {
                                        "name": "dept_name"
                                    }
                                ]
                            },
                            "data": [
                                {
                                    "dept_No": "72",
                                    "dept_name": "Sales"
                                },
                                {
                                    "dept_No": "546",
                                    "dept_name": "D10"
                                },
                                {
                                    "dept_No": "1010",
                                    "dept_name": "Sales"
                                },
                                {
                                    "dept_No": "1050",
                                    "dept_name": "Sales"
                                },
                                {
                                    "dept_No": "1238",
                                    "dept_name": "Sales"
                                },
                                {
                                    "dept_No": "2030",
                                    "dept_name": "D10"
                                },
                                {
                                    "dept_No": "2324",
                                    "dept_name": "Sales"
                                },
                                {
                                    "dept_No": "3040",
                                    "dept_name": "Sales"
                                },
                                {
                                    "dept_No": "3445",
                                    "dept_name": "Sales"
                                },
                                {
                                    "dept_No": "5050",
                                    "dept_name": "D10"
                                },
                                {
                                    "dept_No": "7373",
                                    "dept_name": "D10"
                                },
                                {
                                    "dept_No": "7634",
                                    "dept_name": "D10"
                                },
                                {
                                    "dept_No": "7773",
                                    "dept_name": "Sales"
                                },
                                {
                                    "dept_No": "8883",
                                    "dept_name": "Sales"
                                },
                                {
                                    "dept_No": "74568",
                                    "dept_name": "Sales"
                                }
                            ]
                        },
                        "text/html": "<table><tr><th>dept_No</th><th>dept_name</th></tr><tr><td>72</td><td>Sales</td></tr><tr><td>546</td><td>D10</td></tr><tr><td>1010</td><td>Sales</td></tr><tr><td>1050</td><td>Sales</td></tr><tr><td>1238</td><td>Sales</td></tr><tr><td>2030</td><td>D10</td></tr><tr><td>2324</td><td>Sales</td></tr><tr><td>3040</td><td>Sales</td></tr><tr><td>3445</td><td>Sales</td></tr><tr><td>5050</td><td>D10</td></tr><tr><td>7373</td><td>D10</td></tr><tr><td>7634</td><td>D10</td></tr><tr><td>7773</td><td>Sales</td></tr><tr><td>8883</td><td>Sales</td></tr><tr><td>74568</td><td>Sales</td></tr></table>"
                    },
                    "metadata": {}
                }
            ],
            "execution_count": 36
        },
        {
            "cell_type": "code",
            "source": [
                "UPDATE EMPLOYEE\r\n",
                "SET Dept_No = '1050'\r\n",
                "WHERE Dept_Name = 'sales';"
            ],
            "metadata": {
                "language": "sql",
                "azdata_cell_guid": "384dfdff-1aef-4e20-9bd7-69c7071ee848",
                "tags": []
            },
            "outputs": [
                {
                    "output_type": "display_data",
                    "data": {
                        "text/html": "(10 rows affected)"
                    },
                    "metadata": {}
                },
                {
                    "output_type": "display_data",
                    "data": {
                        "text/html": "Total execution time: 00:00:00.005"
                    },
                    "metadata": {}
                }
            ],
            "execution_count": 39
        },
        {
            "cell_type": "code",
            "source": [
                "UPDATE EMPLOYEE\r\n",
                "SET Dept_No = '2030'\r\n",
                "WHERE Dept_Name = 'D10';"
            ],
            "metadata": {
                "language": "sql",
                "azdata_cell_guid": "b701d735-b769-4fba-9334-09c5a099fc37"
            },
            "outputs": [
                {
                    "output_type": "display_data",
                    "data": {
                        "text/html": "(5 rows affected)"
                    },
                    "metadata": {}
                },
                {
                    "output_type": "display_data",
                    "data": {
                        "text/html": "Total execution time: 00:00:00.005"
                    },
                    "metadata": {}
                }
            ],
            "execution_count": 40
        },
        {
            "cell_type": "code",
            "source": [
                "UPDATE EMPLOYEE\r\n",
                "SET Dept_No = '5050'\r\n",
                "WHERE Dept_Name = 'Manager';"
            ],
            "metadata": {
                "language": "sql",
                "azdata_cell_guid": "1faa3762-ca36-4b25-ae2e-1a33863a06ce"
            },
            "outputs": [
                {
                    "output_type": "display_data",
                    "data": {
                        "text/html": "(5 rows affected)"
                    },
                    "metadata": {}
                },
                {
                    "output_type": "display_data",
                    "data": {
                        "text/html": "Total execution time: 00:00:00.005"
                    },
                    "metadata": {}
                }
            ],
            "execution_count": 58
        },
        {
            "cell_type": "code",
            "source": [
                "SELECT * from EMPLOYEE;"
            ],
            "metadata": {
                "language": "sql",
                "azdata_cell_guid": "ca68bc45-8490-4759-8f6a-ab6b5ffb253c"
            },
            "outputs": [
                {
                    "output_type": "display_data",
                    "data": {
                        "text/html": "(15 rows affected)"
                    },
                    "metadata": {}
                },
                {
                    "output_type": "display_data",
                    "data": {
                        "text/html": "Total execution time: 00:00:00.020"
                    },
                    "metadata": {}
                },
                {
                    "output_type": "execute_result",
                    "execution_count": 59,
                    "data": {
                        "application/vnd.dataresource+json": {
                            "schema": {
                                "fields": [
                                    {
                                        "name": "Emp_NO"
                                    },
                                    {
                                        "name": "Emp_Name"
                                    },
                                    {
                                        "name": "Emp_Address"
                                    },
                                    {
                                        "name": "Dept_No"
                                    },
                                    {
                                        "name": "Dept_Name"
                                    },
                                    {
                                        "name": "Salary"
                                    },
                                    {
                                        "name": "HIREDATE"
                                    }
                                ]
                            },
                            "data": [
                                {
                                    "Emp_NO": "1",
                                    "Emp_Name": "Ramesh",
                                    "Emp_Address": "GNoida",
                                    "Dept_No": "1050",
                                    "Dept_Name": "Sales",
                                    "Salary": "25000",
                                    "HIREDATE": "2020-05-10"
                                },
                                {
                                    "Emp_NO": "2",
                                    "Emp_Name": "Suresh",
                                    "Emp_Address": "GNoida",
                                    "Dept_No": "1050",
                                    "Dept_Name": "Sales",
                                    "Salary": "75000",
                                    "HIREDATE": "2015-04-12"
                                },
                                {
                                    "Emp_NO": "3",
                                    "Emp_Name": "Rajesh",
                                    "Emp_Address": "GNoida",
                                    "Dept_No": "1050",
                                    "Dept_Name": "Sales",
                                    "Salary": "28000",
                                    "HIREDATE": "2017-02-27"
                                },
                                {
                                    "Emp_NO": "4",
                                    "Emp_Name": "Shyamu",
                                    "Emp_Address": "BSB",
                                    "Dept_No": "1050",
                                    "Dept_Name": "Sales",
                                    "Salary": "35000",
                                    "HIREDATE": "2016-03-22"
                                },
                                {
                                    "Emp_NO": "5",
                                    "Emp_Name": "Ramu",
                                    "Emp_Address": "BSB",
                                    "Dept_No": "1050",
                                    "Dept_Name": "Sales",
                                    "Salary": "96000",
                                    "HIREDATE": "2012-10-10"
                                },
                                {
                                    "Emp_NO": "6",
                                    "Emp_Name": "Mahesh",
                                    "Emp_Address": "GNoida",
                                    "Dept_No": "5050",
                                    "Dept_Name": "Manager",
                                    "Salary": "25000",
                                    "HIREDATE": "2020-01-25"
                                },
                                {
                                    "Emp_NO": "7",
                                    "Emp_Name": "Chaman",
                                    "Emp_Address": "BSBS",
                                    "Dept_No": "2030",
                                    "Dept_Name": "D10",
                                    "Salary": "28616",
                                    "HIREDATE": "2022-05-05"
                                },
                                {
                                    "Emp_NO": "8",
                                    "Emp_Name": "Arun",
                                    "Emp_Address": "Chennai",
                                    "Dept_No": "2030",
                                    "Dept_Name": "D10",
                                    "Salary": "22000",
                                    "HIREDATE": "2023-04-22"
                                },
                                {
                                    "Emp_NO": "9",
                                    "Emp_Name": "Deva",
                                    "Emp_Address": "coimbatore",
                                    "Dept_No": "5050",
                                    "Dept_Name": "Manager",
                                    "Salary": "22000",
                                    "HIREDATE": "2023-04-22"
                                },
                                {
                                    "Emp_NO": "10",
                                    "Emp_Name": "Charan",
                                    "Emp_Address": "Hosur",
                                    "Dept_No": "5050",
                                    "Dept_Name": "Manager",
                                    "Salary": "24200",
                                    "HIREDATE": "2023-04-22"
                                },
                                {
                                    "Emp_NO": "11",
                                    "Emp_Name": "Sownder",
                                    "Emp_Address": "Dharmapuri",
                                    "Dept_No": "2030",
                                    "Dept_Name": "D10",
                                    "Salary": "22000",
                                    "HIREDATE": "2023-04-22"
                                },
                                {
                                    "Emp_NO": "12",
                                    "Emp_Name": "Surender",
                                    "Emp_Address": "Madurai",
                                    "Dept_No": "2030",
                                    "Dept_Name": "D10",
                                    "Salary": "22000",
                                    "HIREDATE": "2023-04-22"
                                },
                                {
                                    "Emp_NO": "13",
                                    "Emp_Name": "Hariharan",
                                    "Emp_Address": "chennai",
                                    "Dept_No": "5050",
                                    "Dept_Name": "Manager",
                                    "Salary": "22000",
                                    "HIREDATE": "2023-04-22"
                                },
                                {
                                    "Emp_NO": "14",
                                    "Emp_Name": "Mahavishnu",
                                    "Emp_Address": "Coimbatore",
                                    "Dept_No": "2030",
                                    "Dept_Name": "D10",
                                    "Salary": "24200",
                                    "HIREDATE": "2023-04-22"
                                },
                                {
                                    "Emp_NO": "15",
                                    "Emp_Name": "Shankar",
                                    "Emp_Address": "chennai",
                                    "Dept_No": "5050",
                                    "Dept_Name": "Manager",
                                    "Salary": "24200",
                                    "HIREDATE": "2023-04-22"
                                }
                            ]
                        },
                        "text/html": "<table><tr><th>Emp_NO</th><th>Emp_Name</th><th>Emp_Address</th><th>Dept_No</th><th>Dept_Name</th><th>Salary</th><th>HIREDATE</th></tr><tr><td>1</td><td>Ramesh</td><td>GNoida</td><td>1050</td><td>Sales</td><td>25000</td><td>2020-05-10</td></tr><tr><td>2</td><td>Suresh</td><td>GNoida</td><td>1050</td><td>Sales</td><td>75000</td><td>2015-04-12</td></tr><tr><td>3</td><td>Rajesh</td><td>GNoida</td><td>1050</td><td>Sales</td><td>28000</td><td>2017-02-27</td></tr><tr><td>4</td><td>Shyamu</td><td>BSB</td><td>1050</td><td>Sales</td><td>35000</td><td>2016-03-22</td></tr><tr><td>5</td><td>Ramu</td><td>BSB</td><td>1050</td><td>Sales</td><td>96000</td><td>2012-10-10</td></tr><tr><td>6</td><td>Mahesh</td><td>GNoida</td><td>5050</td><td>Manager</td><td>25000</td><td>2020-01-25</td></tr><tr><td>7</td><td>Chaman</td><td>BSBS</td><td>2030</td><td>D10</td><td>28616</td><td>2022-05-05</td></tr><tr><td>8</td><td>Arun</td><td>Chennai</td><td>2030</td><td>D10</td><td>22000</td><td>2023-04-22</td></tr><tr><td>9</td><td>Deva</td><td>coimbatore</td><td>5050</td><td>Manager</td><td>22000</td><td>2023-04-22</td></tr><tr><td>10</td><td>Charan</td><td>Hosur</td><td>5050</td><td>Manager</td><td>24200</td><td>2023-04-22</td></tr><tr><td>11</td><td>Sownder</td><td>Dharmapuri</td><td>2030</td><td>D10</td><td>22000</td><td>2023-04-22</td></tr><tr><td>12</td><td>Surender</td><td>Madurai</td><td>2030</td><td>D10</td><td>22000</td><td>2023-04-22</td></tr><tr><td>13</td><td>Hariharan</td><td>chennai</td><td>5050</td><td>Manager</td><td>22000</td><td>2023-04-22</td></tr><tr><td>14</td><td>Mahavishnu</td><td>Coimbatore</td><td>2030</td><td>D10</td><td>24200</td><td>2023-04-22</td></tr><tr><td>15</td><td>Shankar</td><td>chennai</td><td>5050</td><td>Manager</td><td>24200</td><td>2023-04-22</td></tr></table>"
                    },
                    "metadata": {}
                }
            ],
            "execution_count": 59
        },
        {
            "cell_type": "code",
            "source": [
                "TRUNCATE TABLE dept_1"
            ],
            "metadata": {
                "language": "sql",
                "azdata_cell_guid": "71275c7f-cc1c-4360-b3a8-19bf57409a2a"
            },
            "outputs": [
                {
                    "output_type": "display_data",
                    "data": {
                        "text/html": "Commands completed successfully."
                    },
                    "metadata": {}
                },
                {
                    "output_type": "display_data",
                    "data": {
                        "text/html": "Total execution time: 00:00:00.004"
                    },
                    "metadata": {}
                }
            ],
            "execution_count": 63
        },
        {
            "cell_type": "code",
            "source": [
                "INSERT INTO dept_1 (dept_No, dept_name)\r\n",
                "SELECT distinct dept_No, dept_name  FROM EMPLOYEE;"
            ],
            "metadata": {
                "language": "sql",
                "azdata_cell_guid": "19d8f98b-d50c-4079-8343-262ed073e885"
            },
            "outputs": [
                {
                    "output_type": "display_data",
                    "data": {
                        "text/html": "(3 rows affected)"
                    },
                    "metadata": {}
                },
                {
                    "output_type": "display_data",
                    "data": {
                        "text/html": "Total execution time: 00:00:00.003"
                    },
                    "metadata": {}
                }
            ],
            "execution_count": 64
        },
        {
            "cell_type": "code",
            "source": [
                "select * from dept_1;"
            ],
            "metadata": {
                "language": "sql",
                "azdata_cell_guid": "f5a19d7e-429a-4aaf-9dc8-cee29aa3c47b"
            },
            "outputs": [
                {
                    "output_type": "display_data",
                    "data": {
                        "text/html": "(3 rows affected)"
                    },
                    "metadata": {}
                },
                {
                    "output_type": "display_data",
                    "data": {
                        "text/html": "Total execution time: 00:00:00.010"
                    },
                    "metadata": {}
                },
                {
                    "output_type": "execute_result",
                    "execution_count": 65,
                    "data": {
                        "application/vnd.dataresource+json": {
                            "schema": {
                                "fields": [
                                    {
                                        "name": "dept_No"
                                    },
                                    {
                                        "name": "dept_name"
                                    }
                                ]
                            },
                            "data": [
                                {
                                    "dept_No": "1050",
                                    "dept_name": "Sales"
                                },
                                {
                                    "dept_No": "2030",
                                    "dept_name": "D10"
                                },
                                {
                                    "dept_No": "5050",
                                    "dept_name": "Manager"
                                }
                            ]
                        },
                        "text/html": "<table><tr><th>dept_No</th><th>dept_name</th></tr><tr><td>1050</td><td>Sales</td></tr><tr><td>2030</td><td>D10</td></tr><tr><td>5050</td><td>Manager</td></tr></table>"
                    },
                    "metadata": {}
                }
            ],
            "execution_count": 65
        },
        {
            "cell_type": "code",
            "source": [
                "UPDATE EMPLOYEE\r\n",
                "set Dept_Name = 'Manager'\r\n",
                "where Emp_NO in (6,9,10,13,15);"
            ],
            "metadata": {
                "language": "sql",
                "azdata_cell_guid": "b400eea0-8371-4b8a-8f80-8eccf92877a4"
            },
            "outputs": [
                {
                    "output_type": "display_data",
                    "data": {
                        "text/html": "(5 rows affected)"
                    },
                    "metadata": {}
                },
                {
                    "output_type": "display_data",
                    "data": {
                        "text/html": "Total execution time: 00:00:00.004"
                    },
                    "metadata": {}
                }
            ],
            "execution_count": 53
        },
        {
            "cell_type": "code",
            "source": [
                "SELECT * from EMPLOYEE;"
            ],
            "metadata": {
                "language": "sql",
                "azdata_cell_guid": "dbaac1af-d67a-48ba-ad0e-975daacb7de1"
            },
            "outputs": [
                {
                    "output_type": "display_data",
                    "data": {
                        "text/html": "(15 rows affected)"
                    },
                    "metadata": {}
                },
                {
                    "output_type": "display_data",
                    "data": {
                        "text/html": "Total execution time: 00:00:00.017"
                    },
                    "metadata": {}
                },
                {
                    "output_type": "execute_result",
                    "execution_count": 54,
                    "data": {
                        "application/vnd.dataresource+json": {
                            "schema": {
                                "fields": [
                                    {
                                        "name": "Emp_NO"
                                    },
                                    {
                                        "name": "Emp_Name"
                                    },
                                    {
                                        "name": "Emp_Address"
                                    },
                                    {
                                        "name": "Dept_No"
                                    },
                                    {
                                        "name": "Dept_Name"
                                    },
                                    {
                                        "name": "Salary"
                                    },
                                    {
                                        "name": "HIREDATE"
                                    }
                                ]
                            },
                            "data": [
                                {
                                    "Emp_NO": "1",
                                    "Emp_Name": "Ramesh",
                                    "Emp_Address": "GNoida",
                                    "Dept_No": "1050",
                                    "Dept_Name": "Sales",
                                    "Salary": "25000",
                                    "HIREDATE": "2020-05-10"
                                },
                                {
                                    "Emp_NO": "2",
                                    "Emp_Name": "Suresh",
                                    "Emp_Address": "GNoida",
                                    "Dept_No": "1050",
                                    "Dept_Name": "Sales",
                                    "Salary": "75000",
                                    "HIREDATE": "2015-04-12"
                                },
                                {
                                    "Emp_NO": "3",
                                    "Emp_Name": "Rajesh",
                                    "Emp_Address": "GNoida",
                                    "Dept_No": "1050",
                                    "Dept_Name": "Sales",
                                    "Salary": "28000",
                                    "HIREDATE": "2017-02-27"
                                },
                                {
                                    "Emp_NO": "4",
                                    "Emp_Name": "Shyamu",
                                    "Emp_Address": "BSB",
                                    "Dept_No": "1050",
                                    "Dept_Name": "Sales",
                                    "Salary": "35000",
                                    "HIREDATE": "2016-03-22"
                                },
                                {
                                    "Emp_NO": "5",
                                    "Emp_Name": "Ramu",
                                    "Emp_Address": "BSB",
                                    "Dept_No": "1050",
                                    "Dept_Name": "Sales",
                                    "Salary": "96000",
                                    "HIREDATE": "2012-10-10"
                                },
                                {
                                    "Emp_NO": "6",
                                    "Emp_Name": "Mahesh",
                                    "Emp_Address": "GNoida",
                                    "Dept_No": "1050",
                                    "Dept_Name": "Manager",
                                    "Salary": "25000",
                                    "HIREDATE": "2020-01-25"
                                },
                                {
                                    "Emp_NO": "7",
                                    "Emp_Name": "Chaman",
                                    "Emp_Address": "BSBS",
                                    "Dept_No": "2030",
                                    "Dept_Name": "D10",
                                    "Salary": "28616",
                                    "HIREDATE": "2022-05-05"
                                },
                                {
                                    "Emp_NO": "8",
                                    "Emp_Name": "Arun",
                                    "Emp_Address": "Chennai",
                                    "Dept_No": "2030",
                                    "Dept_Name": "D10",
                                    "Salary": "22000",
                                    "HIREDATE": "2023-04-22"
                                },
                                {
                                    "Emp_NO": "9",
                                    "Emp_Name": "Deva",
                                    "Emp_Address": "coimbatore",
                                    "Dept_No": "1050",
                                    "Dept_Name": "Manager",
                                    "Salary": "22000",
                                    "HIREDATE": "2023-04-22"
                                },
                                {
                                    "Emp_NO": "10",
                                    "Emp_Name": "Charan",
                                    "Emp_Address": "Hosur",
                                    "Dept_No": "1050",
                                    "Dept_Name": "Manager",
                                    "Salary": "24200",
                                    "HIREDATE": "2023-04-22"
                                },
                                {
                                    "Emp_NO": "11",
                                    "Emp_Name": "Sownder",
                                    "Emp_Address": "Dharmapuri",
                                    "Dept_No": "2030",
                                    "Dept_Name": "D10",
                                    "Salary": "22000",
                                    "HIREDATE": "2023-04-22"
                                },
                                {
                                    "Emp_NO": "12",
                                    "Emp_Name": "Surender",
                                    "Emp_Address": "Madurai",
                                    "Dept_No": "2030",
                                    "Dept_Name": "D10",
                                    "Salary": "22000",
                                    "HIREDATE": "2023-04-22"
                                },
                                {
                                    "Emp_NO": "13",
                                    "Emp_Name": "Hariharan",
                                    "Emp_Address": "chennai",
                                    "Dept_No": "1050",
                                    "Dept_Name": "Manager",
                                    "Salary": "22000",
                                    "HIREDATE": "2023-04-22"
                                },
                                {
                                    "Emp_NO": "14",
                                    "Emp_Name": "Mahavishnu",
                                    "Emp_Address": "Coimbatore",
                                    "Dept_No": "2030",
                                    "Dept_Name": "D10",
                                    "Salary": "24200",
                                    "HIREDATE": "2023-04-22"
                                },
                                {
                                    "Emp_NO": "15",
                                    "Emp_Name": "Shankar",
                                    "Emp_Address": "chennai",
                                    "Dept_No": "1050",
                                    "Dept_Name": "Manager",
                                    "Salary": "24200",
                                    "HIREDATE": "2023-04-22"
                                }
                            ]
                        },
                        "text/html": "<table><tr><th>Emp_NO</th><th>Emp_Name</th><th>Emp_Address</th><th>Dept_No</th><th>Dept_Name</th><th>Salary</th><th>HIREDATE</th></tr><tr><td>1</td><td>Ramesh</td><td>GNoida</td><td>1050</td><td>Sales</td><td>25000</td><td>2020-05-10</td></tr><tr><td>2</td><td>Suresh</td><td>GNoida</td><td>1050</td><td>Sales</td><td>75000</td><td>2015-04-12</td></tr><tr><td>3</td><td>Rajesh</td><td>GNoida</td><td>1050</td><td>Sales</td><td>28000</td><td>2017-02-27</td></tr><tr><td>4</td><td>Shyamu</td><td>BSB</td><td>1050</td><td>Sales</td><td>35000</td><td>2016-03-22</td></tr><tr><td>5</td><td>Ramu</td><td>BSB</td><td>1050</td><td>Sales</td><td>96000</td><td>2012-10-10</td></tr><tr><td>6</td><td>Mahesh</td><td>GNoida</td><td>1050</td><td>Manager</td><td>25000</td><td>2020-01-25</td></tr><tr><td>7</td><td>Chaman</td><td>BSBS</td><td>2030</td><td>D10</td><td>28616</td><td>2022-05-05</td></tr><tr><td>8</td><td>Arun</td><td>Chennai</td><td>2030</td><td>D10</td><td>22000</td><td>2023-04-22</td></tr><tr><td>9</td><td>Deva</td><td>coimbatore</td><td>1050</td><td>Manager</td><td>22000</td><td>2023-04-22</td></tr><tr><td>10</td><td>Charan</td><td>Hosur</td><td>1050</td><td>Manager</td><td>24200</td><td>2023-04-22</td></tr><tr><td>11</td><td>Sownder</td><td>Dharmapuri</td><td>2030</td><td>D10</td><td>22000</td><td>2023-04-22</td></tr><tr><td>12</td><td>Surender</td><td>Madurai</td><td>2030</td><td>D10</td><td>22000</td><td>2023-04-22</td></tr><tr><td>13</td><td>Hariharan</td><td>chennai</td><td>1050</td><td>Manager</td><td>22000</td><td>2023-04-22</td></tr><tr><td>14</td><td>Mahavishnu</td><td>Coimbatore</td><td>2030</td><td>D10</td><td>24200</td><td>2023-04-22</td></tr><tr><td>15</td><td>Shankar</td><td>chennai</td><td>1050</td><td>Manager</td><td>24200</td><td>2023-04-22</td></tr></table>"
                    },
                    "metadata": {}
                }
            ],
            "execution_count": 54
        },
        {
            "cell_type": "markdown",
            "source": [
                "## CASE Expression\n",
                "\n",
                "The `CASE` expression goes through conditions and returns a value when the first condition is met (like an if-then-else statement). So, once a condition is true, it will stop reading and return the result. If no conditions are true, it returns the value in the `ELSE` clause.\n",
                "\n",
                "If there is no `ELSE` part and no conditions are true, it returns NULL."
            ],
            "metadata": {
                "language": "sql",
                "azdata_cell_guid": "88aa2b3c-e2eb-440d-871c-5f557e9209dd"
            },
            "attachments": {}
        },
        {
            "cell_type": "code",
            "source": [
                "SELECT EMP_NAME, DEPT_NAME, Emp_Address \r\n",
                "FROM EMPLOYEE\r\n",
                "ORDER BY\r\n",
                "(CASE\r\n",
                "    WHEN DEPT_NAME IS NULL THEN Emp_Address\r\n",
                "    ELSE DEPT_NAME\r\n",
                "END);"
            ],
            "metadata": {
                "language": "sql",
                "azdata_cell_guid": "c07109c5-6dd8-4221-bf03-ad12014635bc"
            },
            "outputs": [
                {
                    "output_type": "display_data",
                    "data": {
                        "text/html": "(15 rows affected)"
                    },
                    "metadata": {}
                },
                {
                    "output_type": "display_data",
                    "data": {
                        "text/html": "Total execution time: 00:00:00.024"
                    },
                    "metadata": {}
                },
                {
                    "output_type": "execute_result",
                    "metadata": {},
                    "execution_count": 2,
                    "data": {
                        "application/vnd.dataresource+json": {
                            "schema": {
                                "fields": [
                                    {
                                        "name": "EMP_NAME"
                                    },
                                    {
                                        "name": "DEPT_NAME"
                                    },
                                    {
                                        "name": "Emp_Address"
                                    }
                                ]
                            },
                            "data": [
                                {
                                    "EMP_NAME": "Chaman",
                                    "DEPT_NAME": "D10",
                                    "Emp_Address": "BSBS"
                                },
                                {
                                    "EMP_NAME": "Arun",
                                    "DEPT_NAME": "D10",
                                    "Emp_Address": "Chennai"
                                },
                                {
                                    "EMP_NAME": "Sownder",
                                    "DEPT_NAME": "D10",
                                    "Emp_Address": "Dharmapuri"
                                },
                                {
                                    "EMP_NAME": "Surender",
                                    "DEPT_NAME": "D10",
                                    "Emp_Address": "Madurai"
                                },
                                {
                                    "EMP_NAME": "Mahavishnu",
                                    "DEPT_NAME": "D10",
                                    "Emp_Address": "Coimbatore"
                                },
                                {
                                    "EMP_NAME": "Shankar",
                                    "DEPT_NAME": "Manager",
                                    "Emp_Address": "chennai"
                                },
                                {
                                    "EMP_NAME": "Hariharan",
                                    "DEPT_NAME": "Manager",
                                    "Emp_Address": "chennai"
                                },
                                {
                                    "EMP_NAME": "Mahesh",
                                    "DEPT_NAME": "Manager",
                                    "Emp_Address": "GNoida"
                                },
                                {
                                    "EMP_NAME": "Deva",
                                    "DEPT_NAME": "Manager",
                                    "Emp_Address": "coimbatore"
                                },
                                {
                                    "EMP_NAME": "Charan",
                                    "DEPT_NAME": "Manager",
                                    "Emp_Address": "Hosur"
                                },
                                {
                                    "EMP_NAME": "Ramesh",
                                    "DEPT_NAME": "Sales",
                                    "Emp_Address": "GNoida"
                                },
                                {
                                    "EMP_NAME": "Suresh",
                                    "DEPT_NAME": "Sales",
                                    "Emp_Address": "GNoida"
                                },
                                {
                                    "EMP_NAME": "Rajesh",
                                    "DEPT_NAME": "Sales",
                                    "Emp_Address": "GNoida"
                                },
                                {
                                    "EMP_NAME": "Shyamu",
                                    "DEPT_NAME": "Sales",
                                    "Emp_Address": "BSB"
                                },
                                {
                                    "EMP_NAME": "Ramu",
                                    "DEPT_NAME": "Sales",
                                    "Emp_Address": "BSB"
                                }
                            ]
                        },
                        "text/html": [
                            "<table>",
                            "<tr><th>EMP_NAME</th><th>DEPT_NAME</th><th>Emp_Address</th></tr>",
                            "<tr><td>Chaman</td><td>D10</td><td>BSBS</td></tr>",
                            "<tr><td>Arun</td><td>D10</td><td>Chennai</td></tr>",
                            "<tr><td>Sownder</td><td>D10</td><td>Dharmapuri</td></tr>",
                            "<tr><td>Surender</td><td>D10</td><td>Madurai</td></tr>",
                            "<tr><td>Mahavishnu</td><td>D10</td><td>Coimbatore</td></tr>",
                            "<tr><td>Shankar</td><td>Manager</td><td>chennai</td></tr>",
                            "<tr><td>Hariharan</td><td>Manager</td><td>chennai</td></tr>",
                            "<tr><td>Mahesh</td><td>Manager</td><td>GNoida</td></tr>",
                            "<tr><td>Deva</td><td>Manager</td><td>coimbatore</td></tr>",
                            "<tr><td>Charan</td><td>Manager</td><td>Hosur</td></tr>",
                            "<tr><td>Ramesh</td><td>Sales</td><td>GNoida</td></tr>",
                            "<tr><td>Suresh</td><td>Sales</td><td>GNoida</td></tr>",
                            "<tr><td>Rajesh</td><td>Sales</td><td>GNoida</td></tr>",
                            "<tr><td>Shyamu</td><td>Sales</td><td>BSB</td></tr>",
                            "<tr><td>Ramu</td><td>Sales</td><td>BSB</td></tr>",
                            "</table>"
                        ]
                    }
                }
            ],
            "execution_count": 2
        },
        {
            "cell_type": "code",
            "source": [
                "SELECT DEPT_NO, Salary,\r\n",
                "(CASE\r\n",
                "    WHEN Salary = 22000 THEN 'The Salary is 22000'\r\n",
                "    WHEN Salary = 96000 THEN 'The Salary is 96000'\r\n",
                "    WHEN Salary > 22000 THEN 'The Salary is greater than 22000'\r\n",
                "    ELSE 'The Salary is under 96000'\r\n",
                "END) AS SalaryText\r\n",
                "FROM EMPLOYEE;\r\n",
                ""
            ],
            "metadata": {
                "language": "sql",
                "azdata_cell_guid": "88061384-e025-45e9-a813-36365ae0daf8",
                "tags": []
            },
            "outputs": [
                {
                    "output_type": "display_data",
                    "data": {
                        "text/html": "(15 rows affected)"
                    },
                    "metadata": {}
                },
                {
                    "output_type": "display_data",
                    "data": {
                        "text/html": "Total execution time: 00:00:00.007"
                    },
                    "metadata": {}
                },
                {
                    "output_type": "execute_result",
                    "metadata": {},
                    "execution_count": 8,
                    "data": {
                        "application/vnd.dataresource+json": {
                            "schema": {
                                "fields": [
                                    {
                                        "name": "DEPT_NO"
                                    },
                                    {
                                        "name": "Salary"
                                    },
                                    {
                                        "name": "SalaryText"
                                    }
                                ]
                            },
                            "data": [
                                {
                                    "DEPT_NO": "1050",
                                    "Salary": "25000",
                                    "SalaryText": "The Salary is greater than 22000"
                                },
                                {
                                    "DEPT_NO": "1050",
                                    "Salary": "75000",
                                    "SalaryText": "The Salary is greater than 22000"
                                },
                                {
                                    "DEPT_NO": "1050",
                                    "Salary": "28000",
                                    "SalaryText": "The Salary is greater than 22000"
                                },
                                {
                                    "DEPT_NO": "1050",
                                    "Salary": "35000",
                                    "SalaryText": "The Salary is greater than 22000"
                                },
                                {
                                    "DEPT_NO": "1050",
                                    "Salary": "96000",
                                    "SalaryText": "The Salary is 96000"
                                },
                                {
                                    "DEPT_NO": "5050",
                                    "Salary": "25000",
                                    "SalaryText": "The Salary is greater than 22000"
                                },
                                {
                                    "DEPT_NO": "2030",
                                    "Salary": "28616",
                                    "SalaryText": "The Salary is greater than 22000"
                                },
                                {
                                    "DEPT_NO": "2030",
                                    "Salary": "22000",
                                    "SalaryText": "The Salary is 22000"
                                },
                                {
                                    "DEPT_NO": "5050",
                                    "Salary": "22000",
                                    "SalaryText": "The Salary is 22000"
                                },
                                {
                                    "DEPT_NO": "5050",
                                    "Salary": "24200",
                                    "SalaryText": "The Salary is greater than 22000"
                                },
                                {
                                    "DEPT_NO": "2030",
                                    "Salary": "22000",
                                    "SalaryText": "The Salary is 22000"
                                },
                                {
                                    "DEPT_NO": "2030",
                                    "Salary": "22000",
                                    "SalaryText": "The Salary is 22000"
                                },
                                {
                                    "DEPT_NO": "5050",
                                    "Salary": "22000",
                                    "SalaryText": "The Salary is 22000"
                                },
                                {
                                    "DEPT_NO": "2030",
                                    "Salary": "24200",
                                    "SalaryText": "The Salary is greater than 22000"
                                },
                                {
                                    "DEPT_NO": "5050",
                                    "Salary": "24200",
                                    "SalaryText": "The Salary is greater than 22000"
                                }
                            ]
                        },
                        "text/html": [
                            "<table>",
                            "<tr><th>DEPT_NO</th><th>Salary</th><th>SalaryText</th></tr>",
                            "<tr><td>1050</td><td>25000</td><td>The Salary is greater than 22000</td></tr>",
                            "<tr><td>1050</td><td>75000</td><td>The Salary is greater than 22000</td></tr>",
                            "<tr><td>1050</td><td>28000</td><td>The Salary is greater than 22000</td></tr>",
                            "<tr><td>1050</td><td>35000</td><td>The Salary is greater than 22000</td></tr>",
                            "<tr><td>1050</td><td>96000</td><td>The Salary is 96000</td></tr>",
                            "<tr><td>5050</td><td>25000</td><td>The Salary is greater than 22000</td></tr>",
                            "<tr><td>2030</td><td>28616</td><td>The Salary is greater than 22000</td></tr>",
                            "<tr><td>2030</td><td>22000</td><td>The Salary is 22000</td></tr>",
                            "<tr><td>5050</td><td>22000</td><td>The Salary is 22000</td></tr>",
                            "<tr><td>5050</td><td>24200</td><td>The Salary is greater than 22000</td></tr>",
                            "<tr><td>2030</td><td>22000</td><td>The Salary is 22000</td></tr>",
                            "<tr><td>2030</td><td>22000</td><td>The Salary is 22000</td></tr>",
                            "<tr><td>5050</td><td>22000</td><td>The Salary is 22000</td></tr>",
                            "<tr><td>2030</td><td>24200</td><td>The Salary is greater than 22000</td></tr>",
                            "<tr><td>5050</td><td>24200</td><td>The Salary is greater than 22000</td></tr>",
                            "</table>"
                        ]
                    }
                }
            ],
            "execution_count": 8
        },
        {
            "cell_type": "markdown",
            "source": [
                "# Window functions in SQL\n",
                "\n",
                "Window functions applies aggregate and ranking functions over a particular window (set of rows). OVER clause is used with window functions to define that window. OVER clause does two things : \n",
                "\n",
                "- Partitions rows into form set of rows. (PARTITION BY clause is used) \n",
                "- Orders rows within those partitions into a particular order. (ORDER BY clause is used)\n",
                "\n",
                "**Note:** <span style=\"color: var(--vscode-foreground);\">&nbsp;If partitions aren’t done, then ORDER BY orders all rows of table.</span>"
            ],
            "metadata": {
                "language": "sql",
                "azdata_cell_guid": "11ead0dd-b2e5-4a83-900e-f8f8118290d9"
            },
            "attachments": {}
        },
        {
            "cell_type": "code",
            "source": [
                "SELECT EMP_Name, Dept_No, Dept_Name, Salary, \r\n",
                " AVG(Salary) OVER( PARTITION BY Dept_Name ) AS Avg_Salary\r\n",
                " FROM employee;"
            ],
            "metadata": {
                "language": "sql",
                "azdata_cell_guid": "7501c724-499f-4b91-bf3d-95d0c03bf469"
            },
            "outputs": [
                {
                    "output_type": "display_data",
                    "data": {
                        "text/html": "(15 rows affected)"
                    },
                    "metadata": {}
                },
                {
                    "output_type": "display_data",
                    "data": {
                        "text/html": "Total execution time: 00:00:00.089"
                    },
                    "metadata": {}
                },
                {
                    "output_type": "execute_result",
                    "execution_count": 15,
                    "data": {
                        "application/vnd.dataresource+json": {
                            "schema": {
                                "fields": [
                                    {
                                        "name": "EMP_Name"
                                    },
                                    {
                                        "name": "Dept_No"
                                    },
                                    {
                                        "name": "Dept_Name"
                                    },
                                    {
                                        "name": "Salary"
                                    },
                                    {
                                        "name": "Avg_Salary"
                                    }
                                ]
                            },
                            "data": [
                                {
                                    "EMP_Name": "Chaman",
                                    "Dept_No": "2030",
                                    "Dept_Name": "D10",
                                    "Salary": "28616",
                                    "Avg_Salary": "23763"
                                },
                                {
                                    "EMP_Name": "Arun",
                                    "Dept_No": "2030",
                                    "Dept_Name": "D10",
                                    "Salary": "22000",
                                    "Avg_Salary": "23763"
                                },
                                {
                                    "EMP_Name": "Sownder",
                                    "Dept_No": "2030",
                                    "Dept_Name": "D10",
                                    "Salary": "22000",
                                    "Avg_Salary": "23763"
                                },
                                {
                                    "EMP_Name": "Surender",
                                    "Dept_No": "2030",
                                    "Dept_Name": "D10",
                                    "Salary": "22000",
                                    "Avg_Salary": "23763"
                                },
                                {
                                    "EMP_Name": "Mahavishnu",
                                    "Dept_No": "2030",
                                    "Dept_Name": "D10",
                                    "Salary": "24200",
                                    "Avg_Salary": "23763"
                                },
                                {
                                    "EMP_Name": "Shankar",
                                    "Dept_No": "5050",
                                    "Dept_Name": "Manager",
                                    "Salary": "24200",
                                    "Avg_Salary": "23480"
                                },
                                {
                                    "EMP_Name": "Hariharan",
                                    "Dept_No": "5050",
                                    "Dept_Name": "Manager",
                                    "Salary": "22000",
                                    "Avg_Salary": "23480"
                                },
                                {
                                    "EMP_Name": "Mahesh",
                                    "Dept_No": "5050",
                                    "Dept_Name": "Manager",
                                    "Salary": "25000",
                                    "Avg_Salary": "23480"
                                },
                                {
                                    "EMP_Name": "Deva",
                                    "Dept_No": "5050",
                                    "Dept_Name": "Manager",
                                    "Salary": "22000",
                                    "Avg_Salary": "23480"
                                },
                                {
                                    "EMP_Name": "Charan",
                                    "Dept_No": "5050",
                                    "Dept_Name": "Manager",
                                    "Salary": "24200",
                                    "Avg_Salary": "23480"
                                },
                                {
                                    "EMP_Name": "Ramesh",
                                    "Dept_No": "1050",
                                    "Dept_Name": "Sales",
                                    "Salary": "25000",
                                    "Avg_Salary": "51800"
                                },
                                {
                                    "EMP_Name": "Suresh",
                                    "Dept_No": "1050",
                                    "Dept_Name": "Sales",
                                    "Salary": "75000",
                                    "Avg_Salary": "51800"
                                },
                                {
                                    "EMP_Name": "Rajesh",
                                    "Dept_No": "1050",
                                    "Dept_Name": "Sales",
                                    "Salary": "28000",
                                    "Avg_Salary": "51800"
                                },
                                {
                                    "EMP_Name": "Shyamu",
                                    "Dept_No": "1050",
                                    "Dept_Name": "Sales",
                                    "Salary": "35000",
                                    "Avg_Salary": "51800"
                                },
                                {
                                    "EMP_Name": "Ramu",
                                    "Dept_No": "1050",
                                    "Dept_Name": "Sales",
                                    "Salary": "96000",
                                    "Avg_Salary": "51800"
                                }
                            ]
                        },
                        "text/html": "<table><tr><th>EMP_Name</th><th>Dept_No</th><th>Dept_Name</th><th>Salary</th><th>Avg_Salary</th></tr><tr><td>Chaman</td><td>2030</td><td>D10</td><td>28616</td><td>23763</td></tr><tr><td>Arun</td><td>2030</td><td>D10</td><td>22000</td><td>23763</td></tr><tr><td>Sownder</td><td>2030</td><td>D10</td><td>22000</td><td>23763</td></tr><tr><td>Surender</td><td>2030</td><td>D10</td><td>22000</td><td>23763</td></tr><tr><td>Mahavishnu</td><td>2030</td><td>D10</td><td>24200</td><td>23763</td></tr><tr><td>Shankar</td><td>5050</td><td>Manager</td><td>24200</td><td>23480</td></tr><tr><td>Hariharan</td><td>5050</td><td>Manager</td><td>22000</td><td>23480</td></tr><tr><td>Mahesh</td><td>5050</td><td>Manager</td><td>25000</td><td>23480</td></tr><tr><td>Deva</td><td>5050</td><td>Manager</td><td>22000</td><td>23480</td></tr><tr><td>Charan</td><td>5050</td><td>Manager</td><td>24200</td><td>23480</td></tr><tr><td>Ramesh</td><td>1050</td><td>Sales</td><td>25000</td><td>51800</td></tr><tr><td>Suresh</td><td>1050</td><td>Sales</td><td>75000</td><td>51800</td></tr><tr><td>Rajesh</td><td>1050</td><td>Sales</td><td>28000</td><td>51800</td></tr><tr><td>Shyamu</td><td>1050</td><td>Sales</td><td>35000</td><td>51800</td></tr><tr><td>Ramu</td><td>1050</td><td>Sales</td><td>96000</td><td>51800</td></tr></table>"
                    },
                    "metadata": {}
                }
            ],
            "execution_count": 15
        },
        {
            "cell_type": "code",
            "source": [
                "SELECT EMP_Name, Dept_No, Dept_Name, Salary, \r\n",
                " AVG(Salary) OVER( PARTITION BY Dept_Name ORDER BY SALARY) AS Avg_Salary\r\n",
                " FROM employee;"
            ],
            "metadata": {
                "language": "sql",
                "azdata_cell_guid": "dbc8a9f7-b6ef-4cb2-861c-a8dc135fbfad"
            },
            "outputs": [
                {
                    "output_type": "display_data",
                    "data": {
                        "text/html": "(15 rows affected)"
                    },
                    "metadata": {}
                },
                {
                    "output_type": "display_data",
                    "data": {
                        "text/html": "Total execution time: 00:00:00.152"
                    },
                    "metadata": {}
                },
                {
                    "output_type": "execute_result",
                    "execution_count": 20,
                    "data": {
                        "application/vnd.dataresource+json": {
                            "schema": {
                                "fields": [
                                    {
                                        "name": "EMP_Name"
                                    },
                                    {
                                        "name": "Dept_No"
                                    },
                                    {
                                        "name": "Dept_Name"
                                    },
                                    {
                                        "name": "Salary"
                                    },
                                    {
                                        "name": "Avg_Salary"
                                    }
                                ]
                            },
                            "data": [
                                {
                                    "EMP_Name": "Arun",
                                    "Dept_No": "2030",
                                    "Dept_Name": "D10",
                                    "Salary": "22000",
                                    "Avg_Salary": "22000"
                                },
                                {
                                    "EMP_Name": "Sownder",
                                    "Dept_No": "2030",
                                    "Dept_Name": "D10",
                                    "Salary": "22000",
                                    "Avg_Salary": "22000"
                                },
                                {
                                    "EMP_Name": "Surender",
                                    "Dept_No": "2030",
                                    "Dept_Name": "D10",
                                    "Salary": "22000",
                                    "Avg_Salary": "22000"
                                },
                                {
                                    "EMP_Name": "Mahavishnu",
                                    "Dept_No": "2030",
                                    "Dept_Name": "D10",
                                    "Salary": "24200",
                                    "Avg_Salary": "22550"
                                },
                                {
                                    "EMP_Name": "Chaman",
                                    "Dept_No": "2030",
                                    "Dept_Name": "D10",
                                    "Salary": "28616",
                                    "Avg_Salary": "23763"
                                },
                                {
                                    "EMP_Name": "Deva",
                                    "Dept_No": "5050",
                                    "Dept_Name": "Manager",
                                    "Salary": "22000",
                                    "Avg_Salary": "22000"
                                },
                                {
                                    "EMP_Name": "Hariharan",
                                    "Dept_No": "5050",
                                    "Dept_Name": "Manager",
                                    "Salary": "22000",
                                    "Avg_Salary": "22000"
                                },
                                {
                                    "EMP_Name": "Shankar",
                                    "Dept_No": "5050",
                                    "Dept_Name": "Manager",
                                    "Salary": "24200",
                                    "Avg_Salary": "23100"
                                },
                                {
                                    "EMP_Name": "Charan",
                                    "Dept_No": "5050",
                                    "Dept_Name": "Manager",
                                    "Salary": "24200",
                                    "Avg_Salary": "23100"
                                },
                                {
                                    "EMP_Name": "Mahesh",
                                    "Dept_No": "5050",
                                    "Dept_Name": "Manager",
                                    "Salary": "25000",
                                    "Avg_Salary": "23480"
                                },
                                {
                                    "EMP_Name": "Ramesh",
                                    "Dept_No": "1050",
                                    "Dept_Name": "Sales",
                                    "Salary": "25000",
                                    "Avg_Salary": "25000"
                                },
                                {
                                    "EMP_Name": "Rajesh",
                                    "Dept_No": "1050",
                                    "Dept_Name": "Sales",
                                    "Salary": "28000",
                                    "Avg_Salary": "26500"
                                },
                                {
                                    "EMP_Name": "Shyamu",
                                    "Dept_No": "1050",
                                    "Dept_Name": "Sales",
                                    "Salary": "35000",
                                    "Avg_Salary": "29333"
                                },
                                {
                                    "EMP_Name": "Suresh",
                                    "Dept_No": "1050",
                                    "Dept_Name": "Sales",
                                    "Salary": "75000",
                                    "Avg_Salary": "40750"
                                },
                                {
                                    "EMP_Name": "Ramu",
                                    "Dept_No": "1050",
                                    "Dept_Name": "Sales",
                                    "Salary": "96000",
                                    "Avg_Salary": "51800"
                                }
                            ]
                        },
                        "text/html": "<table><tr><th>EMP_Name</th><th>Dept_No</th><th>Dept_Name</th><th>Salary</th><th>Avg_Salary</th></tr><tr><td>Arun</td><td>2030</td><td>D10</td><td>22000</td><td>22000</td></tr><tr><td>Sownder</td><td>2030</td><td>D10</td><td>22000</td><td>22000</td></tr><tr><td>Surender</td><td>2030</td><td>D10</td><td>22000</td><td>22000</td></tr><tr><td>Mahavishnu</td><td>2030</td><td>D10</td><td>24200</td><td>22550</td></tr><tr><td>Chaman</td><td>2030</td><td>D10</td><td>28616</td><td>23763</td></tr><tr><td>Deva</td><td>5050</td><td>Manager</td><td>22000</td><td>22000</td></tr><tr><td>Hariharan</td><td>5050</td><td>Manager</td><td>22000</td><td>22000</td></tr><tr><td>Shankar</td><td>5050</td><td>Manager</td><td>24200</td><td>23100</td></tr><tr><td>Charan</td><td>5050</td><td>Manager</td><td>24200</td><td>23100</td></tr><tr><td>Mahesh</td><td>5050</td><td>Manager</td><td>25000</td><td>23480</td></tr><tr><td>Ramesh</td><td>1050</td><td>Sales</td><td>25000</td><td>25000</td></tr><tr><td>Rajesh</td><td>1050</td><td>Sales</td><td>28000</td><td>26500</td></tr><tr><td>Shyamu</td><td>1050</td><td>Sales</td><td>35000</td><td>29333</td></tr><tr><td>Suresh</td><td>1050</td><td>Sales</td><td>75000</td><td>40750</td></tr><tr><td>Ramu</td><td>1050</td><td>Sales</td><td>96000</td><td>51800</td></tr></table>"
                    },
                    "metadata": {}
                }
            ],
            "execution_count": 20
        },
        {
            "cell_type": "code",
            "source": [
                "SELECT EMP_Name, Dept_No, Dept_Name, Salary, \r\n",
                " SUM(Salary) OVER( PARTITION BY Dept_Name ) AS SUM_Salary\r\n",
                " FROM employee; "
            ],
            "metadata": {
                "language": "sql",
                "azdata_cell_guid": "ea280519-6ee3-42dc-8d7f-0b3565d8ce49"
            },
            "outputs": [
                {
                    "output_type": "display_data",
                    "data": {
                        "text/html": "(15 rows affected)"
                    },
                    "metadata": {}
                },
                {
                    "output_type": "display_data",
                    "data": {
                        "text/html": "Total execution time: 00:00:00.068"
                    },
                    "metadata": {}
                },
                {
                    "output_type": "execute_result",
                    "metadata": {},
                    "execution_count": 12,
                    "data": {
                        "application/vnd.dataresource+json": {
                            "schema": {
                                "fields": [
                                    {
                                        "name": "EMP_Name"
                                    },
                                    {
                                        "name": "Dept_No"
                                    },
                                    {
                                        "name": "Dept_Name"
                                    },
                                    {
                                        "name": "Salary"
                                    },
                                    {
                                        "name": "SUM_Salary"
                                    }
                                ]
                            },
                            "data": [
                                {
                                    "EMP_Name": "Chaman",
                                    "Dept_No": "2030",
                                    "Dept_Name": "D10",
                                    "Salary": "28616",
                                    "SUM_Salary": "118816"
                                },
                                {
                                    "EMP_Name": "Arun",
                                    "Dept_No": "2030",
                                    "Dept_Name": "D10",
                                    "Salary": "22000",
                                    "SUM_Salary": "118816"
                                },
                                {
                                    "EMP_Name": "Sownder",
                                    "Dept_No": "2030",
                                    "Dept_Name": "D10",
                                    "Salary": "22000",
                                    "SUM_Salary": "118816"
                                },
                                {
                                    "EMP_Name": "Surender",
                                    "Dept_No": "2030",
                                    "Dept_Name": "D10",
                                    "Salary": "22000",
                                    "SUM_Salary": "118816"
                                },
                                {
                                    "EMP_Name": "Mahavishnu",
                                    "Dept_No": "2030",
                                    "Dept_Name": "D10",
                                    "Salary": "24200",
                                    "SUM_Salary": "118816"
                                },
                                {
                                    "EMP_Name": "Shankar",
                                    "Dept_No": "5050",
                                    "Dept_Name": "Manager",
                                    "Salary": "24200",
                                    "SUM_Salary": "117400"
                                },
                                {
                                    "EMP_Name": "Hariharan",
                                    "Dept_No": "5050",
                                    "Dept_Name": "Manager",
                                    "Salary": "22000",
                                    "SUM_Salary": "117400"
                                },
                                {
                                    "EMP_Name": "Mahesh",
                                    "Dept_No": "5050",
                                    "Dept_Name": "Manager",
                                    "Salary": "25000",
                                    "SUM_Salary": "117400"
                                },
                                {
                                    "EMP_Name": "Deva",
                                    "Dept_No": "5050",
                                    "Dept_Name": "Manager",
                                    "Salary": "22000",
                                    "SUM_Salary": "117400"
                                },
                                {
                                    "EMP_Name": "Charan",
                                    "Dept_No": "5050",
                                    "Dept_Name": "Manager",
                                    "Salary": "24200",
                                    "SUM_Salary": "117400"
                                },
                                {
                                    "EMP_Name": "Ramesh",
                                    "Dept_No": "1050",
                                    "Dept_Name": "Sales",
                                    "Salary": "25000",
                                    "SUM_Salary": "259000"
                                },
                                {
                                    "EMP_Name": "Suresh",
                                    "Dept_No": "1050",
                                    "Dept_Name": "Sales",
                                    "Salary": "75000",
                                    "SUM_Salary": "259000"
                                },
                                {
                                    "EMP_Name": "Rajesh",
                                    "Dept_No": "1050",
                                    "Dept_Name": "Sales",
                                    "Salary": "28000",
                                    "SUM_Salary": "259000"
                                },
                                {
                                    "EMP_Name": "Shyamu",
                                    "Dept_No": "1050",
                                    "Dept_Name": "Sales",
                                    "Salary": "35000",
                                    "SUM_Salary": "259000"
                                },
                                {
                                    "EMP_Name": "Ramu",
                                    "Dept_No": "1050",
                                    "Dept_Name": "Sales",
                                    "Salary": "96000",
                                    "SUM_Salary": "259000"
                                }
                            ]
                        },
                        "text/html": [
                            "<table>",
                            "<tr><th>EMP_Name</th><th>Dept_No</th><th>Dept_Name</th><th>Salary</th><th>SUM_Salary</th></tr>",
                            "<tr><td>Chaman</td><td>2030</td><td>D10</td><td>28616</td><td>118816</td></tr>",
                            "<tr><td>Arun</td><td>2030</td><td>D10</td><td>22000</td><td>118816</td></tr>",
                            "<tr><td>Sownder</td><td>2030</td><td>D10</td><td>22000</td><td>118816</td></tr>",
                            "<tr><td>Surender</td><td>2030</td><td>D10</td><td>22000</td><td>118816</td></tr>",
                            "<tr><td>Mahavishnu</td><td>2030</td><td>D10</td><td>24200</td><td>118816</td></tr>",
                            "<tr><td>Shankar</td><td>5050</td><td>Manager</td><td>24200</td><td>117400</td></tr>",
                            "<tr><td>Hariharan</td><td>5050</td><td>Manager</td><td>22000</td><td>117400</td></tr>",
                            "<tr><td>Mahesh</td><td>5050</td><td>Manager</td><td>25000</td><td>117400</td></tr>",
                            "<tr><td>Deva</td><td>5050</td><td>Manager</td><td>22000</td><td>117400</td></tr>",
                            "<tr><td>Charan</td><td>5050</td><td>Manager</td><td>24200</td><td>117400</td></tr>",
                            "<tr><td>Ramesh</td><td>1050</td><td>Sales</td><td>25000</td><td>259000</td></tr>",
                            "<tr><td>Suresh</td><td>1050</td><td>Sales</td><td>75000</td><td>259000</td></tr>",
                            "<tr><td>Rajesh</td><td>1050</td><td>Sales</td><td>28000</td><td>259000</td></tr>",
                            "<tr><td>Shyamu</td><td>1050</td><td>Sales</td><td>35000</td><td>259000</td></tr>",
                            "<tr><td>Ramu</td><td>1050</td><td>Sales</td><td>96000</td><td>259000</td></tr>",
                            "</table>"
                        ]
                    }
                }
            ],
            "execution_count": 12
        },
        {
            "cell_type": "code",
            "source": [
                "SELECT \r\n",
                "ROW_NUMBER() OVER (PARTITION BY DEPT_NO ORDER BY Salary DESC) \r\n",
                "AS Emp_Row_No, Emp_Name, Dept_Name, Salary,\r\n",
                "RANK() OVER(PARTITION BY DEPT_NO ORDER BY Salary DESC) AS emp_rank,\r\n",
                "DENSE_RANK() OVER(PARTITION BY DEPT_NO ORDER BY Salary DESC) AS emp_dense_rank\r\n",
                "FROM employee; "
            ],
            "metadata": {
                "language": "sql",
                "azdata_cell_guid": "64605658-0e4d-43c6-bcac-64950421e129"
            },
            "outputs": [
                {
                    "output_type": "display_data",
                    "data": {
                        "text/html": "(15 rows affected)"
                    },
                    "metadata": {}
                },
                {
                    "output_type": "display_data",
                    "data": {
                        "text/html": "Total execution time: 00:00:00.070"
                    },
                    "metadata": {}
                },
                {
                    "output_type": "execute_result",
                    "execution_count": 22,
                    "data": {
                        "application/vnd.dataresource+json": {
                            "schema": {
                                "fields": [
                                    {
                                        "name": "emp_row_no"
                                    },
                                    {
                                        "name": "Emp_Name"
                                    },
                                    {
                                        "name": "Dept_Name"
                                    },
                                    {
                                        "name": "Salary"
                                    },
                                    {
                                        "name": "emp_rank"
                                    },
                                    {
                                        "name": "emp_dense_rank"
                                    }
                                ]
                            },
                            "data": [
                                {
                                    "emp_row_no": "1",
                                    "Emp_Name": "Ramu",
                                    "Dept_Name": "Sales",
                                    "Salary": "96000",
                                    "emp_rank": "1",
                                    "emp_dense_rank": "1"
                                },
                                {
                                    "emp_row_no": "2",
                                    "Emp_Name": "Suresh",
                                    "Dept_Name": "Sales",
                                    "Salary": "75000",
                                    "emp_rank": "2",
                                    "emp_dense_rank": "2"
                                },
                                {
                                    "emp_row_no": "3",
                                    "Emp_Name": "Shyamu",
                                    "Dept_Name": "Sales",
                                    "Salary": "35000",
                                    "emp_rank": "3",
                                    "emp_dense_rank": "3"
                                },
                                {
                                    "emp_row_no": "4",
                                    "Emp_Name": "Rajesh",
                                    "Dept_Name": "Sales",
                                    "Salary": "28000",
                                    "emp_rank": "4",
                                    "emp_dense_rank": "4"
                                },
                                {
                                    "emp_row_no": "5",
                                    "Emp_Name": "Ramesh",
                                    "Dept_Name": "Sales",
                                    "Salary": "25000",
                                    "emp_rank": "5",
                                    "emp_dense_rank": "5"
                                },
                                {
                                    "emp_row_no": "1",
                                    "Emp_Name": "Chaman",
                                    "Dept_Name": "D10",
                                    "Salary": "28616",
                                    "emp_rank": "1",
                                    "emp_dense_rank": "1"
                                },
                                {
                                    "emp_row_no": "2",
                                    "Emp_Name": "Mahavishnu",
                                    "Dept_Name": "D10",
                                    "Salary": "24200",
                                    "emp_rank": "2",
                                    "emp_dense_rank": "2"
                                },
                                {
                                    "emp_row_no": "3",
                                    "Emp_Name": "Sownder",
                                    "Dept_Name": "D10",
                                    "Salary": "22000",
                                    "emp_rank": "3",
                                    "emp_dense_rank": "3"
                                },
                                {
                                    "emp_row_no": "4",
                                    "Emp_Name": "Surender",
                                    "Dept_Name": "D10",
                                    "Salary": "22000",
                                    "emp_rank": "3",
                                    "emp_dense_rank": "3"
                                },
                                {
                                    "emp_row_no": "5",
                                    "Emp_Name": "Arun",
                                    "Dept_Name": "D10",
                                    "Salary": "22000",
                                    "emp_rank": "3",
                                    "emp_dense_rank": "3"
                                },
                                {
                                    "emp_row_no": "1",
                                    "Emp_Name": "Mahesh",
                                    "Dept_Name": "Manager",
                                    "Salary": "25000",
                                    "emp_rank": "1",
                                    "emp_dense_rank": "1"
                                },
                                {
                                    "emp_row_no": "2",
                                    "Emp_Name": "Shankar",
                                    "Dept_Name": "Manager",
                                    "Salary": "24200",
                                    "emp_rank": "2",
                                    "emp_dense_rank": "2"
                                },
                                {
                                    "emp_row_no": "3",
                                    "Emp_Name": "Charan",
                                    "Dept_Name": "Manager",
                                    "Salary": "24200",
                                    "emp_rank": "2",
                                    "emp_dense_rank": "2"
                                },
                                {
                                    "emp_row_no": "4",
                                    "Emp_Name": "Hariharan",
                                    "Dept_Name": "Manager",
                                    "Salary": "22000",
                                    "emp_rank": "4",
                                    "emp_dense_rank": "3"
                                },
                                {
                                    "emp_row_no": "5",
                                    "Emp_Name": "Deva",
                                    "Dept_Name": "Manager",
                                    "Salary": "22000",
                                    "emp_rank": "4",
                                    "emp_dense_rank": "3"
                                }
                            ]
                        },
                        "text/html": "<table><tr><th>emp_row_no</th><th>Emp_Name</th><th>Dept_Name</th><th>Salary</th><th>emp_rank</th><th>emp_dense_rank</th></tr><tr><td>1</td><td>Ramu</td><td>Sales</td><td>96000</td><td>1</td><td>1</td></tr><tr><td>2</td><td>Suresh</td><td>Sales</td><td>75000</td><td>2</td><td>2</td></tr><tr><td>3</td><td>Shyamu</td><td>Sales</td><td>35000</td><td>3</td><td>3</td></tr><tr><td>4</td><td>Rajesh</td><td>Sales</td><td>28000</td><td>4</td><td>4</td></tr><tr><td>5</td><td>Ramesh</td><td>Sales</td><td>25000</td><td>5</td><td>5</td></tr><tr><td>1</td><td>Chaman</td><td>D10</td><td>28616</td><td>1</td><td>1</td></tr><tr><td>2</td><td>Mahavishnu</td><td>D10</td><td>24200</td><td>2</td><td>2</td></tr><tr><td>3</td><td>Sownder</td><td>D10</td><td>22000</td><td>3</td><td>3</td></tr><tr><td>4</td><td>Surender</td><td>D10</td><td>22000</td><td>3</td><td>3</td></tr><tr><td>5</td><td>Arun</td><td>D10</td><td>22000</td><td>3</td><td>3</td></tr><tr><td>1</td><td>Mahesh</td><td>Manager</td><td>25000</td><td>1</td><td>1</td></tr><tr><td>2</td><td>Shankar</td><td>Manager</td><td>24200</td><td>2</td><td>2</td></tr><tr><td>3</td><td>Charan</td><td>Manager</td><td>24200</td><td>2</td><td>2</td></tr><tr><td>4</td><td>Hariharan</td><td>Manager</td><td>22000</td><td>4</td><td>3</td></tr><tr><td>5</td><td>Deva</td><td>Manager</td><td>22000</td><td>4</td><td>3</td></tr></table>"
                    },
                    "metadata": {}
                }
            ],
            "execution_count": 22
        },
        {
            "cell_type": "markdown",
            "source": [
                "## GROUP BY Statement\n",
                "\n",
                "The `GROUP BY` statement groups rows that have the same values into summary rows, like \"find the number of customers in each country\".\n",
                "\n",
                "The `GROUP BY` statement is often used with **Aggregate Functions** (`COUNT()`, `MAX()`, `MIN()`, `SUM()`, `AVG()`) to group the result-set by one or more columns."
            ],
            "metadata": {
                "language": "sql",
                "azdata_cell_guid": "40366033-2853-4491-9e44-b4fe6ac8c745"
            },
            "attachments": {}
        },
        {
            "cell_type": "markdown",
            "source": [
                "**SUM():** <span style=\"color: rgb(39, 50, 57); font-family: Nunito, sans-serif; font-size: 17px; letter-spacing: 0.162px; background-color: rgb(255, 255, 255);\">The SUM() function returns the sum of all the values of the selected column.</span>"
            ],
            "metadata": {
                "language": "sql",
                "azdata_cell_guid": "c28104a8-3681-4bd3-9014-eacd71ef8c07"
            },
            "attachments": {}
        },
        {
            "cell_type": "code",
            "source": [
                "SELECT SUM(salary) as Dept_salary, dept_name\r\n",
                "from EMPLOYEE\r\n",
                "group BY dept_name;\r\n",
                ""
            ],
            "metadata": {
                "language": "sql",
                "azdata_cell_guid": "52580d8e-5501-4dba-b7bb-09e913bc308f",
                "tags": []
            },
            "outputs": [
                {
                    "output_type": "display_data",
                    "data": {
                        "text/html": "(3 rows affected)"
                    },
                    "metadata": {}
                },
                {
                    "output_type": "display_data",
                    "data": {
                        "text/html": "Total execution time: 00:00:00.140"
                    },
                    "metadata": {}
                },
                {
                    "output_type": "execute_result",
                    "execution_count": 25,
                    "data": {
                        "application/vnd.dataresource+json": {
                            "schema": {
                                "fields": [
                                    {
                                        "name": "Dept_salary"
                                    },
                                    {
                                        "name": "dept_name"
                                    }
                                ]
                            },
                            "data": [
                                {
                                    "Dept_salary": "118816",
                                    "dept_name": "D10"
                                },
                                {
                                    "Dept_salary": "117400",
                                    "dept_name": "Manager"
                                },
                                {
                                    "Dept_salary": "259000",
                                    "dept_name": "Sales"
                                }
                            ]
                        },
                        "text/html": "<table><tr><th>Dept_salary</th><th>dept_name</th></tr><tr><td>118816</td><td>D10</td></tr><tr><td>117400</td><td>Manager</td></tr><tr><td>259000</td><td>Sales</td></tr></table>"
                    },
                    "metadata": {}
                }
            ],
            "execution_count": 25
        },
        {
            "cell_type": "markdown",
            "source": [
                "**COUNT():** <span style=\"color: rgb(39, 50, 57); font-family: Nunito, sans-serif; font-size: 17px; letter-spacing: 0.162px; background-color: rgb(255, 255, 255);\">It is used to count the number of rows returned in a SELECT statement.</span>"
            ],
            "metadata": {
                "language": "sql",
                "azdata_cell_guid": "741c7991-9ec6-4fb4-8a96-4b8f959b48df"
            },
            "attachments": {}
        },
        {
            "cell_type": "code",
            "source": [
                "SELECT count(salary) as Dept_salary, dept_name\r\n",
                "from EMPLOYEE\r\n",
                "group BY dept_name;\r\n",
                "\r\n",
                ""
            ],
            "metadata": {
                "language": "sql",
                "azdata_cell_guid": "4a49526a-95a3-4f79-a924-c6f6f3e49eae"
            },
            "outputs": [
                {
                    "output_type": "display_data",
                    "data": {
                        "text/html": "(3 rows affected)"
                    },
                    "metadata": {}
                },
                {
                    "output_type": "display_data",
                    "data": {
                        "text/html": "Total execution time: 00:00:00.018"
                    },
                    "metadata": {}
                },
                {
                    "output_type": "execute_result",
                    "execution_count": 34,
                    "data": {
                        "application/vnd.dataresource+json": {
                            "schema": {
                                "fields": [
                                    {
                                        "name": "Dept_salary"
                                    },
                                    {
                                        "name": "dept_name"
                                    }
                                ]
                            },
                            "data": [
                                {
                                    "Dept_salary": "5",
                                    "dept_name": "D10"
                                },
                                {
                                    "Dept_salary": "5",
                                    "dept_name": "Manager"
                                },
                                {
                                    "Dept_salary": "5",
                                    "dept_name": "Sales"
                                }
                            ]
                        },
                        "text/html": "<table><tr><th>Dept_salary</th><th>dept_name</th></tr><tr><td>5</td><td>D10</td></tr><tr><td>5</td><td>Manager</td></tr><tr><td>5</td><td>Sales</td></tr></table>"
                    },
                    "metadata": {}
                }
            ],
            "execution_count": 34
        },
        {
            "cell_type": "markdown",
            "source": [
                "**MAX():** <span style=\"color: rgb(39, 50, 57); font-family: Nunito, sans-serif; font-size: 17px; letter-spacing: 0.162px; background-color: rgb(255, 255, 255);\">The MAX() function returns the maximum value of the selected column.</span>"
            ],
            "metadata": {
                "language": "sql",
                "azdata_cell_guid": "1b475491-3ee5-4ea0-97c1-3cd22ab40599"
            },
            "attachments": {}
        },
        {
            "cell_type": "code",
            "source": [
                "SELECT max(salary) as Dept_salary, dept_name\r\n",
                "from EMPLOYEE\r\n",
                "group BY dept_name;\r\n",
                ""
            ],
            "metadata": {
                "language": "sql",
                "azdata_cell_guid": "f471fa65-af81-4b45-a96f-046af1dac039"
            },
            "outputs": [
                {
                    "output_type": "display_data",
                    "data": {
                        "text/html": "(3 rows affected)"
                    },
                    "metadata": {}
                },
                {
                    "output_type": "display_data",
                    "data": {
                        "text/html": "Total execution time: 00:00:00.016"
                    },
                    "metadata": {}
                },
                {
                    "output_type": "execute_result",
                    "execution_count": 35,
                    "data": {
                        "application/vnd.dataresource+json": {
                            "schema": {
                                "fields": [
                                    {
                                        "name": "Dept_salary"
                                    },
                                    {
                                        "name": "dept_name"
                                    }
                                ]
                            },
                            "data": [
                                {
                                    "Dept_salary": "28616",
                                    "dept_name": "D10"
                                },
                                {
                                    "Dept_salary": "25000",
                                    "dept_name": "Manager"
                                },
                                {
                                    "Dept_salary": "96000",
                                    "dept_name": "Sales"
                                }
                            ]
                        },
                        "text/html": "<table><tr><th>Dept_salary</th><th>dept_name</th></tr><tr><td>28616</td><td>D10</td></tr><tr><td>25000</td><td>Manager</td></tr><tr><td>96000</td><td>Sales</td></tr></table>"
                    },
                    "metadata": {}
                }
            ],
            "execution_count": 35
        },
        {
            "cell_type": "markdown",
            "source": [
                "**AVG()**<span style=\"color: rgb(39, 50, 57); font-family: Nunito, sans-serif; font-size: 17px; letter-spacing: 0.162px; background-color: rgb(255, 255, 255);\">: It returns the average value after calculating from values in a numeric column.</span>"
            ],
            "metadata": {
                "language": "sql",
                "azdata_cell_guid": "014216f4-e47a-41d8-acc9-90377f39bfe0"
            },
            "attachments": {}
        },
        {
            "cell_type": "code",
            "source": [
                "SELECT AVG(salary) as Dept_salary, dept_name\r\n",
                "from EMPLOYEE\r\n",
                "group BY dept_name;\r\n",
                ""
            ],
            "metadata": {
                "language": "sql",
                "azdata_cell_guid": "b68ad1ed-f02d-42e6-8e63-adfcd652b1af"
            },
            "outputs": [
                {
                    "output_type": "display_data",
                    "data": {
                        "text/html": "(3 rows affected)"
                    },
                    "metadata": {}
                },
                {
                    "output_type": "display_data",
                    "data": {
                        "text/html": "Total execution time: 00:00:00.018"
                    },
                    "metadata": {}
                },
                {
                    "output_type": "execute_result",
                    "execution_count": 36,
                    "data": {
                        "application/vnd.dataresource+json": {
                            "schema": {
                                "fields": [
                                    {
                                        "name": "Dept_salary"
                                    },
                                    {
                                        "name": "dept_name"
                                    }
                                ]
                            },
                            "data": [
                                {
                                    "Dept_salary": "23763",
                                    "dept_name": "D10"
                                },
                                {
                                    "Dept_salary": "23480",
                                    "dept_name": "Manager"
                                },
                                {
                                    "Dept_salary": "51800",
                                    "dept_name": "Sales"
                                }
                            ]
                        },
                        "text/html": "<table><tr><th>Dept_salary</th><th>dept_name</th></tr><tr><td>23763</td><td>D10</td></tr><tr><td>23480</td><td>Manager</td></tr><tr><td>51800</td><td>Sales</td></tr></table>"
                    },
                    "metadata": {}
                }
            ],
            "execution_count": 36
        },
        {
            "cell_type": "markdown",
            "source": [
                "**MIN():** <span style=\"color: rgb(39, 50, 57); font-family: Nunito, sans-serif; font-size: 17px; letter-spacing: 0.162px; background-color: rgb(255, 255, 255);\">The MIN() function returns the minimum value of the selected column.&nbsp;</span>"
            ],
            "metadata": {
                "language": "sql",
                "azdata_cell_guid": "ead9b030-7f33-4c53-a0ff-b76b288abfd6"
            },
            "attachments": {}
        },
        {
            "cell_type": "code",
            "source": [
                "SELECT MIN(salary) as Dept_salary, dept_name\r\n",
                "from EMPLOYEE\r\n",
                "group BY dept_name;\r\n",
                ""
            ],
            "metadata": {
                "language": "sql",
                "azdata_cell_guid": "4589385e-8013-4826-bc05-0dede4794caa"
            },
            "outputs": [
                {
                    "output_type": "display_data",
                    "data": {
                        "text/html": "(3 rows affected)"
                    },
                    "metadata": {}
                },
                {
                    "output_type": "display_data",
                    "data": {
                        "text/html": "Total execution time: 00:00:00.021"
                    },
                    "metadata": {}
                },
                {
                    "output_type": "execute_result",
                    "execution_count": 37,
                    "data": {
                        "application/vnd.dataresource+json": {
                            "schema": {
                                "fields": [
                                    {
                                        "name": "Dept_salary"
                                    },
                                    {
                                        "name": "dept_name"
                                    }
                                ]
                            },
                            "data": [
                                {
                                    "Dept_salary": "22000",
                                    "dept_name": "D10"
                                },
                                {
                                    "Dept_salary": "22000",
                                    "dept_name": "Manager"
                                },
                                {
                                    "Dept_salary": "25000",
                                    "dept_name": "Sales"
                                }
                            ]
                        },
                        "text/html": "<table><tr><th>Dept_salary</th><th>dept_name</th></tr><tr><td>22000</td><td>D10</td></tr><tr><td>22000</td><td>Manager</td></tr><tr><td>25000</td><td>Sales</td></tr></table>"
                    },
                    "metadata": {}
                }
            ],
            "execution_count": 37
        },
        {
            "cell_type": "markdown",
            "source": [
                "**Scalar Functions****:**\n",
                "\n",
                "1. UCASE()\n",
                "2. LCASE()\n",
                "3. MID()\n",
                "4. LEN()\n",
                "5. ROUND()\n",
                "6. NOW()\n",
                "7. FORMAT()\n",
                "\n",
                "**UCASE()**<span style=\"font-weight: 400; letter-spacing: 0.162px; text-align: left;\">: It converts the value of a field to uppercase.</span>  \n",
                "               **UCASE()** is also known as **UPPER()** in SQL Server."
            ],
            "metadata": {
                "language": "sql",
                "azdata_cell_guid": "8323f8b1-abca-4e62-a104-56db50e02106"
            },
            "attachments": {}
        },
        {
            "cell_type": "code",
            "source": [
                "SELECT UPPER(Emp_Name) AS UCASE_EMPNAME\r\n",
                "FROM EMPLOYEE;"
            ],
            "metadata": {
                "azdata_cell_guid": "7098f851-4c39-41b0-bcb4-fc939c4160a3",
                "language": "sql",
                "tags": [
                    "hide_input"
                ]
            },
            "outputs": [
                {
                    "output_type": "display_data",
                    "data": {
                        "text/html": "(15 rows affected)"
                    },
                    "metadata": {}
                },
                {
                    "output_type": "display_data",
                    "data": {
                        "text/html": "Total execution time: 00:00:00.006"
                    },
                    "metadata": {}
                },
                {
                    "output_type": "execute_result",
                    "execution_count": 45,
                    "data": {
                        "application/vnd.dataresource+json": {
                            "schema": {
                                "fields": [
                                    {
                                        "name": "UCASE_EMPNAME"
                                    }
                                ]
                            },
                            "data": [
                                {
                                    "UCASE_EMPNAME": "RAMESH"
                                },
                                {
                                    "UCASE_EMPNAME": "SURESH"
                                },
                                {
                                    "UCASE_EMPNAME": "RAJESH"
                                },
                                {
                                    "UCASE_EMPNAME": "SHYAMU"
                                },
                                {
                                    "UCASE_EMPNAME": "RAMU"
                                },
                                {
                                    "UCASE_EMPNAME": "MAHESH"
                                },
                                {
                                    "UCASE_EMPNAME": "CHAMAN"
                                },
                                {
                                    "UCASE_EMPNAME": "ARUN"
                                },
                                {
                                    "UCASE_EMPNAME": "DEVA"
                                },
                                {
                                    "UCASE_EMPNAME": "CHARAN"
                                },
                                {
                                    "UCASE_EMPNAME": "SOWNDER"
                                },
                                {
                                    "UCASE_EMPNAME": "SURENDER"
                                },
                                {
                                    "UCASE_EMPNAME": "HARIHARAN"
                                },
                                {
                                    "UCASE_EMPNAME": "MAHAVISHNU"
                                },
                                {
                                    "UCASE_EMPNAME": "SHANKAR"
                                }
                            ]
                        },
                        "text/html": "<table><tr><th>UCASE_EMPNAME</th></tr><tr><td>RAMESH</td></tr><tr><td>SURESH</td></tr><tr><td>RAJESH</td></tr><tr><td>SHYAMU</td></tr><tr><td>RAMU</td></tr><tr><td>MAHESH</td></tr><tr><td>CHAMAN</td></tr><tr><td>ARUN</td></tr><tr><td>DEVA</td></tr><tr><td>CHARAN</td></tr><tr><td>SOWNDER</td></tr><tr><td>SURENDER</td></tr><tr><td>HARIHARAN</td></tr><tr><td>MAHAVISHNU</td></tr><tr><td>SHANKAR</td></tr></table>"
                    },
                    "metadata": {}
                }
            ],
            "execution_count": 45
        },
        {
            "cell_type": "markdown",
            "source": [
                "**LCASE()**<span style=\"color: rgb(39, 50, 57); font-family: Nunito, sans-serif; font-size: 17px; letter-spacing: 0.162px; background-color: rgb(255, 255, 255);\">: It converts the value of a field to lowercase</span>\n",
                "\n",
                "               <span style=\"background-color: rgb(255, 255, 255); color: rgb(39, 50, 57); font-family: Nunito, sans-serif; font-size: 17px; letter-spacing: 0.162px;\"><b>LCASE()</b> is also known as<b> LOWER() </b>in SQL Server.</span>"
            ],
            "metadata": {
                "language": "sql",
                "azdata_cell_guid": "617f4497-2459-4b09-8381-7afbd03bcc1b"
            },
            "attachments": {}
        },
        {
            "cell_type": "code",
            "source": [
                "SELECT LOWER(Emp_Name) AS LCASE_EMPNAME\r\n",
                "FROM EMPLOYEE;"
            ],
            "metadata": {
                "language": "sql",
                "azdata_cell_guid": "04d235c2-f9ba-4129-848d-b12955971846"
            },
            "outputs": [
                {
                    "output_type": "display_data",
                    "data": {
                        "text/html": "(15 rows affected)"
                    },
                    "metadata": {}
                },
                {
                    "output_type": "display_data",
                    "data": {
                        "text/html": "Total execution time: 00:00:00.057"
                    },
                    "metadata": {}
                },
                {
                    "output_type": "execute_result",
                    "execution_count": 46,
                    "data": {
                        "application/vnd.dataresource+json": {
                            "schema": {
                                "fields": [
                                    {
                                        "name": "LCASE_EMPNAME"
                                    }
                                ]
                            },
                            "data": [
                                {
                                    "LCASE_EMPNAME": "ramesh"
                                },
                                {
                                    "LCASE_EMPNAME": "suresh"
                                },
                                {
                                    "LCASE_EMPNAME": "rajesh"
                                },
                                {
                                    "LCASE_EMPNAME": "shyamu"
                                },
                                {
                                    "LCASE_EMPNAME": "ramu"
                                },
                                {
                                    "LCASE_EMPNAME": "mahesh"
                                },
                                {
                                    "LCASE_EMPNAME": "chaman"
                                },
                                {
                                    "LCASE_EMPNAME": "arun"
                                },
                                {
                                    "LCASE_EMPNAME": "deva"
                                },
                                {
                                    "LCASE_EMPNAME": "charan"
                                },
                                {
                                    "LCASE_EMPNAME": "sownder"
                                },
                                {
                                    "LCASE_EMPNAME": "surender"
                                },
                                {
                                    "LCASE_EMPNAME": "hariharan"
                                },
                                {
                                    "LCASE_EMPNAME": "mahavishnu"
                                },
                                {
                                    "LCASE_EMPNAME": "shankar"
                                }
                            ]
                        },
                        "text/html": "<table><tr><th>LCASE_EMPNAME</th></tr><tr><td>ramesh</td></tr><tr><td>suresh</td></tr><tr><td>rajesh</td></tr><tr><td>shyamu</td></tr><tr><td>ramu</td></tr><tr><td>mahesh</td></tr><tr><td>chaman</td></tr><tr><td>arun</td></tr><tr><td>deva</td></tr><tr><td>charan</td></tr><tr><td>sownder</td></tr><tr><td>surender</td></tr><tr><td>hariharan</td></tr><tr><td>mahavishnu</td></tr><tr><td>shankar</td></tr></table>"
                    },
                    "metadata": {}
                }
            ],
            "execution_count": 46
        },
        {
            "cell_type": "markdown",
            "source": [
                "**MID():** <span style=\"color: rgb(39, 50, 57); font-family: Nunito, sans-serif; font-size: 17px; letter-spacing: 0.162px; background-color: rgb(255, 255, 255);\">The MID() function extracts texts from the text field.</span>\n",
                "\n",
                "            <span style=\"color: rgb(39, 50, 57); font-family: Nunito, sans-serif; font-size: 17px; letter-spacing: 0.162px; background-color: rgb(255, 255, 255);\"><b>MID()</b> is also known as <b>SUBSTRING()</b> in SQL Server.</span>"
            ],
            "metadata": {
                "language": "sql",
                "azdata_cell_guid": "572be53f-85c6-4ec5-8096-32322eba99d6"
            },
            "attachments": {}
        },
        {
            "cell_type": "code",
            "source": [
                "SELECT SUBSTRING(EMP_NAME,4,5)\r\n",
                "FROM EMPLOYEE;"
            ],
            "metadata": {
                "language": "sql",
                "azdata_cell_guid": "88efe011-1cd5-48e5-9644-66db7a07dba4"
            },
            "outputs": [
                {
                    "output_type": "display_data",
                    "data": {
                        "text/html": "(15 rows affected)"
                    },
                    "metadata": {}
                },
                {
                    "output_type": "display_data",
                    "data": {
                        "text/html": "Total execution time: 00:00:00.096"
                    },
                    "metadata": {}
                },
                {
                    "output_type": "execute_result",
                    "execution_count": 36,
                    "data": {
                        "application/vnd.dataresource+json": {
                            "schema": {
                                "fields": [
                                    {
                                        "name": "(No column name)"
                                    }
                                ]
                            },
                            "data": [
                                {
                                    "(No column name)": "esh"
                                },
                                {
                                    "(No column name)": "esh"
                                },
                                {
                                    "(No column name)": "esh"
                                },
                                {
                                    "(No column name)": "amu"
                                },
                                {
                                    "(No column name)": "u"
                                },
                                {
                                    "(No column name)": "esh"
                                },
                                {
                                    "(No column name)": "man"
                                },
                                {
                                    "(No column name)": "n"
                                },
                                {
                                    "(No column name)": "a"
                                },
                                {
                                    "(No column name)": "ran"
                                },
                                {
                                    "(No column name)": "nder"
                                },
                                {
                                    "(No column name)": "ender"
                                },
                                {
                                    "(No column name)": "ihara"
                                },
                                {
                                    "(No column name)": "avish"
                                },
                                {
                                    "(No column name)": "nkar"
                                }
                            ]
                        },
                        "text/html": "<table><tr><th>(No column name)</th></tr><tr><td>esh</td></tr><tr><td>esh</td></tr><tr><td>esh</td></tr><tr><td>amu</td></tr><tr><td>u</td></tr><tr><td>esh</td></tr><tr><td>man</td></tr><tr><td>n</td></tr><tr><td>a</td></tr><tr><td>ran</td></tr><tr><td>nder</td></tr><tr><td>ender</td></tr><tr><td>ihara</td></tr><tr><td>avish</td></tr><tr><td>nkar</td></tr></table>"
                    },
                    "metadata": {}
                }
            ],
            "execution_count": 36
        },
        {
            "cell_type": "markdown",
            "source": [
                "**LEN():** <span style=\"color: rgb(39, 50, 57); font-family: Nunito, sans-serif; font-size: 17px; letter-spacing: 0.162px; background-color: rgb(255, 255, 255);\">The LEN() function returns the length of the value in a text field.</span>"
            ],
            "metadata": {
                "language": "sql",
                "azdata_cell_guid": "96a7d111-e135-4979-b54d-3699c6644482"
            },
            "attachments": {}
        },
        {
            "cell_type": "code",
            "source": [
                "SELECT LEN(EMP_ADDRESS) \r\n",
                "FROM EMPLOYEE;"
            ],
            "metadata": {
                "language": "sql",
                "azdata_cell_guid": "f44c203f-c204-4ef7-9714-50a6bcbc5893"
            },
            "outputs": [
                {
                    "output_type": "display_data",
                    "data": {
                        "text/html": "(15 rows affected)"
                    },
                    "metadata": {}
                },
                {
                    "output_type": "display_data",
                    "data": {
                        "text/html": "Total execution time: 00:00:00.056"
                    },
                    "metadata": {}
                },
                {
                    "output_type": "execute_result",
                    "execution_count": 51,
                    "data": {
                        "application/vnd.dataresource+json": {
                            "schema": {
                                "fields": [
                                    {
                                        "name": "(No column name)"
                                    }
                                ]
                            },
                            "data": [
                                {
                                    "(No column name)": "6"
                                },
                                {
                                    "(No column name)": "6"
                                },
                                {
                                    "(No column name)": "6"
                                },
                                {
                                    "(No column name)": "3"
                                },
                                {
                                    "(No column name)": "3"
                                },
                                {
                                    "(No column name)": "6"
                                },
                                {
                                    "(No column name)": "4"
                                },
                                {
                                    "(No column name)": "7"
                                },
                                {
                                    "(No column name)": "10"
                                },
                                {
                                    "(No column name)": "5"
                                },
                                {
                                    "(No column name)": "10"
                                },
                                {
                                    "(No column name)": "7"
                                },
                                {
                                    "(No column name)": "7"
                                },
                                {
                                    "(No column name)": "10"
                                },
                                {
                                    "(No column name)": "7"
                                }
                            ]
                        },
                        "text/html": "<table><tr><th>(No column name)</th></tr><tr><td>6</td></tr><tr><td>6</td></tr><tr><td>6</td></tr><tr><td>3</td></tr><tr><td>3</td></tr><tr><td>6</td></tr><tr><td>4</td></tr><tr><td>7</td></tr><tr><td>10</td></tr><tr><td>5</td></tr><tr><td>10</td></tr><tr><td>7</td></tr><tr><td>7</td></tr><tr><td>10</td></tr><tr><td>7</td></tr></table>"
                    },
                    "metadata": {}
                }
            ],
            "execution_count": 51
        },
        {
            "cell_type": "markdown",
            "source": [
                "**SUBSTRING() & LEN()**\n",
                "\n",
                "HERE IN SUBSTRING(<span style=\"color: rgb(33, 33, 33); font-family: Consolas, &quot;Courier New&quot;, monospace; font-size: 12px; white-space: pre;\">Emp_Address,</span><span style=\"color: var(--vscode-foreground);\">1,4)&nbsp;</span>  \n",
                "\n",
                "1- Stands for where the <span style=\"color: rgb(33, 33, 33); font-family: Consolas, &quot;Courier New&quot;, monospace; font-size: 12px; white-space: pre;\"><u>Emp_Address</u> range starts from</span>  <span style=\"color: var(--vscode-foreground);\">&nbsp; &amp;&nbsp; 4- Stands for where the&nbsp;</span>  <span style=\"color: rgb(33, 33, 33); font-family: Consolas, &quot;Courier New&quot;, monospace; font-size: 12px; white-space: pre;\"><u>Emp_Address</u> range ends at.</span>"
            ],
            "metadata": {
                "language": "sql",
                "azdata_cell_guid": "4a2a7f2f-760f-4d11-b2d7-7c341014398d"
            },
            "attachments": {}
        },
        {
            "cell_type": "code",
            "source": [
                "SELECT SUBSTRING(Emp_Address,1,4),LEN (Emp_Address)\r\n",
                "FROM EMPLOYEE;"
            ],
            "metadata": {
                "language": "sql",
                "azdata_cell_guid": "0c1da8a5-1a2e-4206-84c6-84469c917bef"
            },
            "outputs": [
                {
                    "output_type": "display_data",
                    "data": {
                        "text/html": "(15 rows affected)"
                    },
                    "metadata": {}
                },
                {
                    "output_type": "display_data",
                    "data": {
                        "text/html": "Total execution time: 00:00:00.013"
                    },
                    "metadata": {}
                },
                {
                    "output_type": "execute_result",
                    "metadata": {},
                    "execution_count": 16,
                    "data": {
                        "application/vnd.dataresource+json": {
                            "schema": {
                                "fields": [
                                    {
                                        "name": "(No column name)"
                                    },
                                    {
                                        "name": "(No column name)"
                                    }
                                ]
                            },
                            "data": [
                                {
                                    "(No column name)": "6"
                                },
                                {
                                    "(No column name)": "6"
                                },
                                {
                                    "(No column name)": "6"
                                },
                                {
                                    "(No column name)": "3"
                                },
                                {
                                    "(No column name)": "3"
                                },
                                {
                                    "(No column name)": "6"
                                },
                                {
                                    "(No column name)": "4"
                                },
                                {
                                    "(No column name)": "7"
                                },
                                {
                                    "(No column name)": "10"
                                },
                                {
                                    "(No column name)": "5"
                                },
                                {
                                    "(No column name)": "10"
                                },
                                {
                                    "(No column name)": "7"
                                },
                                {
                                    "(No column name)": "7"
                                },
                                {
                                    "(No column name)": "10"
                                },
                                {
                                    "(No column name)": "7"
                                }
                            ]
                        },
                        "text/html": [
                            "<table>",
                            "<tr><th>(No column name)</th><th>(No column name)</th></tr>",
                            "<tr><td>GNoi</td><td>6</td></tr>",
                            "<tr><td>GNoi</td><td>6</td></tr>",
                            "<tr><td>GNoi</td><td>6</td></tr>",
                            "<tr><td>BSB</td><td>3</td></tr>",
                            "<tr><td>BSB</td><td>3</td></tr>",
                            "<tr><td>GNoi</td><td>6</td></tr>",
                            "<tr><td>BSBS</td><td>4</td></tr>",
                            "<tr><td>Chen</td><td>7</td></tr>",
                            "<tr><td>coim</td><td>10</td></tr>",
                            "<tr><td>Hosu</td><td>5</td></tr>",
                            "<tr><td>Dhar</td><td>10</td></tr>",
                            "<tr><td>Madu</td><td>7</td></tr>",
                            "<tr><td>chen</td><td>7</td></tr>",
                            "<tr><td>Coim</td><td>10</td></tr>",
                            "<tr><td>chen</td><td>7</td></tr>",
                            "</table>"
                        ]
                    }
                }
            ],
            "execution_count": 16
        },
        {
            "cell_type": "markdown",
            "source": [
                "**ROUND():** <span style=\"color: rgb(39, 50, 57); font-family: Nunito, sans-serif; font-size: 17px; letter-spacing: 0.162px; background-color: rgb(255, 255, 255);\">The ROUND() function is used to round a numeric field to the number of decimals specified.</span>\n",
                "\n",
                "<span style=\"color: rgb(39, 50, 57); font-family: Nunito, sans-serif; font-size: 17px; letter-spacing: 0.162px; background-color: rgb(255, 255, 255);\">NOTE: Many database systems have adopted the IEEE 754 standard for arithmetic operations, which says that when any numeric .5 is rounded it results to the nearest even integer i.e, 5.5 and 6.5 both gets rounded off to 6. D</span><span style=\"background-color: var(--gfg-grey-bg); color: rgb(39, 50, 57); font-family: Consolas, monospace; font-size: 12pt; letter-spacing: 0.162px; white-space: pre-wrap;\">ecimals- number of decimals to be fetched.</span>\n",
                "\n",
                "<span style=\"color: rgb(39, 50, 57); font-family: Nunito, sans-serif; font-size: 17px; letter-spacing: 0.162px; background-color: rgb(255, 255, 255);\"><br></span>"
            ],
            "metadata": {
                "language": "sql",
                "azdata_cell_guid": "9af83598-54b0-41fd-81a2-ec1d5e0a2d22"
            },
            "attachments": {}
        },
        {
            "cell_type": "code",
            "source": [
                "SELECT ROUND(SALARY,0)\r\n",
                "FROM EMPLOYEE;"
            ],
            "metadata": {
                "language": "sql",
                "azdata_cell_guid": "38ad7f3c-ca16-431f-849e-08ee229250f6",
                "tags": [
                    "hide_input"
                ]
            },
            "outputs": [
                {
                    "output_type": "display_data",
                    "data": {
                        "text/html": "(15 rows affected)"
                    },
                    "metadata": {}
                },
                {
                    "output_type": "display_data",
                    "data": {
                        "text/html": "Total execution time: 00:00:00.019"
                    },
                    "metadata": {}
                },
                {
                    "output_type": "execute_result",
                    "execution_count": 52,
                    "data": {
                        "application/vnd.dataresource+json": {
                            "schema": {
                                "fields": [
                                    {
                                        "name": "(No column name)"
                                    }
                                ]
                            },
                            "data": [
                                {
                                    "(No column name)": "25000"
                                },
                                {
                                    "(No column name)": "75000"
                                },
                                {
                                    "(No column name)": "28000"
                                },
                                {
                                    "(No column name)": "35000"
                                },
                                {
                                    "(No column name)": "96000"
                                },
                                {
                                    "(No column name)": "25000"
                                },
                                {
                                    "(No column name)": "28616"
                                },
                                {
                                    "(No column name)": "22000"
                                },
                                {
                                    "(No column name)": "22000"
                                },
                                {
                                    "(No column name)": "24200"
                                },
                                {
                                    "(No column name)": "22000"
                                },
                                {
                                    "(No column name)": "22000"
                                },
                                {
                                    "(No column name)": "22000"
                                },
                                {
                                    "(No column name)": "24200"
                                },
                                {
                                    "(No column name)": "24200"
                                }
                            ]
                        },
                        "text/html": "<table><tr><th>(No column name)</th></tr><tr><td>25000</td></tr><tr><td>75000</td></tr><tr><td>28000</td></tr><tr><td>35000</td></tr><tr><td>96000</td></tr><tr><td>25000</td></tr><tr><td>28616</td></tr><tr><td>22000</td></tr><tr><td>22000</td></tr><tr><td>24200</td></tr><tr><td>22000</td></tr><tr><td>22000</td></tr><tr><td>22000</td></tr><tr><td>24200</td></tr><tr><td>24200</td></tr></table>"
                    },
                    "metadata": {}
                }
            ],
            "execution_count": 52
        },
        {
            "cell_type": "markdown",
            "source": [
                "**NOW():** <span style=\"color: rgb(39, 50, 57); font-family: Nunito, sans-serif; font-size: 17px; letter-spacing: 0.162px; background-color: rgb(255, 255, 255);\">The NOW() function returns the current system date and time.</span>\n",
                "\n",
                "              <span style=\"color: rgb(39, 50, 57); font-family: Nunito, sans-serif; font-size: 17px; letter-spacing: 0.162px; background-color: rgb(255, 255, 255);\">&nbsp;<b>NOW()</b> is also known as <b>GETDATE() &amp; CURRENT_TIMESTAMP() </b>in SQL Server.</span>"
            ],
            "metadata": {
                "language": "sql",
                "azdata_cell_guid": "88cce713-283a-45a0-9eef-a9749a259078"
            },
            "attachments": {}
        },
        {
            "cell_type": "code",
            "source": [
                "SELECT EMP_NAME,EMP_ADDRESS,DEPT_NAME, GETDate() AS DATENTIME\r\n",
                "FROM EMPLOYEE;"
            ],
            "metadata": {
                "language": "sql",
                "azdata_cell_guid": "85ca462a-5030-4e5d-a1eb-5fe408092b2d",
                "tags": []
            },
            "outputs": [
                {
                    "output_type": "display_data",
                    "data": {
                        "text/html": "(15 rows affected)"
                    },
                    "metadata": {}
                },
                {
                    "output_type": "display_data",
                    "data": {
                        "text/html": "Total execution time: 00:00:01.026"
                    },
                    "metadata": {}
                },
                {
                    "output_type": "execute_result",
                    "execution_count": 6,
                    "data": {
                        "application/vnd.dataresource+json": {
                            "schema": {
                                "fields": [
                                    {
                                        "name": "EMP_NAME"
                                    },
                                    {
                                        "name": "EMP_ADDRESS"
                                    },
                                    {
                                        "name": "DEPT_NAME"
                                    },
                                    {
                                        "name": "DATENTIME"
                                    }
                                ]
                            },
                            "data": [
                                {
                                    "EMP_NAME": "Ramesh",
                                    "EMP_ADDRESS": "GNoida",
                                    "DEPT_NAME": "Sales",
                                    "DATENTIME": "2023-08-09 11:28:31.737"
                                },
                                {
                                    "EMP_NAME": "Suresh",
                                    "EMP_ADDRESS": "GNoida",
                                    "DEPT_NAME": "Sales",
                                    "DATENTIME": "2023-08-09 11:28:31.737"
                                },
                                {
                                    "EMP_NAME": "Rajesh",
                                    "EMP_ADDRESS": "GNoida",
                                    "DEPT_NAME": "Sales",
                                    "DATENTIME": "2023-08-09 11:28:31.737"
                                },
                                {
                                    "EMP_NAME": "Shyamu",
                                    "EMP_ADDRESS": "BSB",
                                    "DEPT_NAME": "Sales",
                                    "DATENTIME": "2023-08-09 11:28:31.737"
                                },
                                {
                                    "EMP_NAME": "Ramu",
                                    "EMP_ADDRESS": "BSB",
                                    "DEPT_NAME": "Sales",
                                    "DATENTIME": "2023-08-09 11:28:31.737"
                                },
                                {
                                    "EMP_NAME": "Mahesh",
                                    "EMP_ADDRESS": "GNoida",
                                    "DEPT_NAME": "Manager",
                                    "DATENTIME": "2023-08-09 11:28:31.737"
                                },
                                {
                                    "EMP_NAME": "Chaman",
                                    "EMP_ADDRESS": "BSBS",
                                    "DEPT_NAME": "D10",
                                    "DATENTIME": "2023-08-09 11:28:31.737"
                                },
                                {
                                    "EMP_NAME": "Arun",
                                    "EMP_ADDRESS": "Chennai",
                                    "DEPT_NAME": "D10",
                                    "DATENTIME": "2023-08-09 11:28:31.737"
                                },
                                {
                                    "EMP_NAME": "Deva",
                                    "EMP_ADDRESS": "coimbatore",
                                    "DEPT_NAME": "Manager",
                                    "DATENTIME": "2023-08-09 11:28:31.737"
                                },
                                {
                                    "EMP_NAME": "Charan",
                                    "EMP_ADDRESS": "Hosur",
                                    "DEPT_NAME": "Manager",
                                    "DATENTIME": "2023-08-09 11:28:31.737"
                                },
                                {
                                    "EMP_NAME": "Sownder",
                                    "EMP_ADDRESS": "Dharmapuri",
                                    "DEPT_NAME": "D10",
                                    "DATENTIME": "2023-08-09 11:28:31.737"
                                },
                                {
                                    "EMP_NAME": "Surender",
                                    "EMP_ADDRESS": "Madurai",
                                    "DEPT_NAME": "D10",
                                    "DATENTIME": "2023-08-09 11:28:31.737"
                                },
                                {
                                    "EMP_NAME": "Hariharan",
                                    "EMP_ADDRESS": "chennai",
                                    "DEPT_NAME": "Manager",
                                    "DATENTIME": "2023-08-09 11:28:31.737"
                                },
                                {
                                    "EMP_NAME": "Mahavishnu",
                                    "EMP_ADDRESS": "Coimbatore",
                                    "DEPT_NAME": "D10",
                                    "DATENTIME": "2023-08-09 11:28:31.737"
                                },
                                {
                                    "EMP_NAME": "Shankar",
                                    "EMP_ADDRESS": "chennai",
                                    "DEPT_NAME": "Manager",
                                    "DATENTIME": "2023-08-09 11:28:31.737"
                                }
                            ]
                        },
                        "text/html": "<table><tr><th>EMP_NAME</th><th>EMP_ADDRESS</th><th>DEPT_NAME</th><th>DATENTIME</th></tr><tr><td>Ramesh</td><td>GNoida</td><td>Sales</td><td>2023-08-09 11:28:31.737</td></tr><tr><td>Suresh</td><td>GNoida</td><td>Sales</td><td>2023-08-09 11:28:31.737</td></tr><tr><td>Rajesh</td><td>GNoida</td><td>Sales</td><td>2023-08-09 11:28:31.737</td></tr><tr><td>Shyamu</td><td>BSB</td><td>Sales</td><td>2023-08-09 11:28:31.737</td></tr><tr><td>Ramu</td><td>BSB</td><td>Sales</td><td>2023-08-09 11:28:31.737</td></tr><tr><td>Mahesh</td><td>GNoida</td><td>Manager</td><td>2023-08-09 11:28:31.737</td></tr><tr><td>Chaman</td><td>BSBS</td><td>D10</td><td>2023-08-09 11:28:31.737</td></tr><tr><td>Arun</td><td>Chennai</td><td>D10</td><td>2023-08-09 11:28:31.737</td></tr><tr><td>Deva</td><td>coimbatore</td><td>Manager</td><td>2023-08-09 11:28:31.737</td></tr><tr><td>Charan</td><td>Hosur</td><td>Manager</td><td>2023-08-09 11:28:31.737</td></tr><tr><td>Sownder</td><td>Dharmapuri</td><td>D10</td><td>2023-08-09 11:28:31.737</td></tr><tr><td>Surender</td><td>Madurai</td><td>D10</td><td>2023-08-09 11:28:31.737</td></tr><tr><td>Hariharan</td><td>chennai</td><td>Manager</td><td>2023-08-09 11:28:31.737</td></tr><tr><td>Mahavishnu</td><td>Coimbatore</td><td>D10</td><td>2023-08-09 11:28:31.737</td></tr><tr><td>Shankar</td><td>chennai</td><td>Manager</td><td>2023-08-09 11:28:31.737</td></tr></table>"
                    },
                    "metadata": {}
                }
            ],
            "execution_count": 6
        },
        {
            "cell_type": "code",
            "source": [
                "SELECT CURRENT_TIMESTAMP"
            ],
            "metadata": {
                "language": "sql",
                "azdata_cell_guid": "8e8cdcfe-3bce-466a-a934-c21a43c4756f"
            },
            "outputs": [
                {
                    "output_type": "display_data",
                    "data": {
                        "text/html": "(1 row affected)"
                    },
                    "metadata": {}
                },
                {
                    "output_type": "display_data",
                    "data": {
                        "text/html": "Total execution time: 00:00:00.012"
                    },
                    "metadata": {}
                },
                {
                    "output_type": "execute_result",
                    "execution_count": 5,
                    "data": {
                        "application/vnd.dataresource+json": {
                            "schema": {
                                "fields": [
                                    {
                                        "name": "(No column name)"
                                    }
                                ]
                            },
                            "data": [
                                {
                                    "(No column name)": "2023-08-09 11:27:46.823"
                                }
                            ]
                        },
                        "text/html": "<table><tr><th>(No column name)</th></tr><tr><td>2023-08-09 11:27:46.823</td></tr></table>"
                    },
                    "metadata": {}
                }
            ],
            "execution_count": 5
        },
        {
            "cell_type": "markdown",
            "source": [
                "**FORMAT():** <span style=\"color: rgb(39, 50, 57); font-family: Nunito, sans-serif; font-size: 17px; letter-spacing: 0.162px; background-color: rgb(255, 255, 255);\">The FORMAT() function is used to format how a field is to be displayed.</span>"
            ],
            "metadata": {
                "language": "sql",
                "azdata_cell_guid": "a7722539-5ffd-41c4-8dc1-3278bb21aa6e"
            },
            "attachments": {}
        },
        {
            "cell_type": "code",
            "source": [
                "SELECT EMP_NAME,EMP_ADDRESS,DEPT_NAME, FORMAT(CURRENT_TIMESTAMP,'dd-MM-yyyy') AS DATE\r\n",
                "FROM EMPLOYEE;"
            ],
            "metadata": {
                "language": "sql",
                "azdata_cell_guid": "b9a22f81-d074-4d2a-9f6e-14aecb034877"
            },
            "outputs": [
                {
                    "output_type": "display_data",
                    "data": {
                        "text/html": "(15 rows affected)"
                    },
                    "metadata": {}
                },
                {
                    "output_type": "display_data",
                    "data": {
                        "text/html": "Total execution time: 00:00:00.050"
                    },
                    "metadata": {}
                },
                {
                    "output_type": "execute_result",
                    "metadata": {},
                    "execution_count": 18,
                    "data": {
                        "application/vnd.dataresource+json": {
                            "schema": {
                                "fields": [
                                    {
                                        "name": "EMP_NAME"
                                    },
                                    {
                                        "name": "EMP_ADDRESS"
                                    },
                                    {
                                        "name": "DEPT_NAME"
                                    },
                                    {
                                        "name": "DATE"
                                    }
                                ]
                            },
                            "data": [
                                {
                                    "EMP_NAME": "Ramesh",
                                    "EMP_ADDRESS": "GNoida",
                                    "DEPT_NAME": "Sales",
                                    "DATE": "10-08-2023"
                                },
                                {
                                    "EMP_NAME": "Suresh",
                                    "EMP_ADDRESS": "GNoida",
                                    "DEPT_NAME": "Sales",
                                    "DATE": "10-08-2023"
                                },
                                {
                                    "EMP_NAME": "Rajesh",
                                    "EMP_ADDRESS": "GNoida",
                                    "DEPT_NAME": "Sales",
                                    "DATE": "10-08-2023"
                                },
                                {
                                    "EMP_NAME": "Shyamu",
                                    "EMP_ADDRESS": "BSB",
                                    "DEPT_NAME": "Sales",
                                    "DATE": "10-08-2023"
                                },
                                {
                                    "EMP_NAME": "Ramu",
                                    "EMP_ADDRESS": "BSB",
                                    "DEPT_NAME": "Sales",
                                    "DATE": "10-08-2023"
                                },
                                {
                                    "EMP_NAME": "Mahesh",
                                    "EMP_ADDRESS": "GNoida",
                                    "DEPT_NAME": "Manager",
                                    "DATE": "10-08-2023"
                                },
                                {
                                    "EMP_NAME": "Chaman",
                                    "EMP_ADDRESS": "BSBS",
                                    "DEPT_NAME": "D10",
                                    "DATE": "10-08-2023"
                                },
                                {
                                    "EMP_NAME": "Arun",
                                    "EMP_ADDRESS": "Chennai",
                                    "DEPT_NAME": "D10",
                                    "DATE": "10-08-2023"
                                },
                                {
                                    "EMP_NAME": "Deva",
                                    "EMP_ADDRESS": "coimbatore",
                                    "DEPT_NAME": "Manager",
                                    "DATE": "10-08-2023"
                                },
                                {
                                    "EMP_NAME": "Charan",
                                    "EMP_ADDRESS": "Hosur",
                                    "DEPT_NAME": "Manager",
                                    "DATE": "10-08-2023"
                                },
                                {
                                    "EMP_NAME": "Sownder",
                                    "EMP_ADDRESS": "Dharmapuri",
                                    "DEPT_NAME": "D10",
                                    "DATE": "10-08-2023"
                                },
                                {
                                    "EMP_NAME": "Surender",
                                    "EMP_ADDRESS": "Madurai",
                                    "DEPT_NAME": "D10",
                                    "DATE": "10-08-2023"
                                },
                                {
                                    "EMP_NAME": "Hariharan",
                                    "EMP_ADDRESS": "chennai",
                                    "DEPT_NAME": "Manager",
                                    "DATE": "10-08-2023"
                                },
                                {
                                    "EMP_NAME": "Mahavishnu",
                                    "EMP_ADDRESS": "Coimbatore",
                                    "DEPT_NAME": "D10",
                                    "DATE": "10-08-2023"
                                },
                                {
                                    "EMP_NAME": "Shankar",
                                    "EMP_ADDRESS": "chennai",
                                    "DEPT_NAME": "Manager",
                                    "DATE": "10-08-2023"
                                }
                            ]
                        },
                        "text/html": [
                            "<table>",
                            "<tr><th>EMP_NAME</th><th>EMP_ADDRESS</th><th>DEPT_NAME</th><th>DATE</th></tr>",
                            "<tr><td>Ramesh</td><td>GNoida</td><td>Sales</td><td>10-08-2023</td></tr>",
                            "<tr><td>Suresh</td><td>GNoida</td><td>Sales</td><td>10-08-2023</td></tr>",
                            "<tr><td>Rajesh</td><td>GNoida</td><td>Sales</td><td>10-08-2023</td></tr>",
                            "<tr><td>Shyamu</td><td>BSB</td><td>Sales</td><td>10-08-2023</td></tr>",
                            "<tr><td>Ramu</td><td>BSB</td><td>Sales</td><td>10-08-2023</td></tr>",
                            "<tr><td>Mahesh</td><td>GNoida</td><td>Manager</td><td>10-08-2023</td></tr>",
                            "<tr><td>Chaman</td><td>BSBS</td><td>D10</td><td>10-08-2023</td></tr>",
                            "<tr><td>Arun</td><td>Chennai</td><td>D10</td><td>10-08-2023</td></tr>",
                            "<tr><td>Deva</td><td>coimbatore</td><td>Manager</td><td>10-08-2023</td></tr>",
                            "<tr><td>Charan</td><td>Hosur</td><td>Manager</td><td>10-08-2023</td></tr>",
                            "<tr><td>Sownder</td><td>Dharmapuri</td><td>D10</td><td>10-08-2023</td></tr>",
                            "<tr><td>Surender</td><td>Madurai</td><td>D10</td><td>10-08-2023</td></tr>",
                            "<tr><td>Hariharan</td><td>chennai</td><td>Manager</td><td>10-08-2023</td></tr>",
                            "<tr><td>Mahavishnu</td><td>Coimbatore</td><td>D10</td><td>10-08-2023</td></tr>",
                            "<tr><td>Shankar</td><td>chennai</td><td>Manager</td><td>10-08-2023</td></tr>",
                            "</table>"
                        ]
                    }
                }
            ],
            "execution_count": 18
        },
        {
            "cell_type": "code",
            "source": [
                "SELECT CURRENT_TIMESTAMP, FORMAT(CURRENT_TIMESTAMP,'dd-MM-yyyy')\r\n",
                ""
            ],
            "metadata": {
                "language": "sql",
                "azdata_cell_guid": "804778c3-ac14-45c6-86e1-aec383ba8074"
            },
            "outputs": [
                {
                    "output_type": "display_data",
                    "data": {
                        "text/html": "(1 row affected)"
                    },
                    "metadata": {}
                },
                {
                    "output_type": "display_data",
                    "data": {
                        "text/html": "Total execution time: 00:00:01.129"
                    },
                    "metadata": {}
                },
                {
                    "output_type": "execute_result",
                    "metadata": {},
                    "execution_count": 17,
                    "data": {
                        "application/vnd.dataresource+json": {
                            "schema": {
                                "fields": [
                                    {
                                        "name": "(No column name)"
                                    },
                                    {
                                        "name": "(No column name)"
                                    }
                                ]
                            },
                            "data": [
                                {
                                    "(No column name)": "10-08-2023"
                                }
                            ]
                        },
                        "text/html": [
                            "<table>",
                            "<tr><th>(No column name)</th><th>(No column name)</th></tr>",
                            "<tr><td>2023-08-10 12:56:29.450</td><td>10-08-2023</td></tr>",
                            "</table>"
                        ]
                    }
                }
            ],
            "execution_count": 17
        }
    ]
}